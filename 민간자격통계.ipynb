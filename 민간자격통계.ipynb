{
  "nbformat": 4,
  "nbformat_minor": 0,
  "metadata": {
    "colab": {
      "provenance": [],
      "authorship_tag": "ABX9TyO65SIeuoz56Di4rbVrKq/T",
      "include_colab_link": true
    },
    "kernelspec": {
      "name": "python3",
      "display_name": "Python 3"
    },
    "language_info": {
      "name": "python"
    }
  },
  "cells": [
    {
      "cell_type": "markdown",
      "metadata": {
        "id": "view-in-github",
        "colab_type": "text"
      },
      "source": [
        "<a href=\"https://colab.research.google.com/github/galaxy-kim/Python_note_backup/blob/main/%EB%AF%BC%EA%B0%84%EC%9E%90%EA%B2%A9%ED%86%B5%EA%B3%84.ipynb\" target=\"_parent\"><img src=\"https://colab.research.google.com/assets/colab-badge.svg\" alt=\"Open In Colab\"/></a>"
      ]
    },
    {
      "cell_type": "code",
      "source": [
        "from google.colab import drive\n",
        "drive.mount('/content/drive')"
      ],
      "metadata": {
        "colab": {
          "base_uri": "https://localhost:8080/"
        },
        "id": "qB36tpF9yDo7",
        "outputId": "c3df203c-fd0e-425f-addf-04c698ae10bf"
      },
      "execution_count": 1,
      "outputs": [
        {
          "output_type": "stream",
          "name": "stdout",
          "text": [
            "Mounted at /content/drive\n"
          ]
        }
      ]
    },
    {
      "cell_type": "code",
      "execution_count": 2,
      "metadata": {
        "id": "aUnswJ7byBnB"
      },
      "outputs": [],
      "source": [
        "import pandas as pd"
      ]
    },
    {
      "cell_type": "markdown",
      "source": [
        "### 전체 민간자격증"
      ],
      "metadata": {
        "id": "PCRMzkTL3KE1"
      }
    },
    {
      "cell_type": "code",
      "source": [
        "m=pd.read_csv(\"/content/drive/MyDrive/Colab Notebooks/ubion_given_data/와우패스 분석용 데이터 수집/한국직업능력연구원_민간자격취득현황_20220906.csv\",encoding='cp949')\n",
        "m"
      ],
      "metadata": {
        "colab": {
          "base_uri": "https://localhost:8080/",
          "height": 854
        },
        "id": "jVQ_nYlPyIGE",
        "outputId": "2187c785-bc80-4511-c987-97b9d4443ef3"
      },
      "execution_count": 4,
      "outputs": [
        {
          "output_type": "execute_result",
          "data": {
            "text/plain": [
              "                등록번호               자격명               자격발급기관       주무부처 검정방식  \\\n",
              "0         '2008-0001         언어상호작용지도사            한국발표력연구학회        교육부  점수제   \n",
              "1         '2008-0001         언어상호작용지도사            한국발표력연구학회        교육부  점수제   \n",
              "2         '2008-0001         언어상호작용지도사            한국발표력연구학회        교육부  점수제   \n",
              "3         '2008-0002          리더스피치지도사            한국발표력연구학회        교육부  점수제   \n",
              "4         '2008-0002          리더스피치지도사            한국발표력연구학회        교육부  점수제   \n",
              "...              ...               ...                  ...        ...  ...   \n",
              "152642  '2021-006048          정리수납컨설턴트      사단법인 제주와이더블유씨에이    산업통상자원부  합격제   \n",
              "152643  '2021-006049           메타버스지도사        사단법인창의과학교육연구회  과학기술정보통신부  합격제   \n",
              "152644  '2021-006056  소프트웨어(SW·AI)교육강사  사단법인 지역소프트웨어산업발전협의회  과학기술정보통신부  합격제   \n",
              "152645  '2021-006056  소프트웨어(SW·AI)교육강사  사단법인 지역소프트웨어산업발전협의회  과학기술정보통신부  합격제   \n",
              "152646  '2021-006056  소프트웨어(SW·AI)교육강사  사단법인 지역소프트웨어산업발전협의회  과학기술정보통신부  합격제   \n",
              "\n",
              "        검정연도  등급  총검정횟수  총접수자수  총응시자수  총취득자수    합격률  \n",
              "0       2017  1급      0      0      0      0    0.0  \n",
              "1       2017  2급      0      0      0      0    0.0  \n",
              "2       2017  3급      0      0      0      0    0.0  \n",
              "3       2017  1급      0      0      0      0    0.0  \n",
              "4       2017  2급      0      0      0      0    0.0  \n",
              "...      ...  ..    ...    ...    ...    ...    ...  \n",
              "152642  2021  2급      0      0      0      0    0.0  \n",
              "152643  2021  1급      1     34     34     34  100.0  \n",
              "152644  2021  1급      0      0      0      0    0.0  \n",
              "152645  2021  2급      0      0      0      0    0.0  \n",
              "152646  2021  3급      0      0      0      0    0.0  \n",
              "\n",
              "[152647 rows x 12 columns]"
            ],
            "text/html": [
              "\n",
              "  <div id=\"df-594a5cfd-ff47-4b46-bd80-0774708b13d9\">\n",
              "    <div class=\"colab-df-container\">\n",
              "      <div>\n",
              "<style scoped>\n",
              "    .dataframe tbody tr th:only-of-type {\n",
              "        vertical-align: middle;\n",
              "    }\n",
              "\n",
              "    .dataframe tbody tr th {\n",
              "        vertical-align: top;\n",
              "    }\n",
              "\n",
              "    .dataframe thead th {\n",
              "        text-align: right;\n",
              "    }\n",
              "</style>\n",
              "<table border=\"1\" class=\"dataframe\">\n",
              "  <thead>\n",
              "    <tr style=\"text-align: right;\">\n",
              "      <th></th>\n",
              "      <th>등록번호</th>\n",
              "      <th>자격명</th>\n",
              "      <th>자격발급기관</th>\n",
              "      <th>주무부처</th>\n",
              "      <th>검정방식</th>\n",
              "      <th>검정연도</th>\n",
              "      <th>등급</th>\n",
              "      <th>총검정횟수</th>\n",
              "      <th>총접수자수</th>\n",
              "      <th>총응시자수</th>\n",
              "      <th>총취득자수</th>\n",
              "      <th>합격률</th>\n",
              "    </tr>\n",
              "  </thead>\n",
              "  <tbody>\n",
              "    <tr>\n",
              "      <th>0</th>\n",
              "      <td>'2008-0001</td>\n",
              "      <td>언어상호작용지도사</td>\n",
              "      <td>한국발표력연구학회</td>\n",
              "      <td>교육부</td>\n",
              "      <td>점수제</td>\n",
              "      <td>2017</td>\n",
              "      <td>1급</td>\n",
              "      <td>0</td>\n",
              "      <td>0</td>\n",
              "      <td>0</td>\n",
              "      <td>0</td>\n",
              "      <td>0.0</td>\n",
              "    </tr>\n",
              "    <tr>\n",
              "      <th>1</th>\n",
              "      <td>'2008-0001</td>\n",
              "      <td>언어상호작용지도사</td>\n",
              "      <td>한국발표력연구학회</td>\n",
              "      <td>교육부</td>\n",
              "      <td>점수제</td>\n",
              "      <td>2017</td>\n",
              "      <td>2급</td>\n",
              "      <td>0</td>\n",
              "      <td>0</td>\n",
              "      <td>0</td>\n",
              "      <td>0</td>\n",
              "      <td>0.0</td>\n",
              "    </tr>\n",
              "    <tr>\n",
              "      <th>2</th>\n",
              "      <td>'2008-0001</td>\n",
              "      <td>언어상호작용지도사</td>\n",
              "      <td>한국발표력연구학회</td>\n",
              "      <td>교육부</td>\n",
              "      <td>점수제</td>\n",
              "      <td>2017</td>\n",
              "      <td>3급</td>\n",
              "      <td>0</td>\n",
              "      <td>0</td>\n",
              "      <td>0</td>\n",
              "      <td>0</td>\n",
              "      <td>0.0</td>\n",
              "    </tr>\n",
              "    <tr>\n",
              "      <th>3</th>\n",
              "      <td>'2008-0002</td>\n",
              "      <td>리더스피치지도사</td>\n",
              "      <td>한국발표력연구학회</td>\n",
              "      <td>교육부</td>\n",
              "      <td>점수제</td>\n",
              "      <td>2017</td>\n",
              "      <td>1급</td>\n",
              "      <td>0</td>\n",
              "      <td>0</td>\n",
              "      <td>0</td>\n",
              "      <td>0</td>\n",
              "      <td>0.0</td>\n",
              "    </tr>\n",
              "    <tr>\n",
              "      <th>4</th>\n",
              "      <td>'2008-0002</td>\n",
              "      <td>리더스피치지도사</td>\n",
              "      <td>한국발표력연구학회</td>\n",
              "      <td>교육부</td>\n",
              "      <td>점수제</td>\n",
              "      <td>2017</td>\n",
              "      <td>2급</td>\n",
              "      <td>0</td>\n",
              "      <td>0</td>\n",
              "      <td>0</td>\n",
              "      <td>0</td>\n",
              "      <td>0.0</td>\n",
              "    </tr>\n",
              "    <tr>\n",
              "      <th>...</th>\n",
              "      <td>...</td>\n",
              "      <td>...</td>\n",
              "      <td>...</td>\n",
              "      <td>...</td>\n",
              "      <td>...</td>\n",
              "      <td>...</td>\n",
              "      <td>...</td>\n",
              "      <td>...</td>\n",
              "      <td>...</td>\n",
              "      <td>...</td>\n",
              "      <td>...</td>\n",
              "      <td>...</td>\n",
              "    </tr>\n",
              "    <tr>\n",
              "      <th>152642</th>\n",
              "      <td>'2021-006048</td>\n",
              "      <td>정리수납컨설턴트</td>\n",
              "      <td>사단법인 제주와이더블유씨에이</td>\n",
              "      <td>산업통상자원부</td>\n",
              "      <td>합격제</td>\n",
              "      <td>2021</td>\n",
              "      <td>2급</td>\n",
              "      <td>0</td>\n",
              "      <td>0</td>\n",
              "      <td>0</td>\n",
              "      <td>0</td>\n",
              "      <td>0.0</td>\n",
              "    </tr>\n",
              "    <tr>\n",
              "      <th>152643</th>\n",
              "      <td>'2021-006049</td>\n",
              "      <td>메타버스지도사</td>\n",
              "      <td>사단법인창의과학교육연구회</td>\n",
              "      <td>과학기술정보통신부</td>\n",
              "      <td>합격제</td>\n",
              "      <td>2021</td>\n",
              "      <td>1급</td>\n",
              "      <td>1</td>\n",
              "      <td>34</td>\n",
              "      <td>34</td>\n",
              "      <td>34</td>\n",
              "      <td>100.0</td>\n",
              "    </tr>\n",
              "    <tr>\n",
              "      <th>152644</th>\n",
              "      <td>'2021-006056</td>\n",
              "      <td>소프트웨어(SW·AI)교육강사</td>\n",
              "      <td>사단법인 지역소프트웨어산업발전협의회</td>\n",
              "      <td>과학기술정보통신부</td>\n",
              "      <td>합격제</td>\n",
              "      <td>2021</td>\n",
              "      <td>1급</td>\n",
              "      <td>0</td>\n",
              "      <td>0</td>\n",
              "      <td>0</td>\n",
              "      <td>0</td>\n",
              "      <td>0.0</td>\n",
              "    </tr>\n",
              "    <tr>\n",
              "      <th>152645</th>\n",
              "      <td>'2021-006056</td>\n",
              "      <td>소프트웨어(SW·AI)교육강사</td>\n",
              "      <td>사단법인 지역소프트웨어산업발전협의회</td>\n",
              "      <td>과학기술정보통신부</td>\n",
              "      <td>합격제</td>\n",
              "      <td>2021</td>\n",
              "      <td>2급</td>\n",
              "      <td>0</td>\n",
              "      <td>0</td>\n",
              "      <td>0</td>\n",
              "      <td>0</td>\n",
              "      <td>0.0</td>\n",
              "    </tr>\n",
              "    <tr>\n",
              "      <th>152646</th>\n",
              "      <td>'2021-006056</td>\n",
              "      <td>소프트웨어(SW·AI)교육강사</td>\n",
              "      <td>사단법인 지역소프트웨어산업발전협의회</td>\n",
              "      <td>과학기술정보통신부</td>\n",
              "      <td>합격제</td>\n",
              "      <td>2021</td>\n",
              "      <td>3급</td>\n",
              "      <td>0</td>\n",
              "      <td>0</td>\n",
              "      <td>0</td>\n",
              "      <td>0</td>\n",
              "      <td>0.0</td>\n",
              "    </tr>\n",
              "  </tbody>\n",
              "</table>\n",
              "<p>152647 rows × 12 columns</p>\n",
              "</div>\n",
              "      <button class=\"colab-df-convert\" onclick=\"convertToInteractive('df-594a5cfd-ff47-4b46-bd80-0774708b13d9')\"\n",
              "              title=\"Convert this dataframe to an interactive table.\"\n",
              "              style=\"display:none;\">\n",
              "        \n",
              "  <svg xmlns=\"http://www.w3.org/2000/svg\" height=\"24px\"viewBox=\"0 0 24 24\"\n",
              "       width=\"24px\">\n",
              "    <path d=\"M0 0h24v24H0V0z\" fill=\"none\"/>\n",
              "    <path d=\"M18.56 5.44l.94 2.06.94-2.06 2.06-.94-2.06-.94-.94-2.06-.94 2.06-2.06.94zm-11 1L8.5 8.5l.94-2.06 2.06-.94-2.06-.94L8.5 2.5l-.94 2.06-2.06.94zm10 10l.94 2.06.94-2.06 2.06-.94-2.06-.94-.94-2.06-.94 2.06-2.06.94z\"/><path d=\"M17.41 7.96l-1.37-1.37c-.4-.4-.92-.59-1.43-.59-.52 0-1.04.2-1.43.59L10.3 9.45l-7.72 7.72c-.78.78-.78 2.05 0 2.83L4 21.41c.39.39.9.59 1.41.59.51 0 1.02-.2 1.41-.59l7.78-7.78 2.81-2.81c.8-.78.8-2.07 0-2.86zM5.41 20L4 18.59l7.72-7.72 1.47 1.35L5.41 20z\"/>\n",
              "  </svg>\n",
              "      </button>\n",
              "      \n",
              "  <style>\n",
              "    .colab-df-container {\n",
              "      display:flex;\n",
              "      flex-wrap:wrap;\n",
              "      gap: 12px;\n",
              "    }\n",
              "\n",
              "    .colab-df-convert {\n",
              "      background-color: #E8F0FE;\n",
              "      border: none;\n",
              "      border-radius: 50%;\n",
              "      cursor: pointer;\n",
              "      display: none;\n",
              "      fill: #1967D2;\n",
              "      height: 32px;\n",
              "      padding: 0 0 0 0;\n",
              "      width: 32px;\n",
              "    }\n",
              "\n",
              "    .colab-df-convert:hover {\n",
              "      background-color: #E2EBFA;\n",
              "      box-shadow: 0px 1px 2px rgba(60, 64, 67, 0.3), 0px 1px 3px 1px rgba(60, 64, 67, 0.15);\n",
              "      fill: #174EA6;\n",
              "    }\n",
              "\n",
              "    [theme=dark] .colab-df-convert {\n",
              "      background-color: #3B4455;\n",
              "      fill: #D2E3FC;\n",
              "    }\n",
              "\n",
              "    [theme=dark] .colab-df-convert:hover {\n",
              "      background-color: #434B5C;\n",
              "      box-shadow: 0px 1px 3px 1px rgba(0, 0, 0, 0.15);\n",
              "      filter: drop-shadow(0px 1px 2px rgba(0, 0, 0, 0.3));\n",
              "      fill: #FFFFFF;\n",
              "    }\n",
              "  </style>\n",
              "\n",
              "      <script>\n",
              "        const buttonEl =\n",
              "          document.querySelector('#df-594a5cfd-ff47-4b46-bd80-0774708b13d9 button.colab-df-convert');\n",
              "        buttonEl.style.display =\n",
              "          google.colab.kernel.accessAllowed ? 'block' : 'none';\n",
              "\n",
              "        async function convertToInteractive(key) {\n",
              "          const element = document.querySelector('#df-594a5cfd-ff47-4b46-bd80-0774708b13d9');\n",
              "          const dataTable =\n",
              "            await google.colab.kernel.invokeFunction('convertToInteractive',\n",
              "                                                     [key], {});\n",
              "          if (!dataTable) return;\n",
              "\n",
              "          const docLinkHtml = 'Like what you see? Visit the ' +\n",
              "            '<a target=\"_blank\" href=https://colab.research.google.com/notebooks/data_table.ipynb>data table notebook</a>'\n",
              "            + ' to learn more about interactive tables.';\n",
              "          element.innerHTML = '';\n",
              "          dataTable['output_type'] = 'display_data';\n",
              "          await google.colab.output.renderOutput(dataTable, element);\n",
              "          const docLink = document.createElement('div');\n",
              "          docLink.innerHTML = docLinkHtml;\n",
              "          element.appendChild(docLink);\n",
              "        }\n",
              "      </script>\n",
              "    </div>\n",
              "  </div>\n",
              "  "
            ]
          },
          "metadata": {},
          "execution_count": 4
        }
      ]
    },
    {
      "cell_type": "code",
      "source": [
        "m_19 = m[m['검정연도'] == 2019]\n",
        "m_19"
      ],
      "metadata": {
        "colab": {
          "base_uri": "https://localhost:8080/",
          "height": 803
        },
        "id": "WNTex9rSyWdC",
        "outputId": "636fd91b-76a6-4814-cef9-3f90d153cdab"
      },
      "execution_count": 5,
      "outputs": [
        {
          "output_type": "execute_result",
          "data": {
            "text/plain": [
              "                등록번호           자격명        자격발급기관     주무부처 검정방식  검정연도    등급  \\\n",
              "18        '2008-0003        리더십지도사   한국교육문화예술진흥원      교육부  합격제  2019    1급   \n",
              "19        '2008-0003        리더십지도사   한국교육문화예술진흥원      교육부  합격제  2019    2급   \n",
              "20        '2008-0003        리더십지도사   한국교육문화예술진흥원      교육부  합격제  2019    3급   \n",
              "65        '2008-0013         국제무역사        한국무역협회  산업통상자원부  합격제  2019    1급   \n",
              "66        '2008-0013         국제무역사        한국무역협회  산업통상자원부  합격제  2019    2급   \n",
              "...              ...           ...           ...      ...  ...   ...   ...   \n",
              "145711  '2019-006866    생활기술자격(목공)  주식회사 성요셉목수학교      산림청  합격제  2019    3급   \n",
              "145718  '2019-006867  사회적경제전문강사지도사    참바른사회적협동조합    기획재정부  합격제  2019  단일등급   \n",
              "145720  '2019-006868      디지털경영관리자   주식회사 데이원컴퍼니  중소벤처기업부  합격제  2019    2급   \n",
              "145721  '2019-006868      디지털경영관리자   주식회사 데이원컴퍼니  중소벤처기업부  합격제  2019    1급   \n",
              "145724  '2019-006869    유아숲체험교육지도사    환경교육연구지원센터      산림청  합격제  2019  등급없음   \n",
              "\n",
              "        총검정횟수  총접수자수  총응시자수  총취득자수    합격률  \n",
              "18          0      0      0      0   0.00  \n",
              "19          0      0      0      0   0.00  \n",
              "20          0      0      0      0   0.00  \n",
              "65          2   8970   7180   1878  26.16  \n",
              "66          1   2144   1576    826  52.41  \n",
              "...       ...    ...    ...    ...    ...  \n",
              "145711      0      0      0      0   0.00  \n",
              "145718      0      0      0      0   0.00  \n",
              "145720      0      0      0      0   0.00  \n",
              "145721      0      0      0      0   0.00  \n",
              "145724      0      0      0      0   0.00  \n",
              "\n",
              "[25991 rows x 12 columns]"
            ],
            "text/html": [
              "\n",
              "  <div id=\"df-bc8f644b-bfb8-463d-b6da-fec3bae19c1a\">\n",
              "    <div class=\"colab-df-container\">\n",
              "      <div>\n",
              "<style scoped>\n",
              "    .dataframe tbody tr th:only-of-type {\n",
              "        vertical-align: middle;\n",
              "    }\n",
              "\n",
              "    .dataframe tbody tr th {\n",
              "        vertical-align: top;\n",
              "    }\n",
              "\n",
              "    .dataframe thead th {\n",
              "        text-align: right;\n",
              "    }\n",
              "</style>\n",
              "<table border=\"1\" class=\"dataframe\">\n",
              "  <thead>\n",
              "    <tr style=\"text-align: right;\">\n",
              "      <th></th>\n",
              "      <th>등록번호</th>\n",
              "      <th>자격명</th>\n",
              "      <th>자격발급기관</th>\n",
              "      <th>주무부처</th>\n",
              "      <th>검정방식</th>\n",
              "      <th>검정연도</th>\n",
              "      <th>등급</th>\n",
              "      <th>총검정횟수</th>\n",
              "      <th>총접수자수</th>\n",
              "      <th>총응시자수</th>\n",
              "      <th>총취득자수</th>\n",
              "      <th>합격률</th>\n",
              "    </tr>\n",
              "  </thead>\n",
              "  <tbody>\n",
              "    <tr>\n",
              "      <th>18</th>\n",
              "      <td>'2008-0003</td>\n",
              "      <td>리더십지도사</td>\n",
              "      <td>한국교육문화예술진흥원</td>\n",
              "      <td>교육부</td>\n",
              "      <td>합격제</td>\n",
              "      <td>2019</td>\n",
              "      <td>1급</td>\n",
              "      <td>0</td>\n",
              "      <td>0</td>\n",
              "      <td>0</td>\n",
              "      <td>0</td>\n",
              "      <td>0.00</td>\n",
              "    </tr>\n",
              "    <tr>\n",
              "      <th>19</th>\n",
              "      <td>'2008-0003</td>\n",
              "      <td>리더십지도사</td>\n",
              "      <td>한국교육문화예술진흥원</td>\n",
              "      <td>교육부</td>\n",
              "      <td>합격제</td>\n",
              "      <td>2019</td>\n",
              "      <td>2급</td>\n",
              "      <td>0</td>\n",
              "      <td>0</td>\n",
              "      <td>0</td>\n",
              "      <td>0</td>\n",
              "      <td>0.00</td>\n",
              "    </tr>\n",
              "    <tr>\n",
              "      <th>20</th>\n",
              "      <td>'2008-0003</td>\n",
              "      <td>리더십지도사</td>\n",
              "      <td>한국교육문화예술진흥원</td>\n",
              "      <td>교육부</td>\n",
              "      <td>합격제</td>\n",
              "      <td>2019</td>\n",
              "      <td>3급</td>\n",
              "      <td>0</td>\n",
              "      <td>0</td>\n",
              "      <td>0</td>\n",
              "      <td>0</td>\n",
              "      <td>0.00</td>\n",
              "    </tr>\n",
              "    <tr>\n",
              "      <th>65</th>\n",
              "      <td>'2008-0013</td>\n",
              "      <td>국제무역사</td>\n",
              "      <td>한국무역협회</td>\n",
              "      <td>산업통상자원부</td>\n",
              "      <td>합격제</td>\n",
              "      <td>2019</td>\n",
              "      <td>1급</td>\n",
              "      <td>2</td>\n",
              "      <td>8970</td>\n",
              "      <td>7180</td>\n",
              "      <td>1878</td>\n",
              "      <td>26.16</td>\n",
              "    </tr>\n",
              "    <tr>\n",
              "      <th>66</th>\n",
              "      <td>'2008-0013</td>\n",
              "      <td>국제무역사</td>\n",
              "      <td>한국무역협회</td>\n",
              "      <td>산업통상자원부</td>\n",
              "      <td>합격제</td>\n",
              "      <td>2019</td>\n",
              "      <td>2급</td>\n",
              "      <td>1</td>\n",
              "      <td>2144</td>\n",
              "      <td>1576</td>\n",
              "      <td>826</td>\n",
              "      <td>52.41</td>\n",
              "    </tr>\n",
              "    <tr>\n",
              "      <th>...</th>\n",
              "      <td>...</td>\n",
              "      <td>...</td>\n",
              "      <td>...</td>\n",
              "      <td>...</td>\n",
              "      <td>...</td>\n",
              "      <td>...</td>\n",
              "      <td>...</td>\n",
              "      <td>...</td>\n",
              "      <td>...</td>\n",
              "      <td>...</td>\n",
              "      <td>...</td>\n",
              "      <td>...</td>\n",
              "    </tr>\n",
              "    <tr>\n",
              "      <th>145711</th>\n",
              "      <td>'2019-006866</td>\n",
              "      <td>생활기술자격(목공)</td>\n",
              "      <td>주식회사 성요셉목수학교</td>\n",
              "      <td>산림청</td>\n",
              "      <td>합격제</td>\n",
              "      <td>2019</td>\n",
              "      <td>3급</td>\n",
              "      <td>0</td>\n",
              "      <td>0</td>\n",
              "      <td>0</td>\n",
              "      <td>0</td>\n",
              "      <td>0.00</td>\n",
              "    </tr>\n",
              "    <tr>\n",
              "      <th>145718</th>\n",
              "      <td>'2019-006867</td>\n",
              "      <td>사회적경제전문강사지도사</td>\n",
              "      <td>참바른사회적협동조합</td>\n",
              "      <td>기획재정부</td>\n",
              "      <td>합격제</td>\n",
              "      <td>2019</td>\n",
              "      <td>단일등급</td>\n",
              "      <td>0</td>\n",
              "      <td>0</td>\n",
              "      <td>0</td>\n",
              "      <td>0</td>\n",
              "      <td>0.00</td>\n",
              "    </tr>\n",
              "    <tr>\n",
              "      <th>145720</th>\n",
              "      <td>'2019-006868</td>\n",
              "      <td>디지털경영관리자</td>\n",
              "      <td>주식회사 데이원컴퍼니</td>\n",
              "      <td>중소벤처기업부</td>\n",
              "      <td>합격제</td>\n",
              "      <td>2019</td>\n",
              "      <td>2급</td>\n",
              "      <td>0</td>\n",
              "      <td>0</td>\n",
              "      <td>0</td>\n",
              "      <td>0</td>\n",
              "      <td>0.00</td>\n",
              "    </tr>\n",
              "    <tr>\n",
              "      <th>145721</th>\n",
              "      <td>'2019-006868</td>\n",
              "      <td>디지털경영관리자</td>\n",
              "      <td>주식회사 데이원컴퍼니</td>\n",
              "      <td>중소벤처기업부</td>\n",
              "      <td>합격제</td>\n",
              "      <td>2019</td>\n",
              "      <td>1급</td>\n",
              "      <td>0</td>\n",
              "      <td>0</td>\n",
              "      <td>0</td>\n",
              "      <td>0</td>\n",
              "      <td>0.00</td>\n",
              "    </tr>\n",
              "    <tr>\n",
              "      <th>145724</th>\n",
              "      <td>'2019-006869</td>\n",
              "      <td>유아숲체험교육지도사</td>\n",
              "      <td>환경교육연구지원센터</td>\n",
              "      <td>산림청</td>\n",
              "      <td>합격제</td>\n",
              "      <td>2019</td>\n",
              "      <td>등급없음</td>\n",
              "      <td>0</td>\n",
              "      <td>0</td>\n",
              "      <td>0</td>\n",
              "      <td>0</td>\n",
              "      <td>0.00</td>\n",
              "    </tr>\n",
              "  </tbody>\n",
              "</table>\n",
              "<p>25991 rows × 12 columns</p>\n",
              "</div>\n",
              "      <button class=\"colab-df-convert\" onclick=\"convertToInteractive('df-bc8f644b-bfb8-463d-b6da-fec3bae19c1a')\"\n",
              "              title=\"Convert this dataframe to an interactive table.\"\n",
              "              style=\"display:none;\">\n",
              "        \n",
              "  <svg xmlns=\"http://www.w3.org/2000/svg\" height=\"24px\"viewBox=\"0 0 24 24\"\n",
              "       width=\"24px\">\n",
              "    <path d=\"M0 0h24v24H0V0z\" fill=\"none\"/>\n",
              "    <path d=\"M18.56 5.44l.94 2.06.94-2.06 2.06-.94-2.06-.94-.94-2.06-.94 2.06-2.06.94zm-11 1L8.5 8.5l.94-2.06 2.06-.94-2.06-.94L8.5 2.5l-.94 2.06-2.06.94zm10 10l.94 2.06.94-2.06 2.06-.94-2.06-.94-.94-2.06-.94 2.06-2.06.94z\"/><path d=\"M17.41 7.96l-1.37-1.37c-.4-.4-.92-.59-1.43-.59-.52 0-1.04.2-1.43.59L10.3 9.45l-7.72 7.72c-.78.78-.78 2.05 0 2.83L4 21.41c.39.39.9.59 1.41.59.51 0 1.02-.2 1.41-.59l7.78-7.78 2.81-2.81c.8-.78.8-2.07 0-2.86zM5.41 20L4 18.59l7.72-7.72 1.47 1.35L5.41 20z\"/>\n",
              "  </svg>\n",
              "      </button>\n",
              "      \n",
              "  <style>\n",
              "    .colab-df-container {\n",
              "      display:flex;\n",
              "      flex-wrap:wrap;\n",
              "      gap: 12px;\n",
              "    }\n",
              "\n",
              "    .colab-df-convert {\n",
              "      background-color: #E8F0FE;\n",
              "      border: none;\n",
              "      border-radius: 50%;\n",
              "      cursor: pointer;\n",
              "      display: none;\n",
              "      fill: #1967D2;\n",
              "      height: 32px;\n",
              "      padding: 0 0 0 0;\n",
              "      width: 32px;\n",
              "    }\n",
              "\n",
              "    .colab-df-convert:hover {\n",
              "      background-color: #E2EBFA;\n",
              "      box-shadow: 0px 1px 2px rgba(60, 64, 67, 0.3), 0px 1px 3px 1px rgba(60, 64, 67, 0.15);\n",
              "      fill: #174EA6;\n",
              "    }\n",
              "\n",
              "    [theme=dark] .colab-df-convert {\n",
              "      background-color: #3B4455;\n",
              "      fill: #D2E3FC;\n",
              "    }\n",
              "\n",
              "    [theme=dark] .colab-df-convert:hover {\n",
              "      background-color: #434B5C;\n",
              "      box-shadow: 0px 1px 3px 1px rgba(0, 0, 0, 0.15);\n",
              "      filter: drop-shadow(0px 1px 2px rgba(0, 0, 0, 0.3));\n",
              "      fill: #FFFFFF;\n",
              "    }\n",
              "  </style>\n",
              "\n",
              "      <script>\n",
              "        const buttonEl =\n",
              "          document.querySelector('#df-bc8f644b-bfb8-463d-b6da-fec3bae19c1a button.colab-df-convert');\n",
              "        buttonEl.style.display =\n",
              "          google.colab.kernel.accessAllowed ? 'block' : 'none';\n",
              "\n",
              "        async function convertToInteractive(key) {\n",
              "          const element = document.querySelector('#df-bc8f644b-bfb8-463d-b6da-fec3bae19c1a');\n",
              "          const dataTable =\n",
              "            await google.colab.kernel.invokeFunction('convertToInteractive',\n",
              "                                                     [key], {});\n",
              "          if (!dataTable) return;\n",
              "\n",
              "          const docLinkHtml = 'Like what you see? Visit the ' +\n",
              "            '<a target=\"_blank\" href=https://colab.research.google.com/notebooks/data_table.ipynb>data table notebook</a>'\n",
              "            + ' to learn more about interactive tables.';\n",
              "          element.innerHTML = '';\n",
              "          dataTable['output_type'] = 'display_data';\n",
              "          await google.colab.output.renderOutput(dataTable, element);\n",
              "          const docLink = document.createElement('div');\n",
              "          docLink.innerHTML = docLinkHtml;\n",
              "          element.appendChild(docLink);\n",
              "        }\n",
              "      </script>\n",
              "    </div>\n",
              "  </div>\n",
              "  "
            ]
          },
          "metadata": {},
          "execution_count": 5
        }
      ]
    },
    {
      "cell_type": "code",
      "source": [
        "m_20 = m[m['검정연도'] == 2020]\n",
        "m_20"
      ],
      "metadata": {
        "colab": {
          "base_uri": "https://localhost:8080/",
          "height": 701
        },
        "id": "Joa20b1Szo7l",
        "outputId": "7160acde-b59f-4aaa-b039-5a38b7222623"
      },
      "execution_count": 6,
      "outputs": [
        {
          "output_type": "execute_result",
          "data": {
            "text/plain": [
              "                등록번호        자격명       자격발급기관     주무부처 검정방식  검정연도    등급  총검정횟수  \\\n",
              "67        '2008-0013      국제무역사       한국무역협회  산업통상자원부  합격제  2020    1급      2   \n",
              "68        '2008-0013      국제무역사       한국무역협회  산업통상자원부  합격제  2020    2급      1   \n",
              "155       '2008-0024      독서지도사  (사)한국독서문화재단      교육부  합격제  2020    2급      8   \n",
              "156       '2008-0024      독서지도사  (사)한국독서문화재단      교육부  합격제  2020    1급      8   \n",
              "168       '2008-0025      논술지도사  (사)한국독서문화재단      교육부  합격제  2020  등급없음      8   \n",
              "...              ...        ...          ...      ...  ...   ...   ...    ...   \n",
              "150868  '2020-006041   비대면교육전문가   커넥트밸류 주식회사      교육부  합격제  2020    2급      2   \n",
              "150869  '2020-006041   비대면교육전문가   커넥트밸류 주식회사      교육부  합격제  2020    3급      0   \n",
              "150875  '2020-006053  아동미술활동지도사    한국문화예술개발원      교육부  합격제  2020    1급      0   \n",
              "150876  '2020-006053  아동미술활동지도사    한국문화예술개발원      교육부  합격제  2020    2급      0   \n",
              "150877  '2020-006053  아동미술활동지도사    한국문화예술개발원      교육부  합격제  2020    3급      0   \n",
              "\n",
              "        총접수자수  총응시자수  총취득자수     합격률  \n",
              "67       9494   7703   2313   30.03  \n",
              "68       1469   1213    714   58.86  \n",
              "155         5      4      4  100.00  \n",
              "156        10     10      8   80.00  \n",
              "168         2      2      1   50.00  \n",
              "...       ...    ...    ...     ...  \n",
              "150868      5      5      3   60.00  \n",
              "150869      0      0      0    0.00  \n",
              "150875      0      0      0    0.00  \n",
              "150876      0      0      0    0.00  \n",
              "150877      0      0      0    0.00  \n",
              "\n",
              "[21987 rows x 12 columns]"
            ],
            "text/html": [
              "\n",
              "  <div id=\"df-6fff683e-396a-4159-98af-5eeb1c8b3727\">\n",
              "    <div class=\"colab-df-container\">\n",
              "      <div>\n",
              "<style scoped>\n",
              "    .dataframe tbody tr th:only-of-type {\n",
              "        vertical-align: middle;\n",
              "    }\n",
              "\n",
              "    .dataframe tbody tr th {\n",
              "        vertical-align: top;\n",
              "    }\n",
              "\n",
              "    .dataframe thead th {\n",
              "        text-align: right;\n",
              "    }\n",
              "</style>\n",
              "<table border=\"1\" class=\"dataframe\">\n",
              "  <thead>\n",
              "    <tr style=\"text-align: right;\">\n",
              "      <th></th>\n",
              "      <th>등록번호</th>\n",
              "      <th>자격명</th>\n",
              "      <th>자격발급기관</th>\n",
              "      <th>주무부처</th>\n",
              "      <th>검정방식</th>\n",
              "      <th>검정연도</th>\n",
              "      <th>등급</th>\n",
              "      <th>총검정횟수</th>\n",
              "      <th>총접수자수</th>\n",
              "      <th>총응시자수</th>\n",
              "      <th>총취득자수</th>\n",
              "      <th>합격률</th>\n",
              "    </tr>\n",
              "  </thead>\n",
              "  <tbody>\n",
              "    <tr>\n",
              "      <th>67</th>\n",
              "      <td>'2008-0013</td>\n",
              "      <td>국제무역사</td>\n",
              "      <td>한국무역협회</td>\n",
              "      <td>산업통상자원부</td>\n",
              "      <td>합격제</td>\n",
              "      <td>2020</td>\n",
              "      <td>1급</td>\n",
              "      <td>2</td>\n",
              "      <td>9494</td>\n",
              "      <td>7703</td>\n",
              "      <td>2313</td>\n",
              "      <td>30.03</td>\n",
              "    </tr>\n",
              "    <tr>\n",
              "      <th>68</th>\n",
              "      <td>'2008-0013</td>\n",
              "      <td>국제무역사</td>\n",
              "      <td>한국무역협회</td>\n",
              "      <td>산업통상자원부</td>\n",
              "      <td>합격제</td>\n",
              "      <td>2020</td>\n",
              "      <td>2급</td>\n",
              "      <td>1</td>\n",
              "      <td>1469</td>\n",
              "      <td>1213</td>\n",
              "      <td>714</td>\n",
              "      <td>58.86</td>\n",
              "    </tr>\n",
              "    <tr>\n",
              "      <th>155</th>\n",
              "      <td>'2008-0024</td>\n",
              "      <td>독서지도사</td>\n",
              "      <td>(사)한국독서문화재단</td>\n",
              "      <td>교육부</td>\n",
              "      <td>합격제</td>\n",
              "      <td>2020</td>\n",
              "      <td>2급</td>\n",
              "      <td>8</td>\n",
              "      <td>5</td>\n",
              "      <td>4</td>\n",
              "      <td>4</td>\n",
              "      <td>100.00</td>\n",
              "    </tr>\n",
              "    <tr>\n",
              "      <th>156</th>\n",
              "      <td>'2008-0024</td>\n",
              "      <td>독서지도사</td>\n",
              "      <td>(사)한국독서문화재단</td>\n",
              "      <td>교육부</td>\n",
              "      <td>합격제</td>\n",
              "      <td>2020</td>\n",
              "      <td>1급</td>\n",
              "      <td>8</td>\n",
              "      <td>10</td>\n",
              "      <td>10</td>\n",
              "      <td>8</td>\n",
              "      <td>80.00</td>\n",
              "    </tr>\n",
              "    <tr>\n",
              "      <th>168</th>\n",
              "      <td>'2008-0025</td>\n",
              "      <td>논술지도사</td>\n",
              "      <td>(사)한국독서문화재단</td>\n",
              "      <td>교육부</td>\n",
              "      <td>합격제</td>\n",
              "      <td>2020</td>\n",
              "      <td>등급없음</td>\n",
              "      <td>8</td>\n",
              "      <td>2</td>\n",
              "      <td>2</td>\n",
              "      <td>1</td>\n",
              "      <td>50.00</td>\n",
              "    </tr>\n",
              "    <tr>\n",
              "      <th>...</th>\n",
              "      <td>...</td>\n",
              "      <td>...</td>\n",
              "      <td>...</td>\n",
              "      <td>...</td>\n",
              "      <td>...</td>\n",
              "      <td>...</td>\n",
              "      <td>...</td>\n",
              "      <td>...</td>\n",
              "      <td>...</td>\n",
              "      <td>...</td>\n",
              "      <td>...</td>\n",
              "      <td>...</td>\n",
              "    </tr>\n",
              "    <tr>\n",
              "      <th>150868</th>\n",
              "      <td>'2020-006041</td>\n",
              "      <td>비대면교육전문가</td>\n",
              "      <td>커넥트밸류 주식회사</td>\n",
              "      <td>교육부</td>\n",
              "      <td>합격제</td>\n",
              "      <td>2020</td>\n",
              "      <td>2급</td>\n",
              "      <td>2</td>\n",
              "      <td>5</td>\n",
              "      <td>5</td>\n",
              "      <td>3</td>\n",
              "      <td>60.00</td>\n",
              "    </tr>\n",
              "    <tr>\n",
              "      <th>150869</th>\n",
              "      <td>'2020-006041</td>\n",
              "      <td>비대면교육전문가</td>\n",
              "      <td>커넥트밸류 주식회사</td>\n",
              "      <td>교육부</td>\n",
              "      <td>합격제</td>\n",
              "      <td>2020</td>\n",
              "      <td>3급</td>\n",
              "      <td>0</td>\n",
              "      <td>0</td>\n",
              "      <td>0</td>\n",
              "      <td>0</td>\n",
              "      <td>0.00</td>\n",
              "    </tr>\n",
              "    <tr>\n",
              "      <th>150875</th>\n",
              "      <td>'2020-006053</td>\n",
              "      <td>아동미술활동지도사</td>\n",
              "      <td>한국문화예술개발원</td>\n",
              "      <td>교육부</td>\n",
              "      <td>합격제</td>\n",
              "      <td>2020</td>\n",
              "      <td>1급</td>\n",
              "      <td>0</td>\n",
              "      <td>0</td>\n",
              "      <td>0</td>\n",
              "      <td>0</td>\n",
              "      <td>0.00</td>\n",
              "    </tr>\n",
              "    <tr>\n",
              "      <th>150876</th>\n",
              "      <td>'2020-006053</td>\n",
              "      <td>아동미술활동지도사</td>\n",
              "      <td>한국문화예술개발원</td>\n",
              "      <td>교육부</td>\n",
              "      <td>합격제</td>\n",
              "      <td>2020</td>\n",
              "      <td>2급</td>\n",
              "      <td>0</td>\n",
              "      <td>0</td>\n",
              "      <td>0</td>\n",
              "      <td>0</td>\n",
              "      <td>0.00</td>\n",
              "    </tr>\n",
              "    <tr>\n",
              "      <th>150877</th>\n",
              "      <td>'2020-006053</td>\n",
              "      <td>아동미술활동지도사</td>\n",
              "      <td>한국문화예술개발원</td>\n",
              "      <td>교육부</td>\n",
              "      <td>합격제</td>\n",
              "      <td>2020</td>\n",
              "      <td>3급</td>\n",
              "      <td>0</td>\n",
              "      <td>0</td>\n",
              "      <td>0</td>\n",
              "      <td>0</td>\n",
              "      <td>0.00</td>\n",
              "    </tr>\n",
              "  </tbody>\n",
              "</table>\n",
              "<p>21987 rows × 12 columns</p>\n",
              "</div>\n",
              "      <button class=\"colab-df-convert\" onclick=\"convertToInteractive('df-6fff683e-396a-4159-98af-5eeb1c8b3727')\"\n",
              "              title=\"Convert this dataframe to an interactive table.\"\n",
              "              style=\"display:none;\">\n",
              "        \n",
              "  <svg xmlns=\"http://www.w3.org/2000/svg\" height=\"24px\"viewBox=\"0 0 24 24\"\n",
              "       width=\"24px\">\n",
              "    <path d=\"M0 0h24v24H0V0z\" fill=\"none\"/>\n",
              "    <path d=\"M18.56 5.44l.94 2.06.94-2.06 2.06-.94-2.06-.94-.94-2.06-.94 2.06-2.06.94zm-11 1L8.5 8.5l.94-2.06 2.06-.94-2.06-.94L8.5 2.5l-.94 2.06-2.06.94zm10 10l.94 2.06.94-2.06 2.06-.94-2.06-.94-.94-2.06-.94 2.06-2.06.94z\"/><path d=\"M17.41 7.96l-1.37-1.37c-.4-.4-.92-.59-1.43-.59-.52 0-1.04.2-1.43.59L10.3 9.45l-7.72 7.72c-.78.78-.78 2.05 0 2.83L4 21.41c.39.39.9.59 1.41.59.51 0 1.02-.2 1.41-.59l7.78-7.78 2.81-2.81c.8-.78.8-2.07 0-2.86zM5.41 20L4 18.59l7.72-7.72 1.47 1.35L5.41 20z\"/>\n",
              "  </svg>\n",
              "      </button>\n",
              "      \n",
              "  <style>\n",
              "    .colab-df-container {\n",
              "      display:flex;\n",
              "      flex-wrap:wrap;\n",
              "      gap: 12px;\n",
              "    }\n",
              "\n",
              "    .colab-df-convert {\n",
              "      background-color: #E8F0FE;\n",
              "      border: none;\n",
              "      border-radius: 50%;\n",
              "      cursor: pointer;\n",
              "      display: none;\n",
              "      fill: #1967D2;\n",
              "      height: 32px;\n",
              "      padding: 0 0 0 0;\n",
              "      width: 32px;\n",
              "    }\n",
              "\n",
              "    .colab-df-convert:hover {\n",
              "      background-color: #E2EBFA;\n",
              "      box-shadow: 0px 1px 2px rgba(60, 64, 67, 0.3), 0px 1px 3px 1px rgba(60, 64, 67, 0.15);\n",
              "      fill: #174EA6;\n",
              "    }\n",
              "\n",
              "    [theme=dark] .colab-df-convert {\n",
              "      background-color: #3B4455;\n",
              "      fill: #D2E3FC;\n",
              "    }\n",
              "\n",
              "    [theme=dark] .colab-df-convert:hover {\n",
              "      background-color: #434B5C;\n",
              "      box-shadow: 0px 1px 3px 1px rgba(0, 0, 0, 0.15);\n",
              "      filter: drop-shadow(0px 1px 2px rgba(0, 0, 0, 0.3));\n",
              "      fill: #FFFFFF;\n",
              "    }\n",
              "  </style>\n",
              "\n",
              "      <script>\n",
              "        const buttonEl =\n",
              "          document.querySelector('#df-6fff683e-396a-4159-98af-5eeb1c8b3727 button.colab-df-convert');\n",
              "        buttonEl.style.display =\n",
              "          google.colab.kernel.accessAllowed ? 'block' : 'none';\n",
              "\n",
              "        async function convertToInteractive(key) {\n",
              "          const element = document.querySelector('#df-6fff683e-396a-4159-98af-5eeb1c8b3727');\n",
              "          const dataTable =\n",
              "            await google.colab.kernel.invokeFunction('convertToInteractive',\n",
              "                                                     [key], {});\n",
              "          if (!dataTable) return;\n",
              "\n",
              "          const docLinkHtml = 'Like what you see? Visit the ' +\n",
              "            '<a target=\"_blank\" href=https://colab.research.google.com/notebooks/data_table.ipynb>data table notebook</a>'\n",
              "            + ' to learn more about interactive tables.';\n",
              "          element.innerHTML = '';\n",
              "          dataTable['output_type'] = 'display_data';\n",
              "          await google.colab.output.renderOutput(dataTable, element);\n",
              "          const docLink = document.createElement('div');\n",
              "          docLink.innerHTML = docLinkHtml;\n",
              "          element.appendChild(docLink);\n",
              "        }\n",
              "      </script>\n",
              "    </div>\n",
              "  </div>\n",
              "  "
            ]
          },
          "metadata": {},
          "execution_count": 6
        }
      ]
    },
    {
      "cell_type": "code",
      "source": [
        "sum_by_year1 = m.groupby('검정연도')['총접수자수'].sum()\n",
        "sum_by_year2 = m.groupby('검정연도')['총응시자수'].sum()\n",
        "sum_by_year3 = m.groupby('검정연도')['총취득자수'].sum()"
      ],
      "metadata": {
        "id": "oOcTnwvozt_l"
      },
      "execution_count": 7,
      "outputs": []
    },
    {
      "cell_type": "code",
      "source": [
        "sum_by_year1"
      ],
      "metadata": {
        "colab": {
          "base_uri": "https://localhost:8080/"
        },
        "id": "awSi9I9x0Jnd",
        "outputId": "1970b5a1-61d3-4626-cbb8-448d43b58edd"
      },
      "execution_count": 8,
      "outputs": [
        {
          "output_type": "execute_result",
          "data": {
            "text/plain": [
              "검정연도\n",
              "2008    1666787\n",
              "2009    1631354\n",
              "2010    1396050\n",
              "2011    2187252\n",
              "2012    2368444\n",
              "2013    2662194\n",
              "2014    2648079\n",
              "2015    4196544\n",
              "2016    3426911\n",
              "2017    3106110\n",
              "2018    3172042\n",
              "2019    3228310\n",
              "2020    2027558\n",
              "2021    1777966\n",
              "Name: 총접수자수, dtype: int64"
            ]
          },
          "metadata": {},
          "execution_count": 8
        }
      ]
    },
    {
      "cell_type": "code",
      "source": [
        "sum_by_year2"
      ],
      "metadata": {
        "colab": {
          "base_uri": "https://localhost:8080/"
        },
        "id": "bbUWRukD0LKQ",
        "outputId": "1a98fdf3-1b28-415d-9b64-d6b3e6421800"
      },
      "execution_count": 9,
      "outputs": [
        {
          "output_type": "execute_result",
          "data": {
            "text/plain": [
              "검정연도\n",
              "2008    3504052\n",
              "2009    1380378\n",
              "2010    1179415\n",
              "2011    1891417\n",
              "2012    2080514\n",
              "2013    2326345\n",
              "2014    2323064\n",
              "2015    2375582\n",
              "2016    2844464\n",
              "2017    2729381\n",
              "2018    2740682\n",
              "2019    2749497\n",
              "2020    1766827\n",
              "2021    1523587\n",
              "Name: 총응시자수, dtype: int64"
            ]
          },
          "metadata": {},
          "execution_count": 9
        }
      ]
    },
    {
      "cell_type": "code",
      "source": [
        "sum_by_year3"
      ],
      "metadata": {
        "colab": {
          "base_uri": "https://localhost:8080/"
        },
        "id": "2CbzQD-d0NI0",
        "outputId": "b77eed09-3da3-4323-f41f-ef84aeff76cf"
      },
      "execution_count": 10,
      "outputs": [
        {
          "output_type": "execute_result",
          "data": {
            "text/plain": [
              "검정연도\n",
              "2008     784039\n",
              "2009     768801\n",
              "2010     686056\n",
              "2011    1299595\n",
              "2012    1481752\n",
              "2013    1678995\n",
              "2014    1689809\n",
              "2015    1746953\n",
              "2016    2209230\n",
              "2017    2122478\n",
              "2018    2118742\n",
              "2019    2121388\n",
              "2020    1331049\n",
              "2021    1019081\n",
              "Name: 총취득자수, dtype: int64"
            ]
          },
          "metadata": {},
          "execution_count": 10
        }
      ]
    },
    {
      "cell_type": "code",
      "source": [
        "df1=pd.DataFrame(sum_by_year1)\n",
        "df2=pd.DataFrame(sum_by_year2)\n",
        "df3=pd.DataFrame(sum_by_year3)\n"
      ],
      "metadata": {
        "id": "Y1M8WOwy0OTj"
      },
      "execution_count": 11,
      "outputs": []
    },
    {
      "cell_type": "code",
      "source": [
        "df1.to_excel(\"/content/drive/MyDrive/Colab Notebooks/ubion_given_data/와우패스 분석용 데이터 수집/한국직업능력연구원_민간자격_접수.xlsx\")"
      ],
      "metadata": {
        "id": "53UG2rhs0Wn-"
      },
      "execution_count": 14,
      "outputs": []
    },
    {
      "cell_type": "code",
      "source": [
        "df2.to_excel(\"/content/drive/MyDrive/Colab Notebooks/ubion_given_data/와우패스 분석용 데이터 수집/한국직업능력연구원_민간자격_응시.xlsx\")\n",
        "df3.to_excel(\"/content/drive/MyDrive/Colab Notebooks/ubion_given_data/와우패스 분석용 데이터 수집/한국직업능력연구원_민간자격_취득.xlsx\")"
      ],
      "metadata": {
        "id": "Ro1IFgsp0XPp"
      },
      "execution_count": 15,
      "outputs": []
    },
    {
      "cell_type": "code",
      "source": [
        "all=pd.read_excel(\"/content/drive/MyDrive/Colab Notebooks/ubion_given_data/와우패스 분석용 데이터 수집/한국직업능력연구원_민간자격_현황_0821.xlsx\")\n",
        "all"
      ],
      "metadata": {
        "colab": {
          "base_uri": "https://localhost:8080/",
          "height": 483
        },
        "id": "EAhYckE90nJa",
        "outputId": "4c8ffd62-de63-466c-ec9a-461276bae929"
      },
      "execution_count": 16,
      "outputs": [
        {
          "output_type": "execute_result",
          "data": {
            "text/plain": [
              "    검정연도    총접수자수    총응시자수\n",
              "0   2008  1666787  3504052\n",
              "1   2009  1631354  1380378\n",
              "2   2010  1396050  1179415\n",
              "3   2011  2187252  1891417\n",
              "4   2012  2368444  2080514\n",
              "5   2013  2662194  2326345\n",
              "6   2014  2648079  2323064\n",
              "7   2015  4196544  2375582\n",
              "8   2016  3426911  2844464\n",
              "9   2017  3106110  2729381\n",
              "10  2018  3172042  2740682\n",
              "11  2019  3228310  2749497\n",
              "12  2020  2027558  1766827\n",
              "13  2021  1777966  1523587"
            ],
            "text/html": [
              "\n",
              "  <div id=\"df-a31d8c79-e796-4a93-be8c-b8c28bbeb94d\">\n",
              "    <div class=\"colab-df-container\">\n",
              "      <div>\n",
              "<style scoped>\n",
              "    .dataframe tbody tr th:only-of-type {\n",
              "        vertical-align: middle;\n",
              "    }\n",
              "\n",
              "    .dataframe tbody tr th {\n",
              "        vertical-align: top;\n",
              "    }\n",
              "\n",
              "    .dataframe thead th {\n",
              "        text-align: right;\n",
              "    }\n",
              "</style>\n",
              "<table border=\"1\" class=\"dataframe\">\n",
              "  <thead>\n",
              "    <tr style=\"text-align: right;\">\n",
              "      <th></th>\n",
              "      <th>검정연도</th>\n",
              "      <th>총접수자수</th>\n",
              "      <th>총응시자수</th>\n",
              "    </tr>\n",
              "  </thead>\n",
              "  <tbody>\n",
              "    <tr>\n",
              "      <th>0</th>\n",
              "      <td>2008</td>\n",
              "      <td>1666787</td>\n",
              "      <td>3504052</td>\n",
              "    </tr>\n",
              "    <tr>\n",
              "      <th>1</th>\n",
              "      <td>2009</td>\n",
              "      <td>1631354</td>\n",
              "      <td>1380378</td>\n",
              "    </tr>\n",
              "    <tr>\n",
              "      <th>2</th>\n",
              "      <td>2010</td>\n",
              "      <td>1396050</td>\n",
              "      <td>1179415</td>\n",
              "    </tr>\n",
              "    <tr>\n",
              "      <th>3</th>\n",
              "      <td>2011</td>\n",
              "      <td>2187252</td>\n",
              "      <td>1891417</td>\n",
              "    </tr>\n",
              "    <tr>\n",
              "      <th>4</th>\n",
              "      <td>2012</td>\n",
              "      <td>2368444</td>\n",
              "      <td>2080514</td>\n",
              "    </tr>\n",
              "    <tr>\n",
              "      <th>5</th>\n",
              "      <td>2013</td>\n",
              "      <td>2662194</td>\n",
              "      <td>2326345</td>\n",
              "    </tr>\n",
              "    <tr>\n",
              "      <th>6</th>\n",
              "      <td>2014</td>\n",
              "      <td>2648079</td>\n",
              "      <td>2323064</td>\n",
              "    </tr>\n",
              "    <tr>\n",
              "      <th>7</th>\n",
              "      <td>2015</td>\n",
              "      <td>4196544</td>\n",
              "      <td>2375582</td>\n",
              "    </tr>\n",
              "    <tr>\n",
              "      <th>8</th>\n",
              "      <td>2016</td>\n",
              "      <td>3426911</td>\n",
              "      <td>2844464</td>\n",
              "    </tr>\n",
              "    <tr>\n",
              "      <th>9</th>\n",
              "      <td>2017</td>\n",
              "      <td>3106110</td>\n",
              "      <td>2729381</td>\n",
              "    </tr>\n",
              "    <tr>\n",
              "      <th>10</th>\n",
              "      <td>2018</td>\n",
              "      <td>3172042</td>\n",
              "      <td>2740682</td>\n",
              "    </tr>\n",
              "    <tr>\n",
              "      <th>11</th>\n",
              "      <td>2019</td>\n",
              "      <td>3228310</td>\n",
              "      <td>2749497</td>\n",
              "    </tr>\n",
              "    <tr>\n",
              "      <th>12</th>\n",
              "      <td>2020</td>\n",
              "      <td>2027558</td>\n",
              "      <td>1766827</td>\n",
              "    </tr>\n",
              "    <tr>\n",
              "      <th>13</th>\n",
              "      <td>2021</td>\n",
              "      <td>1777966</td>\n",
              "      <td>1523587</td>\n",
              "    </tr>\n",
              "  </tbody>\n",
              "</table>\n",
              "</div>\n",
              "      <button class=\"colab-df-convert\" onclick=\"convertToInteractive('df-a31d8c79-e796-4a93-be8c-b8c28bbeb94d')\"\n",
              "              title=\"Convert this dataframe to an interactive table.\"\n",
              "              style=\"display:none;\">\n",
              "        \n",
              "  <svg xmlns=\"http://www.w3.org/2000/svg\" height=\"24px\"viewBox=\"0 0 24 24\"\n",
              "       width=\"24px\">\n",
              "    <path d=\"M0 0h24v24H0V0z\" fill=\"none\"/>\n",
              "    <path d=\"M18.56 5.44l.94 2.06.94-2.06 2.06-.94-2.06-.94-.94-2.06-.94 2.06-2.06.94zm-11 1L8.5 8.5l.94-2.06 2.06-.94-2.06-.94L8.5 2.5l-.94 2.06-2.06.94zm10 10l.94 2.06.94-2.06 2.06-.94-2.06-.94-.94-2.06-.94 2.06-2.06.94z\"/><path d=\"M17.41 7.96l-1.37-1.37c-.4-.4-.92-.59-1.43-.59-.52 0-1.04.2-1.43.59L10.3 9.45l-7.72 7.72c-.78.78-.78 2.05 0 2.83L4 21.41c.39.39.9.59 1.41.59.51 0 1.02-.2 1.41-.59l7.78-7.78 2.81-2.81c.8-.78.8-2.07 0-2.86zM5.41 20L4 18.59l7.72-7.72 1.47 1.35L5.41 20z\"/>\n",
              "  </svg>\n",
              "      </button>\n",
              "      \n",
              "  <style>\n",
              "    .colab-df-container {\n",
              "      display:flex;\n",
              "      flex-wrap:wrap;\n",
              "      gap: 12px;\n",
              "    }\n",
              "\n",
              "    .colab-df-convert {\n",
              "      background-color: #E8F0FE;\n",
              "      border: none;\n",
              "      border-radius: 50%;\n",
              "      cursor: pointer;\n",
              "      display: none;\n",
              "      fill: #1967D2;\n",
              "      height: 32px;\n",
              "      padding: 0 0 0 0;\n",
              "      width: 32px;\n",
              "    }\n",
              "\n",
              "    .colab-df-convert:hover {\n",
              "      background-color: #E2EBFA;\n",
              "      box-shadow: 0px 1px 2px rgba(60, 64, 67, 0.3), 0px 1px 3px 1px rgba(60, 64, 67, 0.15);\n",
              "      fill: #174EA6;\n",
              "    }\n",
              "\n",
              "    [theme=dark] .colab-df-convert {\n",
              "      background-color: #3B4455;\n",
              "      fill: #D2E3FC;\n",
              "    }\n",
              "\n",
              "    [theme=dark] .colab-df-convert:hover {\n",
              "      background-color: #434B5C;\n",
              "      box-shadow: 0px 1px 3px 1px rgba(0, 0, 0, 0.15);\n",
              "      filter: drop-shadow(0px 1px 2px rgba(0, 0, 0, 0.3));\n",
              "      fill: #FFFFFF;\n",
              "    }\n",
              "  </style>\n",
              "\n",
              "      <script>\n",
              "        const buttonEl =\n",
              "          document.querySelector('#df-a31d8c79-e796-4a93-be8c-b8c28bbeb94d button.colab-df-convert');\n",
              "        buttonEl.style.display =\n",
              "          google.colab.kernel.accessAllowed ? 'block' : 'none';\n",
              "\n",
              "        async function convertToInteractive(key) {\n",
              "          const element = document.querySelector('#df-a31d8c79-e796-4a93-be8c-b8c28bbeb94d');\n",
              "          const dataTable =\n",
              "            await google.colab.kernel.invokeFunction('convertToInteractive',\n",
              "                                                     [key], {});\n",
              "          if (!dataTable) return;\n",
              "\n",
              "          const docLinkHtml = 'Like what you see? Visit the ' +\n",
              "            '<a target=\"_blank\" href=https://colab.research.google.com/notebooks/data_table.ipynb>data table notebook</a>'\n",
              "            + ' to learn more about interactive tables.';\n",
              "          element.innerHTML = '';\n",
              "          dataTable['output_type'] = 'display_data';\n",
              "          await google.colab.output.renderOutput(dataTable, element);\n",
              "          const docLink = document.createElement('div');\n",
              "          docLink.innerHTML = docLinkHtml;\n",
              "          element.appendChild(docLink);\n",
              "        }\n",
              "      </script>\n",
              "    </div>\n",
              "  </div>\n",
              "  "
            ]
          },
          "metadata": {},
          "execution_count": 16
        }
      ]
    },
    {
      "cell_type": "markdown",
      "source": [
        "### 장바구니 상위권 자격증 확인"
      ],
      "metadata": {
        "id": "VGBhyCHa3GYb"
      }
    },
    {
      "cell_type": "code",
      "source": [
        "m"
      ],
      "metadata": {
        "colab": {
          "base_uri": "https://localhost:8080/",
          "height": 565
        },
        "id": "YVQpWAnz1F7D",
        "outputId": "a21235a1-a1a8-42ce-f3df-93238cb616e2"
      },
      "execution_count": 17,
      "outputs": [
        {
          "output_type": "execute_result",
          "data": {
            "text/plain": [
              "                등록번호               자격명               자격발급기관       주무부처 검정방식  \\\n",
              "0         '2008-0001         언어상호작용지도사            한국발표력연구학회        교육부  점수제   \n",
              "1         '2008-0001         언어상호작용지도사            한국발표력연구학회        교육부  점수제   \n",
              "2         '2008-0001         언어상호작용지도사            한국발표력연구학회        교육부  점수제   \n",
              "3         '2008-0002          리더스피치지도사            한국발표력연구학회        교육부  점수제   \n",
              "4         '2008-0002          리더스피치지도사            한국발표력연구학회        교육부  점수제   \n",
              "...              ...               ...                  ...        ...  ...   \n",
              "152642  '2021-006048          정리수납컨설턴트      사단법인 제주와이더블유씨에이    산업통상자원부  합격제   \n",
              "152643  '2021-006049           메타버스지도사        사단법인창의과학교육연구회  과학기술정보통신부  합격제   \n",
              "152644  '2021-006056  소프트웨어(SW·AI)교육강사  사단법인 지역소프트웨어산업발전협의회  과학기술정보통신부  합격제   \n",
              "152645  '2021-006056  소프트웨어(SW·AI)교육강사  사단법인 지역소프트웨어산업발전협의회  과학기술정보통신부  합격제   \n",
              "152646  '2021-006056  소프트웨어(SW·AI)교육강사  사단법인 지역소프트웨어산업발전협의회  과학기술정보통신부  합격제   \n",
              "\n",
              "        검정연도  등급  총검정횟수  총접수자수  총응시자수  총취득자수    합격률  \n",
              "0       2017  1급      0      0      0      0    0.0  \n",
              "1       2017  2급      0      0      0      0    0.0  \n",
              "2       2017  3급      0      0      0      0    0.0  \n",
              "3       2017  1급      0      0      0      0    0.0  \n",
              "4       2017  2급      0      0      0      0    0.0  \n",
              "...      ...  ..    ...    ...    ...    ...    ...  \n",
              "152642  2021  2급      0      0      0      0    0.0  \n",
              "152643  2021  1급      1     34     34     34  100.0  \n",
              "152644  2021  1급      0      0      0      0    0.0  \n",
              "152645  2021  2급      0      0      0      0    0.0  \n",
              "152646  2021  3급      0      0      0      0    0.0  \n",
              "\n",
              "[152647 rows x 12 columns]"
            ],
            "text/html": [
              "\n",
              "  <div id=\"df-43fc4bd9-d66d-4227-97d6-7b7c1e82d448\">\n",
              "    <div class=\"colab-df-container\">\n",
              "      <div>\n",
              "<style scoped>\n",
              "    .dataframe tbody tr th:only-of-type {\n",
              "        vertical-align: middle;\n",
              "    }\n",
              "\n",
              "    .dataframe tbody tr th {\n",
              "        vertical-align: top;\n",
              "    }\n",
              "\n",
              "    .dataframe thead th {\n",
              "        text-align: right;\n",
              "    }\n",
              "</style>\n",
              "<table border=\"1\" class=\"dataframe\">\n",
              "  <thead>\n",
              "    <tr style=\"text-align: right;\">\n",
              "      <th></th>\n",
              "      <th>등록번호</th>\n",
              "      <th>자격명</th>\n",
              "      <th>자격발급기관</th>\n",
              "      <th>주무부처</th>\n",
              "      <th>검정방식</th>\n",
              "      <th>검정연도</th>\n",
              "      <th>등급</th>\n",
              "      <th>총검정횟수</th>\n",
              "      <th>총접수자수</th>\n",
              "      <th>총응시자수</th>\n",
              "      <th>총취득자수</th>\n",
              "      <th>합격률</th>\n",
              "    </tr>\n",
              "  </thead>\n",
              "  <tbody>\n",
              "    <tr>\n",
              "      <th>0</th>\n",
              "      <td>'2008-0001</td>\n",
              "      <td>언어상호작용지도사</td>\n",
              "      <td>한국발표력연구학회</td>\n",
              "      <td>교육부</td>\n",
              "      <td>점수제</td>\n",
              "      <td>2017</td>\n",
              "      <td>1급</td>\n",
              "      <td>0</td>\n",
              "      <td>0</td>\n",
              "      <td>0</td>\n",
              "      <td>0</td>\n",
              "      <td>0.0</td>\n",
              "    </tr>\n",
              "    <tr>\n",
              "      <th>1</th>\n",
              "      <td>'2008-0001</td>\n",
              "      <td>언어상호작용지도사</td>\n",
              "      <td>한국발표력연구학회</td>\n",
              "      <td>교육부</td>\n",
              "      <td>점수제</td>\n",
              "      <td>2017</td>\n",
              "      <td>2급</td>\n",
              "      <td>0</td>\n",
              "      <td>0</td>\n",
              "      <td>0</td>\n",
              "      <td>0</td>\n",
              "      <td>0.0</td>\n",
              "    </tr>\n",
              "    <tr>\n",
              "      <th>2</th>\n",
              "      <td>'2008-0001</td>\n",
              "      <td>언어상호작용지도사</td>\n",
              "      <td>한국발표력연구학회</td>\n",
              "      <td>교육부</td>\n",
              "      <td>점수제</td>\n",
              "      <td>2017</td>\n",
              "      <td>3급</td>\n",
              "      <td>0</td>\n",
              "      <td>0</td>\n",
              "      <td>0</td>\n",
              "      <td>0</td>\n",
              "      <td>0.0</td>\n",
              "    </tr>\n",
              "    <tr>\n",
              "      <th>3</th>\n",
              "      <td>'2008-0002</td>\n",
              "      <td>리더스피치지도사</td>\n",
              "      <td>한국발표력연구학회</td>\n",
              "      <td>교육부</td>\n",
              "      <td>점수제</td>\n",
              "      <td>2017</td>\n",
              "      <td>1급</td>\n",
              "      <td>0</td>\n",
              "      <td>0</td>\n",
              "      <td>0</td>\n",
              "      <td>0</td>\n",
              "      <td>0.0</td>\n",
              "    </tr>\n",
              "    <tr>\n",
              "      <th>4</th>\n",
              "      <td>'2008-0002</td>\n",
              "      <td>리더스피치지도사</td>\n",
              "      <td>한국발표력연구학회</td>\n",
              "      <td>교육부</td>\n",
              "      <td>점수제</td>\n",
              "      <td>2017</td>\n",
              "      <td>2급</td>\n",
              "      <td>0</td>\n",
              "      <td>0</td>\n",
              "      <td>0</td>\n",
              "      <td>0</td>\n",
              "      <td>0.0</td>\n",
              "    </tr>\n",
              "    <tr>\n",
              "      <th>...</th>\n",
              "      <td>...</td>\n",
              "      <td>...</td>\n",
              "      <td>...</td>\n",
              "      <td>...</td>\n",
              "      <td>...</td>\n",
              "      <td>...</td>\n",
              "      <td>...</td>\n",
              "      <td>...</td>\n",
              "      <td>...</td>\n",
              "      <td>...</td>\n",
              "      <td>...</td>\n",
              "      <td>...</td>\n",
              "    </tr>\n",
              "    <tr>\n",
              "      <th>152642</th>\n",
              "      <td>'2021-006048</td>\n",
              "      <td>정리수납컨설턴트</td>\n",
              "      <td>사단법인 제주와이더블유씨에이</td>\n",
              "      <td>산업통상자원부</td>\n",
              "      <td>합격제</td>\n",
              "      <td>2021</td>\n",
              "      <td>2급</td>\n",
              "      <td>0</td>\n",
              "      <td>0</td>\n",
              "      <td>0</td>\n",
              "      <td>0</td>\n",
              "      <td>0.0</td>\n",
              "    </tr>\n",
              "    <tr>\n",
              "      <th>152643</th>\n",
              "      <td>'2021-006049</td>\n",
              "      <td>메타버스지도사</td>\n",
              "      <td>사단법인창의과학교육연구회</td>\n",
              "      <td>과학기술정보통신부</td>\n",
              "      <td>합격제</td>\n",
              "      <td>2021</td>\n",
              "      <td>1급</td>\n",
              "      <td>1</td>\n",
              "      <td>34</td>\n",
              "      <td>34</td>\n",
              "      <td>34</td>\n",
              "      <td>100.0</td>\n",
              "    </tr>\n",
              "    <tr>\n",
              "      <th>152644</th>\n",
              "      <td>'2021-006056</td>\n",
              "      <td>소프트웨어(SW·AI)교육강사</td>\n",
              "      <td>사단법인 지역소프트웨어산업발전협의회</td>\n",
              "      <td>과학기술정보통신부</td>\n",
              "      <td>합격제</td>\n",
              "      <td>2021</td>\n",
              "      <td>1급</td>\n",
              "      <td>0</td>\n",
              "      <td>0</td>\n",
              "      <td>0</td>\n",
              "      <td>0</td>\n",
              "      <td>0.0</td>\n",
              "    </tr>\n",
              "    <tr>\n",
              "      <th>152645</th>\n",
              "      <td>'2021-006056</td>\n",
              "      <td>소프트웨어(SW·AI)교육강사</td>\n",
              "      <td>사단법인 지역소프트웨어산업발전협의회</td>\n",
              "      <td>과학기술정보통신부</td>\n",
              "      <td>합격제</td>\n",
              "      <td>2021</td>\n",
              "      <td>2급</td>\n",
              "      <td>0</td>\n",
              "      <td>0</td>\n",
              "      <td>0</td>\n",
              "      <td>0</td>\n",
              "      <td>0.0</td>\n",
              "    </tr>\n",
              "    <tr>\n",
              "      <th>152646</th>\n",
              "      <td>'2021-006056</td>\n",
              "      <td>소프트웨어(SW·AI)교육강사</td>\n",
              "      <td>사단법인 지역소프트웨어산업발전협의회</td>\n",
              "      <td>과학기술정보통신부</td>\n",
              "      <td>합격제</td>\n",
              "      <td>2021</td>\n",
              "      <td>3급</td>\n",
              "      <td>0</td>\n",
              "      <td>0</td>\n",
              "      <td>0</td>\n",
              "      <td>0</td>\n",
              "      <td>0.0</td>\n",
              "    </tr>\n",
              "  </tbody>\n",
              "</table>\n",
              "<p>152647 rows × 12 columns</p>\n",
              "</div>\n",
              "      <button class=\"colab-df-convert\" onclick=\"convertToInteractive('df-43fc4bd9-d66d-4227-97d6-7b7c1e82d448')\"\n",
              "              title=\"Convert this dataframe to an interactive table.\"\n",
              "              style=\"display:none;\">\n",
              "        \n",
              "  <svg xmlns=\"http://www.w3.org/2000/svg\" height=\"24px\"viewBox=\"0 0 24 24\"\n",
              "       width=\"24px\">\n",
              "    <path d=\"M0 0h24v24H0V0z\" fill=\"none\"/>\n",
              "    <path d=\"M18.56 5.44l.94 2.06.94-2.06 2.06-.94-2.06-.94-.94-2.06-.94 2.06-2.06.94zm-11 1L8.5 8.5l.94-2.06 2.06-.94-2.06-.94L8.5 2.5l-.94 2.06-2.06.94zm10 10l.94 2.06.94-2.06 2.06-.94-2.06-.94-.94-2.06-.94 2.06-2.06.94z\"/><path d=\"M17.41 7.96l-1.37-1.37c-.4-.4-.92-.59-1.43-.59-.52 0-1.04.2-1.43.59L10.3 9.45l-7.72 7.72c-.78.78-.78 2.05 0 2.83L4 21.41c.39.39.9.59 1.41.59.51 0 1.02-.2 1.41-.59l7.78-7.78 2.81-2.81c.8-.78.8-2.07 0-2.86zM5.41 20L4 18.59l7.72-7.72 1.47 1.35L5.41 20z\"/>\n",
              "  </svg>\n",
              "      </button>\n",
              "      \n",
              "  <style>\n",
              "    .colab-df-container {\n",
              "      display:flex;\n",
              "      flex-wrap:wrap;\n",
              "      gap: 12px;\n",
              "    }\n",
              "\n",
              "    .colab-df-convert {\n",
              "      background-color: #E8F0FE;\n",
              "      border: none;\n",
              "      border-radius: 50%;\n",
              "      cursor: pointer;\n",
              "      display: none;\n",
              "      fill: #1967D2;\n",
              "      height: 32px;\n",
              "      padding: 0 0 0 0;\n",
              "      width: 32px;\n",
              "    }\n",
              "\n",
              "    .colab-df-convert:hover {\n",
              "      background-color: #E2EBFA;\n",
              "      box-shadow: 0px 1px 2px rgba(60, 64, 67, 0.3), 0px 1px 3px 1px rgba(60, 64, 67, 0.15);\n",
              "      fill: #174EA6;\n",
              "    }\n",
              "\n",
              "    [theme=dark] .colab-df-convert {\n",
              "      background-color: #3B4455;\n",
              "      fill: #D2E3FC;\n",
              "    }\n",
              "\n",
              "    [theme=dark] .colab-df-convert:hover {\n",
              "      background-color: #434B5C;\n",
              "      box-shadow: 0px 1px 3px 1px rgba(0, 0, 0, 0.15);\n",
              "      filter: drop-shadow(0px 1px 2px rgba(0, 0, 0, 0.3));\n",
              "      fill: #FFFFFF;\n",
              "    }\n",
              "  </style>\n",
              "\n",
              "      <script>\n",
              "        const buttonEl =\n",
              "          document.querySelector('#df-43fc4bd9-d66d-4227-97d6-7b7c1e82d448 button.colab-df-convert');\n",
              "        buttonEl.style.display =\n",
              "          google.colab.kernel.accessAllowed ? 'block' : 'none';\n",
              "\n",
              "        async function convertToInteractive(key) {\n",
              "          const element = document.querySelector('#df-43fc4bd9-d66d-4227-97d6-7b7c1e82d448');\n",
              "          const dataTable =\n",
              "            await google.colab.kernel.invokeFunction('convertToInteractive',\n",
              "                                                     [key], {});\n",
              "          if (!dataTable) return;\n",
              "\n",
              "          const docLinkHtml = 'Like what you see? Visit the ' +\n",
              "            '<a target=\"_blank\" href=https://colab.research.google.com/notebooks/data_table.ipynb>data table notebook</a>'\n",
              "            + ' to learn more about interactive tables.';\n",
              "          element.innerHTML = '';\n",
              "          dataTable['output_type'] = 'display_data';\n",
              "          await google.colab.output.renderOutput(dataTable, element);\n",
              "          const docLink = document.createElement('div');\n",
              "          docLink.innerHTML = docLinkHtml;\n",
              "          element.appendChild(docLink);\n",
              "        }\n",
              "      </script>\n",
              "    </div>\n",
              "  </div>\n",
              "  "
            ]
          },
          "metadata": {},
          "execution_count": 17
        }
      ]
    },
    {
      "cell_type": "code",
      "source": [
        "m.columns"
      ],
      "metadata": {
        "colab": {
          "base_uri": "https://localhost:8080/"
        },
        "id": "Ci_LWU1x3Vrt",
        "outputId": "441cb30a-a5ca-480d-fd87-2bb6717c51d7"
      },
      "execution_count": 18,
      "outputs": [
        {
          "output_type": "execute_result",
          "data": {
            "text/plain": [
              "Index(['등록번호', '자격명', '자격발급기관', '주무부처', '검정방식', '검정연도', '등급', '총검정횟수', '총접수자수',\n",
              "       '총응시자수', '총취득자수', '합격률'],\n",
              "      dtype='object')"
            ]
          },
          "metadata": {},
          "execution_count": 18
        }
      ]
    },
    {
      "cell_type": "code",
      "source": [
        "gn0 = m.groupby('자격명')['검정연도'].count()\n",
        "gy0 = m.groupby('검정연도')['자격명'].count()"
      ],
      "metadata": {
        "id": "qjGc_iqH3N8X"
      },
      "execution_count": 19,
      "outputs": []
    },
    {
      "cell_type": "code",
      "source": [
        "gn0"
      ],
      "metadata": {
        "colab": {
          "base_uri": "https://localhost:8080/"
        },
        "id": "nDqIlcnX3ttw",
        "outputId": "dfe75278-e5d6-439a-f08f-0b0e76d6ce3c"
      },
      "execution_count": 20,
      "outputs": [
        {
          "output_type": "execute_result",
          "data": {
            "text/plain": [
              "자격명\n",
              "(BPA)행동심리분석강사        3\n",
              "(MSIQ)데이터사이언스마스터     2\n",
              "(MSIQ)디지털마케팅마스터      2\n",
              "(사)한국하모니카리더스강사       7\n",
              "(효)예절지도사            14\n",
              "                    ..\n",
              "힐링학습코칭지도사           18\n",
              "힐빙관리지도사              3\n",
              "힙합강사                 1\n",
              "茶熏冥想강의전문지도자자격증      14\n",
              "茶생활과함께하는청소년인성교육      6\n",
              "Name: 검정연도, Length: 13051, dtype: int64"
            ]
          },
          "metadata": {},
          "execution_count": 20
        }
      ]
    },
    {
      "cell_type": "code",
      "source": [
        "gy0"
      ],
      "metadata": {
        "colab": {
          "base_uri": "https://localhost:8080/"
        },
        "id": "mwfaD2D73umR",
        "outputId": "60b2cdf3-6698-4038-cf7e-27836c1af52e"
      },
      "execution_count": 21,
      "outputs": [
        {
          "output_type": "execute_result",
          "data": {
            "text/plain": [
              "검정연도\n",
              "2008      402\n",
              "2009      568\n",
              "2010      852\n",
              "2011     1912\n",
              "2012     2636\n",
              "2013     4017\n",
              "2014     6878\n",
              "2015    10799\n",
              "2016    18083\n",
              "2017    21511\n",
              "2018    23267\n",
              "2019    25991\n",
              "2020    21987\n",
              "2021    13744\n",
              "Name: 자격명, dtype: int64"
            ]
          },
          "metadata": {},
          "execution_count": 21
        }
      ]
    },
    {
      "cell_type": "code",
      "source": [
        "m_g1 = m[m['자격명'] == '투자자산운용사']\n",
        "m_g2 = m[m['자격명'] == '전산세무회계']\n",
        "m_g3 = m[m['자격명'] == '신용분석사']\n",
        "#m_g4 = m[m['자격명'] == '외환전문역']\n",
        "#m_g5 = m[m['자격명'] == '경영지도사']\n",
        "m_g4 = m[m['자격명'] == '무역영어']\n",
        "#m_g7 = m[m['자격명'] == 'adsp']"
      ],
      "metadata": {
        "id": "3oqNq8aT3v5k"
      },
      "execution_count": 31,
      "outputs": []
    },
    {
      "cell_type": "code",
      "source": [
        "g1_1=m_g1.groupby('검정연도')['총접수자수'].sum()\n",
        "g1_2=m_g1.groupby('검정연도')['총응시자수'].sum()\n",
        "g1_3=m_g1.groupby('검정연도')['총취득자수'].sum()\n"
      ],
      "metadata": {
        "id": "QZGaZAY04hIR"
      },
      "execution_count": 33,
      "outputs": []
    },
    {
      "cell_type": "markdown",
      "source": [
        "#### 투자자산운용사 (상승세)"
      ],
      "metadata": {
        "id": "ljhU4XKY5cCN"
      }
    },
    {
      "cell_type": "code",
      "source": [
        "g1_1"
      ],
      "metadata": {
        "colab": {
          "base_uri": "https://localhost:8080/"
        },
        "id": "pv9UHgzI4nxn",
        "outputId": "5b34615f-25a2-4950-fdc8-3791e5b6bc07"
      },
      "execution_count": 34,
      "outputs": [
        {
          "output_type": "execute_result",
          "data": {
            "text/plain": [
              "검정연도\n",
              "2013     9049\n",
              "2014     8362\n",
              "2015     7836\n",
              "2016    13939\n",
              "2017    12349\n",
              "2018    14424\n",
              "2019    17879\n",
              "2020     5270\n",
              "2021    30877\n",
              "Name: 총접수자수, dtype: int64"
            ]
          },
          "metadata": {},
          "execution_count": 34
        }
      ]
    },
    {
      "cell_type": "code",
      "source": [
        "g1_2"
      ],
      "metadata": {
        "colab": {
          "base_uri": "https://localhost:8080/"
        },
        "id": "kIiGR7EF4vDk",
        "outputId": "de84c9d2-8f03-41ab-f30f-a6ba79738cf8"
      },
      "execution_count": 35,
      "outputs": [
        {
          "output_type": "execute_result",
          "data": {
            "text/plain": [
              "검정연도\n",
              "2013     5774\n",
              "2014     5487\n",
              "2015     5436\n",
              "2016     9362\n",
              "2017     8954\n",
              "2018    10377\n",
              "2019    13400\n",
              "2020     4984\n",
              "2021    23753\n",
              "Name: 총응시자수, dtype: int64"
            ]
          },
          "metadata": {},
          "execution_count": 35
        }
      ]
    },
    {
      "cell_type": "code",
      "source": [
        "g1_3"
      ],
      "metadata": {
        "colab": {
          "base_uri": "https://localhost:8080/"
        },
        "id": "qH4Lz7uE47zP",
        "outputId": "8fe66725-8270-488e-fb5c-479186d0291b"
      },
      "execution_count": 36,
      "outputs": [
        {
          "output_type": "execute_result",
          "data": {
            "text/plain": [
              "검정연도\n",
              "2013    1338\n",
              "2014    1366\n",
              "2015    2317\n",
              "2016    2872\n",
              "2017    2678\n",
              "2018    3379\n",
              "2019    4303\n",
              "2020    2349\n",
              "2021    8914\n",
              "Name: 총취득자수, dtype: int64"
            ]
          },
          "metadata": {},
          "execution_count": 36
        }
      ]
    },
    {
      "cell_type": "markdown",
      "source": [
        "#### 신용분석사 (상승세)"
      ],
      "metadata": {
        "id": "IKiRm-o55gAR"
      }
    },
    {
      "cell_type": "code",
      "source": [
        "g3_1=m_g3.groupby('검정연도')['총접수자수'].sum()\n",
        "g3_2=m_g3.groupby('검정연도')['총응시자수'].sum()\n",
        "g3_3=m_g3.groupby('검정연도')['총취득자수'].sum()\n"
      ],
      "metadata": {
        "id": "wZAVTby65X78"
      },
      "execution_count": 37,
      "outputs": []
    },
    {
      "cell_type": "code",
      "source": [
        "g3_1"
      ],
      "metadata": {
        "colab": {
          "base_uri": "https://localhost:8080/"
        },
        "id": "3DhN6TVl5nQM",
        "outputId": "051c5609-7ab6-4e2f-baa0-09e3472c9940"
      },
      "execution_count": 38,
      "outputs": [
        {
          "output_type": "execute_result",
          "data": {
            "text/plain": [
              "검정연도\n",
              "2010     1765\n",
              "2011     2002\n",
              "2012     1970\n",
              "2013     2514\n",
              "2014     3261\n",
              "2015     4025\n",
              "2016     5600\n",
              "2017     6188\n",
              "2018     5505\n",
              "2019     7358\n",
              "2020     9329\n",
              "2021    14387\n",
              "Name: 총접수자수, dtype: int64"
            ]
          },
          "metadata": {},
          "execution_count": 38
        }
      ]
    },
    {
      "cell_type": "code",
      "source": [
        "g3_2"
      ],
      "metadata": {
        "colab": {
          "base_uri": "https://localhost:8080/"
        },
        "id": "eAlaN4g05ois",
        "outputId": "ecdf46f0-fae1-499f-9ded-d03cc208c0c1"
      },
      "execution_count": 39,
      "outputs": [
        {
          "output_type": "execute_result",
          "data": {
            "text/plain": [
              "검정연도\n",
              "2010     1093\n",
              "2011     1301\n",
              "2012     1299\n",
              "2013     1746\n",
              "2014     2367\n",
              "2015     2861\n",
              "2016     4055\n",
              "2017     4439\n",
              "2018     3893\n",
              "2019     5276\n",
              "2020     7533\n",
              "2021    10757\n",
              "Name: 총응시자수, dtype: int64"
            ]
          },
          "metadata": {},
          "execution_count": 39
        }
      ]
    },
    {
      "cell_type": "code",
      "source": [
        "g3_3"
      ],
      "metadata": {
        "colab": {
          "base_uri": "https://localhost:8080/"
        },
        "id": "z2qWkQED5qB0",
        "outputId": "9598047d-d02a-49d1-bc36-9847ed96b534"
      },
      "execution_count": 40,
      "outputs": [
        {
          "output_type": "execute_result",
          "data": {
            "text/plain": [
              "검정연도\n",
              "2010     317\n",
              "2011     330\n",
              "2012     349\n",
              "2013     474\n",
              "2014     679\n",
              "2015     774\n",
              "2016    1099\n",
              "2017    1182\n",
              "2018    1246\n",
              "2019    1309\n",
              "2020    2385\n",
              "2021    2993\n",
              "Name: 총취득자수, dtype: int64"
            ]
          },
          "metadata": {},
          "execution_count": 40
        }
      ]
    },
    {
      "cell_type": "markdown",
      "source": [
        "#### 전산세무회계 (유지~상승)"
      ],
      "metadata": {
        "id": "GdpWIsuw5t2O"
      }
    },
    {
      "cell_type": "code",
      "source": [
        "g2_1=m_g2.groupby('검정연도')['총접수자수'].sum()\n",
        "g2_2=m_g2.groupby('검정연도')['총응시자수'].sum()\n",
        "g2_3=m_g2.groupby('검정연도')['총취득자수'].sum()\n"
      ],
      "metadata": {
        "id": "3NqeNwsD5rNE"
      },
      "execution_count": 41,
      "outputs": []
    },
    {
      "cell_type": "code",
      "source": [
        "g2_1"
      ],
      "metadata": {
        "colab": {
          "base_uri": "https://localhost:8080/"
        },
        "id": "QoxgGu3R50jY",
        "outputId": "54400c45-06f3-41e1-fb5b-a26e1832c24b"
      },
      "execution_count": 42,
      "outputs": [
        {
          "output_type": "execute_result",
          "data": {
            "text/plain": [
              "검정연도\n",
              "2008    145501\n",
              "2009    179628\n",
              "2010    182308\n",
              "2011    182592\n",
              "2012    192236\n",
              "2013    215393\n",
              "2014    234649\n",
              "2015    273899\n",
              "2016    277817\n",
              "2017    286517\n",
              "2018    281246\n",
              "2019    281172\n",
              "2020    203878\n",
              "2021    273858\n",
              "Name: 총접수자수, dtype: int64"
            ]
          },
          "metadata": {},
          "execution_count": 42
        }
      ]
    },
    {
      "cell_type": "code",
      "source": [
        "g2_2"
      ],
      "metadata": {
        "colab": {
          "base_uri": "https://localhost:8080/"
        },
        "id": "15CHwlFp51qz",
        "outputId": "eddfa939-7f9c-4514-8baa-d5db20e733dc"
      },
      "execution_count": 43,
      "outputs": [
        {
          "output_type": "execute_result",
          "data": {
            "text/plain": [
              "검정연도\n",
              "2008    112312\n",
              "2009    142604\n",
              "2010    143892\n",
              "2011    142386\n",
              "2012    150344\n",
              "2013    169954\n",
              "2014    184523\n",
              "2015    211736\n",
              "2016    210260\n",
              "2017    217219\n",
              "2018    211036\n",
              "2019    209289\n",
              "2020    157018\n",
              "2021    200875\n",
              "Name: 총응시자수, dtype: int64"
            ]
          },
          "metadata": {},
          "execution_count": 43
        }
      ]
    },
    {
      "cell_type": "code",
      "source": [
        "g2_3"
      ],
      "metadata": {
        "colab": {
          "base_uri": "https://localhost:8080/"
        },
        "id": "5JV2gE3s53WQ",
        "outputId": "7575b8f8-7469-47a7-d410-3b6d41ff0fd2"
      },
      "execution_count": 44,
      "outputs": [
        {
          "output_type": "execute_result",
          "data": {
            "text/plain": [
              "검정연도\n",
              "2008    42185\n",
              "2009    48512\n",
              "2010    48826\n",
              "2011    45535\n",
              "2012    44020\n",
              "2013    60892\n",
              "2014    75941\n",
              "2015    80745\n",
              "2016    91241\n",
              "2017    84879\n",
              "2018    79799\n",
              "2019    77498\n",
              "2020    72509\n",
              "2021    77324\n",
              "Name: 총취득자수, dtype: int64"
            ]
          },
          "metadata": {},
          "execution_count": 44
        }
      ]
    },
    {
      "cell_type": "markdown",
      "source": [
        "#### 무역영어 (상승)"
      ],
      "metadata": {
        "id": "trFub8bt58_T"
      }
    },
    {
      "cell_type": "code",
      "source": [
        "g4_1=m_g4.groupby('검정연도')['총접수자수'].sum()\n",
        "g4_2=m_g4.groupby('검정연도')['총응시자수'].sum()\n",
        "g4_3=m_g4.groupby('검정연도')['총취득자수'].sum()\n"
      ],
      "metadata": {
        "id": "D8HLYk9o54xN"
      },
      "execution_count": 45,
      "outputs": []
    },
    {
      "cell_type": "code",
      "source": [
        "g4_1"
      ],
      "metadata": {
        "colab": {
          "base_uri": "https://localhost:8080/"
        },
        "id": "OVDGmFSH6G5r",
        "outputId": "0a5ab8bb-9774-4a50-db7c-c2e3febf143b"
      },
      "execution_count": 46,
      "outputs": [
        {
          "output_type": "execute_result",
          "data": {
            "text/plain": [
              "검정연도\n",
              "2008    23281\n",
              "2009    27549\n",
              "2010    23775\n",
              "2011    23239\n",
              "2012    23863\n",
              "2013    30861\n",
              "2014    22807\n",
              "2015    23421\n",
              "2016    19168\n",
              "2017    18825\n",
              "2018    20133\n",
              "2019    22746\n",
              "2020    21278\n",
              "2021    34019\n",
              "Name: 총접수자수, dtype: int64"
            ]
          },
          "metadata": {},
          "execution_count": 46
        }
      ]
    },
    {
      "cell_type": "code",
      "source": [
        "g4_2"
      ],
      "metadata": {
        "colab": {
          "base_uri": "https://localhost:8080/"
        },
        "id": "Wcz5Sb256Huh",
        "outputId": "4210326a-028c-43cf-e6b1-e2421b2a3767"
      },
      "execution_count": 47,
      "outputs": [
        {
          "output_type": "execute_result",
          "data": {
            "text/plain": [
              "검정연도\n",
              "2008    16597\n",
              "2009    18990\n",
              "2010    17480\n",
              "2011    16068\n",
              "2012    16874\n",
              "2013    17435\n",
              "2014    15918\n",
              "2015    16762\n",
              "2016    14022\n",
              "2017    13602\n",
              "2018    14404\n",
              "2019    15755\n",
              "2020    15705\n",
              "2021    18920\n",
              "Name: 총응시자수, dtype: int64"
            ]
          },
          "metadata": {},
          "execution_count": 47
        }
      ]
    },
    {
      "cell_type": "code",
      "source": [
        "g4_3"
      ],
      "metadata": {
        "colab": {
          "base_uri": "https://localhost:8080/"
        },
        "id": "swanrS5l6JKL",
        "outputId": "64d390c8-58ec-4069-d5c4-29cb6bace454"
      },
      "execution_count": 48,
      "outputs": [
        {
          "output_type": "execute_result",
          "data": {
            "text/plain": [
              "검정연도\n",
              "2008    3845\n",
              "2009    6235\n",
              "2010    5847\n",
              "2011    4113\n",
              "2012    5954\n",
              "2013    5563\n",
              "2014    6581\n",
              "2015    6471\n",
              "2016    5353\n",
              "2017    5221\n",
              "2018    6439\n",
              "2019    6148\n",
              "2020    5438\n",
              "2021    5551\n",
              "Name: 총취득자수, dtype: int64"
            ]
          },
          "metadata": {},
          "execution_count": 48
        }
      ]
    },
    {
      "cell_type": "markdown",
      "source": [
        "#### 자격명 확인"
      ],
      "metadata": {
        "id": "e-18da2q6jM6"
      }
    },
    {
      "cell_type": "code",
      "source": [
        "f1 = m[m['자격명'].str.contains('외환')]\n",
        "f2 = m[m['자격명'].str.contains('데이터')]\n",
        "f3 = m[m['자격명'].str.contains('AD')]\n",
        "f4 = m[m['자격명'].str.contains('은행')]"
      ],
      "metadata": {
        "id": "oEZvaQtl6KmG"
      },
      "execution_count": 49,
      "outputs": []
    },
    {
      "cell_type": "code",
      "source": [
        "f1_1=f1.groupby('자격명')['검정연도'].count()"
      ],
      "metadata": {
        "id": "YdSdI0Mn6wpl"
      },
      "execution_count": 54,
      "outputs": []
    },
    {
      "cell_type": "code",
      "source": [
        "f1_1"
      ],
      "metadata": {
        "colab": {
          "base_uri": "https://localhost:8080/"
        },
        "id": "6h01dMDO7KTz",
        "outputId": "5d476207-e05d-44d2-f1c2-e82179e580ec"
      },
      "execution_count": 55,
      "outputs": [
        {
          "output_type": "execute_result",
          "data": {
            "text/plain": [
              "자격명\n",
              "외환거래지도사        2\n",
              "외환관리사          9\n",
              "외환전문역I,II종    11\n",
              "Name: 검정연도, dtype: int64"
            ]
          },
          "metadata": {},
          "execution_count": 55
        }
      ]
    },
    {
      "cell_type": "code",
      "source": [
        "f2_1=f2.groupby('자격명')['검정연도'].count()\n",
        "f2_1"
      ],
      "metadata": {
        "colab": {
          "base_uri": "https://localhost:8080/"
        },
        "id": "SgHnLgZp6xoV",
        "outputId": "e4fe49ea-0f93-4584-de7d-f32d9b9af7ed"
      },
      "execution_count": 56,
      "outputs": [
        {
          "output_type": "execute_result",
          "data": {
            "text/plain": [
              "자격명\n",
              "(MSIQ)데이터사이언스마스터          2\n",
              "DSAC(데이터사이언티스트능력인증자격)    12\n",
              "NCS활용빅데이터전문지도사            6\n",
              "경영빅데이터분석사                21\n",
              "공공빅데이터분석사                 6\n",
              "공정데이터분석사                 12\n",
              "기술비즈니스빅데이터지도사             3\n",
              "기업실무형데이터분석마스터             7\n",
              "데이터감정사                    2\n",
              "데이터베이스관리사                 2\n",
              "데이터분석                    16\n",
              "데이터분석사                    6\n",
              "데이터실무분석전문가                1\n",
              "데이터아키텍처                  22\n",
              "데이터자산운용사                  2\n",
              "마이데이터관리사                  1\n",
              "마케팅데이터분석사                15\n",
              "마케팅빅데이터관리사                2\n",
              "비즈니스 데이터                  5\n",
              "비즈니스데이터전문가                1\n",
              "비지니스데이터분석사                3\n",
              "빅데이터/데이터과학전문가과정           1\n",
              "빅데이터관리사                   6\n",
              "빅데이터기술분석사                12\n",
              "빅데이터디자인실무                 2\n",
              "빅데이터마케팅전문가                3\n",
              "빅데이터분석사                   6\n",
              "빅데이터분석실무                 12\n",
              "빅데이터전문가                  47\n",
              "빅데이터직무강사                  5\n",
              "빅데이터큐레이터                  4\n",
              "사물인터넷빅데이터자격시험             4\n",
              "산업빅데이터분석사                 4\n",
              "상권빅데이터정보분석전문가             2\n",
              "아이에스오경영시스템데이터해석사          2\n",
              "엑셀데이터분석실무                12\n",
              "재무빅데이터분석사                 2\n",
              "제조빅데이터전문가                 2\n",
              "컨택센터빅데이터전문가               2\n",
              "Name: 검정연도, dtype: int64"
            ]
          },
          "metadata": {},
          "execution_count": 56
        }
      ]
    },
    {
      "cell_type": "code",
      "source": [
        "f3_1=f3.groupby('자격명')['검정연도'].count()\n",
        "f3_1"
      ],
      "metadata": {
        "colab": {
          "base_uri": "https://localhost:8080/"
        },
        "id": "dT3-eGgS602U",
        "outputId": "edf7ab77-024d-4099-8ba2-24b3dfc9b073"
      },
      "execution_count": 57,
      "outputs": [
        {
          "output_type": "execute_result",
          "data": {
            "text/plain": [
              "자격명\n",
              "ADR의사소통코디네이터        6\n",
              "ADT전문가              4\n",
              "CADGM(캐드그레이딩마킹)    18\n",
              "CAD실무능력자격          14\n",
              "CAD실무능력평가(CAT)      6\n",
              "CTC2DCAD            3\n",
              "CTC3DCAD            6\n",
              "앱창의개발능력(ADT)       16\n",
              "Name: 검정연도, dtype: int64"
            ]
          },
          "metadata": {},
          "execution_count": 57
        }
      ]
    },
    {
      "cell_type": "code",
      "source": [
        "f4_1=f4.groupby('자격명')['검정연도'].count()\n",
        "f4_1"
      ],
      "metadata": {
        "colab": {
          "base_uri": "https://localhost:8080/"
        },
        "id": "74hP7fur67mE",
        "outputId": "daa8bb82-9ccd-40ba-f959-08609223ac2d"
      },
      "execution_count": 58,
      "outputs": [
        {
          "output_type": "execute_result",
          "data": {
            "text/plain": [
              "자격명\n",
              "영업점컴플라이언스오피서(은행)    11\n",
              "은행텔러(CBT)           11\n",
              "Name: 검정연도, dtype: int64"
            ]
          },
          "metadata": {},
          "execution_count": 58
        }
      ]
    },
    {
      "cell_type": "code",
      "source": [
        "f5=m[m['자격명'].str.contains('자산')]\n",
        "f5_1=f5.groupby('자격명')['검정연도'].count()\n",
        "f5_1"
      ],
      "metadata": {
        "colab": {
          "base_uri": "https://localhost:8080/"
        },
        "id": "wqia1tMx69z-",
        "outputId": "1f06cb96-4356-463a-b3f6-4c76cc403998"
      },
      "execution_count": 59,
      "outputs": [
        {
          "output_type": "execute_result",
          "data": {
            "text/plain": [
              "자격명\n",
              "IFP(종합자산관리사)          5\n",
              "근대문화자산안내전문가           2\n",
              "글로벌자산운용역              2\n",
              "데이터자산운용사              2\n",
              "매경부동산자산관리사           18\n",
              "부동산금융자산종합관리사          2\n",
              "부동산자산관리전문가           12\n",
              "빌딩자산관리자               4\n",
              "소프트웨어자산관리사(C-SAM)    18\n",
              "영업비밀브랜드자산가치관리사        4\n",
              "자산관리사(FP)            11\n",
              "종합자산관리사               8\n",
              "투자자산운용사               9\n",
              "한국형부동산자산관리전문가KPM      5\n",
              "Name: 검정연도, dtype: int64"
            ]
          },
          "metadata": {},
          "execution_count": 59
        }
      ]
    },
    {
      "cell_type": "markdown",
      "source": [
        "#### 자격명 추가 확인"
      ],
      "metadata": {
        "id": "X8F9fNZ974Wu"
      }
    },
    {
      "cell_type": "code",
      "source": [
        "m_g5 = m[m['자격명'] == '외환전문역I,II종']\n",
        "m_g6 = m[m['자격명'] == '자산관리사(FP)']\n",
        "m_g7 = m[m['자격명'] == '데이터분석']\n",
        "#m_g8 = m[m['자격명'] == '']\n",
        "#m_g9 = m[m['자격명'] == '']\n",
        "#m_g10 = m[m['자격명'] == '']"
      ],
      "metadata": {
        "id": "2pHfuSYE7e3V"
      },
      "execution_count": 60,
      "outputs": []
    },
    {
      "cell_type": "markdown",
      "source": [
        "#### 외환전문역 (유지)"
      ],
      "metadata": {
        "id": "HodrPyUG8tZF"
      }
    },
    {
      "cell_type": "code",
      "source": [
        "g5_1=m_g5.groupby('검정연도')['총접수자수'].sum()\n",
        "g5_2=m_g5.groupby('검정연도')['총응시자수'].sum()\n",
        "g5_3=m_g5.groupby('검정연도')['총취득자수'].sum()"
      ],
      "metadata": {
        "id": "9VaoT62H8pHz"
      },
      "execution_count": 61,
      "outputs": []
    },
    {
      "cell_type": "code",
      "source": [
        "g5_1"
      ],
      "metadata": {
        "colab": {
          "base_uri": "https://localhost:8080/"
        },
        "id": "xPDwODpf8xhz",
        "outputId": "d39bbfd1-f75d-43ce-9ed3-7df7ba503419"
      },
      "execution_count": 62,
      "outputs": [
        {
          "output_type": "execute_result",
          "data": {
            "text/plain": [
              "검정연도\n",
              "2011     7875\n",
              "2012    14552\n",
              "2013    16774\n",
              "2014    22655\n",
              "2015    25653\n",
              "2016    28099\n",
              "2017    25647\n",
              "2018    21920\n",
              "2019    24432\n",
              "2020    16116\n",
              "2021    21744\n",
              "Name: 총접수자수, dtype: int64"
            ]
          },
          "metadata": {},
          "execution_count": 62
        }
      ]
    },
    {
      "cell_type": "code",
      "source": [
        "g5_2"
      ],
      "metadata": {
        "colab": {
          "base_uri": "https://localhost:8080/"
        },
        "id": "rvIVOfbz8yXG",
        "outputId": "bba24420-2a7a-4089-b632-e11cb1d773f8"
      },
      "execution_count": 63,
      "outputs": [
        {
          "output_type": "execute_result",
          "data": {
            "text/plain": [
              "검정연도\n",
              "2011     4711\n",
              "2012     8823\n",
              "2013    10871\n",
              "2014    14997\n",
              "2015    17155\n",
              "2016    19403\n",
              "2017    17237\n",
              "2018    14304\n",
              "2019    16606\n",
              "2020    11287\n",
              "2021    14928\n",
              "Name: 총응시자수, dtype: int64"
            ]
          },
          "metadata": {},
          "execution_count": 63
        }
      ]
    },
    {
      "cell_type": "code",
      "source": [
        "g5_3"
      ],
      "metadata": {
        "colab": {
          "base_uri": "https://localhost:8080/"
        },
        "id": "5ZxAiKUJ80qp",
        "outputId": "cc020cd8-88c0-4bdc-f7a8-046ef477aefa"
      },
      "execution_count": 64,
      "outputs": [
        {
          "output_type": "execute_result",
          "data": {
            "text/plain": [
              "검정연도\n",
              "2011    1382\n",
              "2012    2238\n",
              "2013    3721\n",
              "2014    5364\n",
              "2015    5997\n",
              "2016    5674\n",
              "2017    3826\n",
              "2018    4235\n",
              "2019    4495\n",
              "2020    3322\n",
              "2021    4390\n",
              "Name: 총취득자수, dtype: int64"
            ]
          },
          "metadata": {},
          "execution_count": 64
        }
      ]
    },
    {
      "cell_type": "markdown",
      "source": [
        "#### 자산관리사 (상승)"
      ],
      "metadata": {
        "id": "oytYJWnB89dM"
      }
    },
    {
      "cell_type": "code",
      "source": [
        "g6_1=m_g6.groupby('검정연도')['총접수자수'].sum()\n",
        "g6_2=m_g6.groupby('검정연도')['총응시자수'].sum()\n",
        "g6_3=m_g6.groupby('검정연도')['총취득자수'].sum()"
      ],
      "metadata": {
        "id": "1BHbTs6M9B2J"
      },
      "execution_count": 69,
      "outputs": []
    },
    {
      "cell_type": "code",
      "source": [
        "g6_1"
      ],
      "metadata": {
        "colab": {
          "base_uri": "https://localhost:8080/"
        },
        "id": "3bhr4m2h9EvZ",
        "outputId": "ea9c6c80-a272-461b-e298-a0640b53e05d"
      },
      "execution_count": 70,
      "outputs": [
        {
          "output_type": "execute_result",
          "data": {
            "text/plain": [
              "검정연도\n",
              "2011    20292\n",
              "2012    16982\n",
              "2013    15430\n",
              "2014    10114\n",
              "2015     8206\n",
              "2016     7994\n",
              "2017     6245\n",
              "2018     6082\n",
              "2019     6623\n",
              "2020     4964\n",
              "2021     7646\n",
              "Name: 총접수자수, dtype: int64"
            ]
          },
          "metadata": {},
          "execution_count": 70
        }
      ]
    },
    {
      "cell_type": "code",
      "source": [
        "g6_2"
      ],
      "metadata": {
        "colab": {
          "base_uri": "https://localhost:8080/"
        },
        "id": "_VzX9q249Gb6",
        "outputId": "df6a71d1-7d7a-4e85-81c2-3778cd842d34"
      },
      "execution_count": 71,
      "outputs": [
        {
          "output_type": "execute_result",
          "data": {
            "text/plain": [
              "검정연도\n",
              "2011    12747\n",
              "2012    11436\n",
              "2013    10235\n",
              "2014     6692\n",
              "2015     5417\n",
              "2016     5541\n",
              "2017     4334\n",
              "2018     4114\n",
              "2019     4478\n",
              "2020     3594\n",
              "2021     5471\n",
              "Name: 총응시자수, dtype: int64"
            ]
          },
          "metadata": {},
          "execution_count": 71
        }
      ]
    },
    {
      "cell_type": "code",
      "source": [
        "g6_3"
      ],
      "metadata": {
        "colab": {
          "base_uri": "https://localhost:8080/"
        },
        "id": "U4F_0UBK9IHW",
        "outputId": "bc4bd7a3-ec37-4db2-a6c3-932c92d48a15"
      },
      "execution_count": 72,
      "outputs": [
        {
          "output_type": "execute_result",
          "data": {
            "text/plain": [
              "검정연도\n",
              "2011    2617\n",
              "2012    3036\n",
              "2013    2996\n",
              "2014    1560\n",
              "2015    1564\n",
              "2016    1589\n",
              "2017     993\n",
              "2018    1139\n",
              "2019    1161\n",
              "2020    1215\n",
              "2021    1545\n",
              "Name: 총취득자수, dtype: int64"
            ]
          },
          "metadata": {},
          "execution_count": 72
        }
      ]
    },
    {
      "cell_type": "markdown",
      "source": [
        "#### 데이터분석 (상승)"
      ],
      "metadata": {
        "id": "TYJcaRZ687I_"
      }
    },
    {
      "cell_type": "code",
      "source": [
        "g7_1=m_g7.groupby('검정연도')['총접수자수'].sum()\n",
        "g7_2=m_g7.groupby('검정연도')['총응시자수'].sum()\n",
        "g7_3=m_g7.groupby('검정연도')['총취득자수'].sum()"
      ],
      "metadata": {
        "id": "UNyoA8Zr82O-"
      },
      "execution_count": 73,
      "outputs": []
    },
    {
      "cell_type": "code",
      "source": [
        "g7_1"
      ],
      "metadata": {
        "colab": {
          "base_uri": "https://localhost:8080/"
        },
        "id": "6n1l3zrr9Xzu",
        "outputId": "fbd3f14f-0ae4-4bf2-d7f1-dedca69847cf"
      },
      "execution_count": 74,
      "outputs": [
        {
          "output_type": "execute_result",
          "data": {
            "text/plain": [
              "검정연도\n",
              "2014     1819\n",
              "2015     2883\n",
              "2016     3741\n",
              "2017     5471\n",
              "2018     8338\n",
              "2019    14704\n",
              "2020    16782\n",
              "2021    32713\n",
              "Name: 총접수자수, dtype: int64"
            ]
          },
          "metadata": {},
          "execution_count": 74
        }
      ]
    },
    {
      "cell_type": "code",
      "source": [
        "g7_2"
      ],
      "metadata": {
        "colab": {
          "base_uri": "https://localhost:8080/"
        },
        "id": "aHr8H9MK9Y-3",
        "outputId": "8273fdaf-f7f7-43e2-ae0a-b2f13149f1c4"
      },
      "execution_count": 75,
      "outputs": [
        {
          "output_type": "execute_result",
          "data": {
            "text/plain": [
              "검정연도\n",
              "2014     1329\n",
              "2015     2059\n",
              "2016     3035\n",
              "2017     4514\n",
              "2018     6678\n",
              "2019    11616\n",
              "2020    13060\n",
              "2021    25782\n",
              "Name: 총응시자수, dtype: int64"
            ]
          },
          "metadata": {},
          "execution_count": 75
        }
      ]
    },
    {
      "cell_type": "code",
      "source": [
        "g7_3"
      ],
      "metadata": {
        "colab": {
          "base_uri": "https://localhost:8080/"
        },
        "id": "UHsKBTfJ9aO3",
        "outputId": "c9be4177-8007-45cb-ff03-3f47e396806f"
      },
      "execution_count": 76,
      "outputs": [
        {
          "output_type": "execute_result",
          "data": {
            "text/plain": [
              "검정연도\n",
              "2014      272\n",
              "2015      591\n",
              "2016     1084\n",
              "2017     1557\n",
              "2018     2714\n",
              "2019     4625\n",
              "2020     7121\n",
              "2021    12406\n",
              "Name: 총취득자수, dtype: int64"
            ]
          },
          "metadata": {},
          "execution_count": 76
        }
      ]
    },
    {
      "cell_type": "markdown",
      "source": [
        "### 금융분야 자격 활용 통계 확인"
      ],
      "metadata": {
        "id": "Vm7YkeHu_Nrj"
      }
    },
    {
      "cell_type": "code",
      "source": [
        "fs=pd.read_excel(\"/content/drive/MyDrive/Colab Notebooks/ubion_given_data/와우패스 분석용 데이터 수집/기업내자격활용분야(원본).xlsx\")\n",
        "fs"
      ],
      "metadata": {
        "colab": {
          "base_uri": "https://localhost:8080/",
          "height": 473
        },
        "id": "baYdo00I9b47",
        "outputId": "dc377e0c-fe5e-40c1-8df9-79e7b91f18dc"
      },
      "execution_count": 77,
      "outputs": [
        {
          "output_type": "stream",
          "name": "stderr",
          "text": [
            "/usr/local/lib/python3.10/dist-packages/openpyxl/styles/stylesheet.py:226: UserWarning: Workbook contains no default style, apply openpyxl's default\n",
            "  warn(\"Workbook contains no default style, apply openpyxl's default\")\n"
          ]
        },
        {
          "output_type": "execute_result",
          "data": {
            "text/plain": [
              "       자격별(1)  산업별(1)  산업별(2)     2021  2021.1    2021.2  2021.3     2021.4\n",
              "0      자격별(1)  산업별(1)  산업별(2)  사례수 (명)  채용 (%)  직무배치 (%)  승진 (%)  활용 안함 (%)\n",
              "1   국가자격(개별법)      전체      소계      500    19.6      25.4     3.8       51.2\n",
              "2         NaN      제조     소규모      256    14.8      21.9     2.7       60.5\n",
              "3         NaN     NaN     중규모      110      30      31.8     0.9       37.3\n",
              "4         NaN     NaN     대규모       26    23.1      46.2     3.8       26.9\n",
              "..        ...     ...     ...      ...     ...       ...     ...        ...\n",
              "66        NaN     NaN     중규모       12       0       8.3     8.3       83.3\n",
              "67        NaN     NaN     대규모        6       0      33.3       0       66.7\n",
              "68        NaN     비금융     소규모       45       0       8.9       0       91.1\n",
              "69        NaN     NaN     중규모       30     6.7      13.3     3.3       76.7\n",
              "70        NaN     NaN     대규모        7    14.3      14.3       0       71.4\n",
              "\n",
              "[71 rows x 8 columns]"
            ],
            "text/html": [
              "\n",
              "  <div id=\"df-18c3a840-3562-45e2-b851-a6a126855e58\">\n",
              "    <div class=\"colab-df-container\">\n",
              "      <div>\n",
              "<style scoped>\n",
              "    .dataframe tbody tr th:only-of-type {\n",
              "        vertical-align: middle;\n",
              "    }\n",
              "\n",
              "    .dataframe tbody tr th {\n",
              "        vertical-align: top;\n",
              "    }\n",
              "\n",
              "    .dataframe thead th {\n",
              "        text-align: right;\n",
              "    }\n",
              "</style>\n",
              "<table border=\"1\" class=\"dataframe\">\n",
              "  <thead>\n",
              "    <tr style=\"text-align: right;\">\n",
              "      <th></th>\n",
              "      <th>자격별(1)</th>\n",
              "      <th>산업별(1)</th>\n",
              "      <th>산업별(2)</th>\n",
              "      <th>2021</th>\n",
              "      <th>2021.1</th>\n",
              "      <th>2021.2</th>\n",
              "      <th>2021.3</th>\n",
              "      <th>2021.4</th>\n",
              "    </tr>\n",
              "  </thead>\n",
              "  <tbody>\n",
              "    <tr>\n",
              "      <th>0</th>\n",
              "      <td>자격별(1)</td>\n",
              "      <td>산업별(1)</td>\n",
              "      <td>산업별(2)</td>\n",
              "      <td>사례수 (명)</td>\n",
              "      <td>채용 (%)</td>\n",
              "      <td>직무배치 (%)</td>\n",
              "      <td>승진 (%)</td>\n",
              "      <td>활용 안함 (%)</td>\n",
              "    </tr>\n",
              "    <tr>\n",
              "      <th>1</th>\n",
              "      <td>국가자격(개별법)</td>\n",
              "      <td>전체</td>\n",
              "      <td>소계</td>\n",
              "      <td>500</td>\n",
              "      <td>19.6</td>\n",
              "      <td>25.4</td>\n",
              "      <td>3.8</td>\n",
              "      <td>51.2</td>\n",
              "    </tr>\n",
              "    <tr>\n",
              "      <th>2</th>\n",
              "      <td>NaN</td>\n",
              "      <td>제조</td>\n",
              "      <td>소규모</td>\n",
              "      <td>256</td>\n",
              "      <td>14.8</td>\n",
              "      <td>21.9</td>\n",
              "      <td>2.7</td>\n",
              "      <td>60.5</td>\n",
              "    </tr>\n",
              "    <tr>\n",
              "      <th>3</th>\n",
              "      <td>NaN</td>\n",
              "      <td>NaN</td>\n",
              "      <td>중규모</td>\n",
              "      <td>110</td>\n",
              "      <td>30</td>\n",
              "      <td>31.8</td>\n",
              "      <td>0.9</td>\n",
              "      <td>37.3</td>\n",
              "    </tr>\n",
              "    <tr>\n",
              "      <th>4</th>\n",
              "      <td>NaN</td>\n",
              "      <td>NaN</td>\n",
              "      <td>대규모</td>\n",
              "      <td>26</td>\n",
              "      <td>23.1</td>\n",
              "      <td>46.2</td>\n",
              "      <td>3.8</td>\n",
              "      <td>26.9</td>\n",
              "    </tr>\n",
              "    <tr>\n",
              "      <th>...</th>\n",
              "      <td>...</td>\n",
              "      <td>...</td>\n",
              "      <td>...</td>\n",
              "      <td>...</td>\n",
              "      <td>...</td>\n",
              "      <td>...</td>\n",
              "      <td>...</td>\n",
              "      <td>...</td>\n",
              "    </tr>\n",
              "    <tr>\n",
              "      <th>66</th>\n",
              "      <td>NaN</td>\n",
              "      <td>NaN</td>\n",
              "      <td>중규모</td>\n",
              "      <td>12</td>\n",
              "      <td>0</td>\n",
              "      <td>8.3</td>\n",
              "      <td>8.3</td>\n",
              "      <td>83.3</td>\n",
              "    </tr>\n",
              "    <tr>\n",
              "      <th>67</th>\n",
              "      <td>NaN</td>\n",
              "      <td>NaN</td>\n",
              "      <td>대규모</td>\n",
              "      <td>6</td>\n",
              "      <td>0</td>\n",
              "      <td>33.3</td>\n",
              "      <td>0</td>\n",
              "      <td>66.7</td>\n",
              "    </tr>\n",
              "    <tr>\n",
              "      <th>68</th>\n",
              "      <td>NaN</td>\n",
              "      <td>비금융</td>\n",
              "      <td>소규모</td>\n",
              "      <td>45</td>\n",
              "      <td>0</td>\n",
              "      <td>8.9</td>\n",
              "      <td>0</td>\n",
              "      <td>91.1</td>\n",
              "    </tr>\n",
              "    <tr>\n",
              "      <th>69</th>\n",
              "      <td>NaN</td>\n",
              "      <td>NaN</td>\n",
              "      <td>중규모</td>\n",
              "      <td>30</td>\n",
              "      <td>6.7</td>\n",
              "      <td>13.3</td>\n",
              "      <td>3.3</td>\n",
              "      <td>76.7</td>\n",
              "    </tr>\n",
              "    <tr>\n",
              "      <th>70</th>\n",
              "      <td>NaN</td>\n",
              "      <td>NaN</td>\n",
              "      <td>대규모</td>\n",
              "      <td>7</td>\n",
              "      <td>14.3</td>\n",
              "      <td>14.3</td>\n",
              "      <td>0</td>\n",
              "      <td>71.4</td>\n",
              "    </tr>\n",
              "  </tbody>\n",
              "</table>\n",
              "<p>71 rows × 8 columns</p>\n",
              "</div>\n",
              "      <button class=\"colab-df-convert\" onclick=\"convertToInteractive('df-18c3a840-3562-45e2-b851-a6a126855e58')\"\n",
              "              title=\"Convert this dataframe to an interactive table.\"\n",
              "              style=\"display:none;\">\n",
              "        \n",
              "  <svg xmlns=\"http://www.w3.org/2000/svg\" height=\"24px\"viewBox=\"0 0 24 24\"\n",
              "       width=\"24px\">\n",
              "    <path d=\"M0 0h24v24H0V0z\" fill=\"none\"/>\n",
              "    <path d=\"M18.56 5.44l.94 2.06.94-2.06 2.06-.94-2.06-.94-.94-2.06-.94 2.06-2.06.94zm-11 1L8.5 8.5l.94-2.06 2.06-.94-2.06-.94L8.5 2.5l-.94 2.06-2.06.94zm10 10l.94 2.06.94-2.06 2.06-.94-2.06-.94-.94-2.06-.94 2.06-2.06.94z\"/><path d=\"M17.41 7.96l-1.37-1.37c-.4-.4-.92-.59-1.43-.59-.52 0-1.04.2-1.43.59L10.3 9.45l-7.72 7.72c-.78.78-.78 2.05 0 2.83L4 21.41c.39.39.9.59 1.41.59.51 0 1.02-.2 1.41-.59l7.78-7.78 2.81-2.81c.8-.78.8-2.07 0-2.86zM5.41 20L4 18.59l7.72-7.72 1.47 1.35L5.41 20z\"/>\n",
              "  </svg>\n",
              "      </button>\n",
              "      \n",
              "  <style>\n",
              "    .colab-df-container {\n",
              "      display:flex;\n",
              "      flex-wrap:wrap;\n",
              "      gap: 12px;\n",
              "    }\n",
              "\n",
              "    .colab-df-convert {\n",
              "      background-color: #E8F0FE;\n",
              "      border: none;\n",
              "      border-radius: 50%;\n",
              "      cursor: pointer;\n",
              "      display: none;\n",
              "      fill: #1967D2;\n",
              "      height: 32px;\n",
              "      padding: 0 0 0 0;\n",
              "      width: 32px;\n",
              "    }\n",
              "\n",
              "    .colab-df-convert:hover {\n",
              "      background-color: #E2EBFA;\n",
              "      box-shadow: 0px 1px 2px rgba(60, 64, 67, 0.3), 0px 1px 3px 1px rgba(60, 64, 67, 0.15);\n",
              "      fill: #174EA6;\n",
              "    }\n",
              "\n",
              "    [theme=dark] .colab-df-convert {\n",
              "      background-color: #3B4455;\n",
              "      fill: #D2E3FC;\n",
              "    }\n",
              "\n",
              "    [theme=dark] .colab-df-convert:hover {\n",
              "      background-color: #434B5C;\n",
              "      box-shadow: 0px 1px 3px 1px rgba(0, 0, 0, 0.15);\n",
              "      filter: drop-shadow(0px 1px 2px rgba(0, 0, 0, 0.3));\n",
              "      fill: #FFFFFF;\n",
              "    }\n",
              "  </style>\n",
              "\n",
              "      <script>\n",
              "        const buttonEl =\n",
              "          document.querySelector('#df-18c3a840-3562-45e2-b851-a6a126855e58 button.colab-df-convert');\n",
              "        buttonEl.style.display =\n",
              "          google.colab.kernel.accessAllowed ? 'block' : 'none';\n",
              "\n",
              "        async function convertToInteractive(key) {\n",
              "          const element = document.querySelector('#df-18c3a840-3562-45e2-b851-a6a126855e58');\n",
              "          const dataTable =\n",
              "            await google.colab.kernel.invokeFunction('convertToInteractive',\n",
              "                                                     [key], {});\n",
              "          if (!dataTable) return;\n",
              "\n",
              "          const docLinkHtml = 'Like what you see? Visit the ' +\n",
              "            '<a target=\"_blank\" href=https://colab.research.google.com/notebooks/data_table.ipynb>data table notebook</a>'\n",
              "            + ' to learn more about interactive tables.';\n",
              "          element.innerHTML = '';\n",
              "          dataTable['output_type'] = 'display_data';\n",
              "          await google.colab.output.renderOutput(dataTable, element);\n",
              "          const docLink = document.createElement('div');\n",
              "          docLink.innerHTML = docLinkHtml;\n",
              "          element.appendChild(docLink);\n",
              "        }\n",
              "      </script>\n",
              "    </div>\n",
              "  </div>\n",
              "  "
            ]
          },
          "metadata": {},
          "execution_count": 77
        }
      ]
    },
    {
      "cell_type": "code",
      "source": [],
      "metadata": {
        "id": "9dQLpHoNBUDM"
      },
      "execution_count": null,
      "outputs": []
    }
  ]
}