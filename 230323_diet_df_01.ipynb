{
  "nbformat": 4,
  "nbformat_minor": 0,
  "metadata": {
    "colab": {
      "provenance": [],
      "mount_file_id": "1CeI-bvD6mwBXF_5SJ8PsOizKGvAryouD",
      "authorship_tag": "ABX9TyPv4tqQzwxw3sd2M6pyZeEn",
      "include_colab_link": true
    },
    "kernelspec": {
      "name": "python3",
      "display_name": "Python 3"
    },
    "language_info": {
      "name": "python"
    }
  },
  "cells": [
    {
      "cell_type": "markdown",
      "metadata": {
        "id": "view-in-github",
        "colab_type": "text"
      },
      "source": [
        "<a href=\"https://colab.research.google.com/github/galaxy-kim/Python_note_backup/blob/main/230323_diet_df_01.ipynb\" target=\"_parent\"><img src=\"https://colab.research.google.com/assets/colab-badge.svg\" alt=\"Open In Colab\"/></a>"
      ]
    },
    {
      "cell_type": "code",
      "execution_count": 1,
      "metadata": {
        "id": "ibNI2wxF2WXP"
      },
      "outputs": [],
      "source": [
        "import pandas as pd\n",
        "import numpy as np"
      ]
    },
    {
      "cell_type": "code",
      "source": [
        "age_0=pd.read_excel(\"/content/drive/MyDrive/Colab Notebooks/ubion_given_data/diet_df/online_diet_age_0.xlsx\")\n",
        "age_2=pd.read_excel(\"/content/drive/MyDrive/Colab Notebooks/ubion_given_data/diet_df/online_diet_age_2.xlsx\")\n",
        "age_3=pd.read_excel(\"/content/drive/MyDrive/Colab Notebooks/ubion_given_data/diet_df/online_diet_age_3.xlsx\")\n",
        "age_4=pd.read_excel(\"/content/drive/MyDrive/Colab Notebooks/ubion_given_data/diet_df/online_diet_age_4.xlsx\")\n",
        "age_5=pd.read_excel(\"/content/drive/MyDrive/Colab Notebooks/ubion_given_data/diet_df/online_diet_age_5.xlsx\")\n",
        "age_6=pd.read_excel(\"/content/drive/MyDrive/Colab Notebooks/ubion_given_data/diet_df/online_diet_age_6.xlsx\")\n",
        "age_7=pd.read_excel(\"/content/drive/MyDrive/Colab Notebooks/ubion_given_data/diet_df/online_diet_age_7.xlsx\")"
      ],
      "metadata": {
        "id": "oDUoV-rk3OjY"
      },
      "execution_count": 2,
      "outputs": []
    },
    {
      "cell_type": "code",
      "source": [
        "age_all=pd.read_excel(\"/content/drive/MyDrive/Colab Notebooks/ubion_given_data/online_diet_age_scaled.xlsx\")"
      ],
      "metadata": {
        "id": "OgYtH_yk6zfJ"
      },
      "execution_count": 5,
      "outputs": []
    },
    {
      "cell_type": "code",
      "source": [
        "age_all"
      ],
      "metadata": {
        "colab": {
          "base_uri": "https://localhost:8080/",
          "height": 500
        },
        "id": "uwSsBMz73g9_",
        "outputId": "88bbe525-933a-48ed-bd5f-f5d16cc81801"
      },
      "execution_count": 6,
      "outputs": [
        {
          "output_type": "execute_result",
          "data": {
            "text/plain": [
              "      Unnamed: 0    id  age_code  occupation  sex  married  dise_yn  \\\n",
              "0           2032   796         0          12    2        0        0   \n",
              "1             78  1014         2          12    2        1        0   \n",
              "2            250  1014         2          12    2        1        0   \n",
              "3            739  1014         2          12    2        1        0   \n",
              "4            741  1014         2          12    2        1        0   \n",
              "...          ...   ...       ...         ...  ...      ...      ...   \n",
              "4445        2650  2476         7          14    2        1        1   \n",
              "4446        2374  2727         7          14    2        1        1   \n",
              "4447        2299   723         7          12    2        1        0   \n",
              "4448        1195    63         7          14    2        1        0   \n",
              "4449        3540  1876         7          16    2        1        1   \n",
              "\n",
              "     created_YMD  diet_purpose  order_id  ...  p_month  bmi_g    height  \\\n",
              "0     2001-01-29             1     17772  ...        7      2 -0.853945   \n",
              "1     2000-05-10             1     17770  ...        5      2  0.554158   \n",
              "2     2000-05-10             1     18150  ...        5      2 -0.372977   \n",
              "3     2000-05-10             1     19152  ...        6      2 -0.049580   \n",
              "4     2000-05-10             1     19166  ...        6      2  0.442382   \n",
              "...          ...           ...       ...  ...      ...    ...       ...   \n",
              "4445  2001-07-24             3     22943  ...        7      3  1.116851   \n",
              "4446  2000-09-04             3     22407  ...        7      4       NaN   \n",
              "4447  2001-07-13             0     22132  ...        7      2  0.079831   \n",
              "4448  2001-02-21             0     20775  ...        6      3 -0.372977   \n",
              "4449  2001-08-14             3     27168  ...        8      3  1.116851   \n",
              "\n",
              "        weight  want_diet  weight_reduce     waist      heap  p_price_000  \\\n",
              "0    -2.404421  -1.727988      -0.304324  0.221760  0.175738    -0.291429   \n",
              "1    -1.191847  -1.221584      -0.092350  0.221760  0.175738    -0.179013   \n",
              "2    -0.890791  -0.436759      -0.573663  0.266633  0.153034    -0.278296   \n",
              "3     0.315081   0.382522      -0.092350  0.390302  0.141486    -0.179013   \n",
              "4    -0.472129  -0.127413      -0.573663  0.309578 -0.323233    -0.239901   \n",
              "...        ...        ...            ...       ...       ...          ...   \n",
              "4445  1.191025   1.054812       0.671295  0.464994  0.230341    -0.304737   \n",
              "4446 -0.177913   0.208424      -0.943422  0.350754  0.153034    -0.239901   \n",
              "4447       NaN        NaN       0.082455  0.174779 -0.323233    -0.304737   \n",
              "4448 -2.404421  -1.727988      -0.304324       NaN -0.323233    -0.403209   \n",
              "4449  1.283836   1.205947       0.578076  0.599474  0.186900    -0.318225   \n",
              "\n",
              "      p_price_000_idcount  \n",
              "0               -0.278424  \n",
              "1               -0.124640  \n",
              "2               -0.278424  \n",
              "3                0.008616  \n",
              "4                0.008616  \n",
              "...                   ...  \n",
              "4445            -0.278424  \n",
              "4446            -0.278424  \n",
              "4447            -0.278424  \n",
              "4448            -0.124640  \n",
              "4449            -0.124640  \n",
              "\n",
              "[4450 rows x 22 columns]"
            ],
            "text/html": [
              "\n",
              "  <div id=\"df-d802cf9b-d7c2-471c-a5c3-c6104b89b04b\">\n",
              "    <div class=\"colab-df-container\">\n",
              "      <div>\n",
              "<style scoped>\n",
              "    .dataframe tbody tr th:only-of-type {\n",
              "        vertical-align: middle;\n",
              "    }\n",
              "\n",
              "    .dataframe tbody tr th {\n",
              "        vertical-align: top;\n",
              "    }\n",
              "\n",
              "    .dataframe thead th {\n",
              "        text-align: right;\n",
              "    }\n",
              "</style>\n",
              "<table border=\"1\" class=\"dataframe\">\n",
              "  <thead>\n",
              "    <tr style=\"text-align: right;\">\n",
              "      <th></th>\n",
              "      <th>Unnamed: 0</th>\n",
              "      <th>id</th>\n",
              "      <th>age_code</th>\n",
              "      <th>occupation</th>\n",
              "      <th>sex</th>\n",
              "      <th>married</th>\n",
              "      <th>dise_yn</th>\n",
              "      <th>created_YMD</th>\n",
              "      <th>diet_purpose</th>\n",
              "      <th>order_id</th>\n",
              "      <th>...</th>\n",
              "      <th>p_month</th>\n",
              "      <th>bmi_g</th>\n",
              "      <th>height</th>\n",
              "      <th>weight</th>\n",
              "      <th>want_diet</th>\n",
              "      <th>weight_reduce</th>\n",
              "      <th>waist</th>\n",
              "      <th>heap</th>\n",
              "      <th>p_price_000</th>\n",
              "      <th>p_price_000_idcount</th>\n",
              "    </tr>\n",
              "  </thead>\n",
              "  <tbody>\n",
              "    <tr>\n",
              "      <th>0</th>\n",
              "      <td>2032</td>\n",
              "      <td>796</td>\n",
              "      <td>0</td>\n",
              "      <td>12</td>\n",
              "      <td>2</td>\n",
              "      <td>0</td>\n",
              "      <td>0</td>\n",
              "      <td>2001-01-29</td>\n",
              "      <td>1</td>\n",
              "      <td>17772</td>\n",
              "      <td>...</td>\n",
              "      <td>7</td>\n",
              "      <td>2</td>\n",
              "      <td>-0.853945</td>\n",
              "      <td>-2.404421</td>\n",
              "      <td>-1.727988</td>\n",
              "      <td>-0.304324</td>\n",
              "      <td>0.221760</td>\n",
              "      <td>0.175738</td>\n",
              "      <td>-0.291429</td>\n",
              "      <td>-0.278424</td>\n",
              "    </tr>\n",
              "    <tr>\n",
              "      <th>1</th>\n",
              "      <td>78</td>\n",
              "      <td>1014</td>\n",
              "      <td>2</td>\n",
              "      <td>12</td>\n",
              "      <td>2</td>\n",
              "      <td>1</td>\n",
              "      <td>0</td>\n",
              "      <td>2000-05-10</td>\n",
              "      <td>1</td>\n",
              "      <td>17770</td>\n",
              "      <td>...</td>\n",
              "      <td>5</td>\n",
              "      <td>2</td>\n",
              "      <td>0.554158</td>\n",
              "      <td>-1.191847</td>\n",
              "      <td>-1.221584</td>\n",
              "      <td>-0.092350</td>\n",
              "      <td>0.221760</td>\n",
              "      <td>0.175738</td>\n",
              "      <td>-0.179013</td>\n",
              "      <td>-0.124640</td>\n",
              "    </tr>\n",
              "    <tr>\n",
              "      <th>2</th>\n",
              "      <td>250</td>\n",
              "      <td>1014</td>\n",
              "      <td>2</td>\n",
              "      <td>12</td>\n",
              "      <td>2</td>\n",
              "      <td>1</td>\n",
              "      <td>0</td>\n",
              "      <td>2000-05-10</td>\n",
              "      <td>1</td>\n",
              "      <td>18150</td>\n",
              "      <td>...</td>\n",
              "      <td>5</td>\n",
              "      <td>2</td>\n",
              "      <td>-0.372977</td>\n",
              "      <td>-0.890791</td>\n",
              "      <td>-0.436759</td>\n",
              "      <td>-0.573663</td>\n",
              "      <td>0.266633</td>\n",
              "      <td>0.153034</td>\n",
              "      <td>-0.278296</td>\n",
              "      <td>-0.278424</td>\n",
              "    </tr>\n",
              "    <tr>\n",
              "      <th>3</th>\n",
              "      <td>739</td>\n",
              "      <td>1014</td>\n",
              "      <td>2</td>\n",
              "      <td>12</td>\n",
              "      <td>2</td>\n",
              "      <td>1</td>\n",
              "      <td>0</td>\n",
              "      <td>2000-05-10</td>\n",
              "      <td>1</td>\n",
              "      <td>19152</td>\n",
              "      <td>...</td>\n",
              "      <td>6</td>\n",
              "      <td>2</td>\n",
              "      <td>-0.049580</td>\n",
              "      <td>0.315081</td>\n",
              "      <td>0.382522</td>\n",
              "      <td>-0.092350</td>\n",
              "      <td>0.390302</td>\n",
              "      <td>0.141486</td>\n",
              "      <td>-0.179013</td>\n",
              "      <td>0.008616</td>\n",
              "    </tr>\n",
              "    <tr>\n",
              "      <th>4</th>\n",
              "      <td>741</td>\n",
              "      <td>1014</td>\n",
              "      <td>2</td>\n",
              "      <td>12</td>\n",
              "      <td>2</td>\n",
              "      <td>1</td>\n",
              "      <td>0</td>\n",
              "      <td>2000-05-10</td>\n",
              "      <td>1</td>\n",
              "      <td>19166</td>\n",
              "      <td>...</td>\n",
              "      <td>6</td>\n",
              "      <td>2</td>\n",
              "      <td>0.442382</td>\n",
              "      <td>-0.472129</td>\n",
              "      <td>-0.127413</td>\n",
              "      <td>-0.573663</td>\n",
              "      <td>0.309578</td>\n",
              "      <td>-0.323233</td>\n",
              "      <td>-0.239901</td>\n",
              "      <td>0.008616</td>\n",
              "    </tr>\n",
              "    <tr>\n",
              "      <th>...</th>\n",
              "      <td>...</td>\n",
              "      <td>...</td>\n",
              "      <td>...</td>\n",
              "      <td>...</td>\n",
              "      <td>...</td>\n",
              "      <td>...</td>\n",
              "      <td>...</td>\n",
              "      <td>...</td>\n",
              "      <td>...</td>\n",
              "      <td>...</td>\n",
              "      <td>...</td>\n",
              "      <td>...</td>\n",
              "      <td>...</td>\n",
              "      <td>...</td>\n",
              "      <td>...</td>\n",
              "      <td>...</td>\n",
              "      <td>...</td>\n",
              "      <td>...</td>\n",
              "      <td>...</td>\n",
              "      <td>...</td>\n",
              "      <td>...</td>\n",
              "    </tr>\n",
              "    <tr>\n",
              "      <th>4445</th>\n",
              "      <td>2650</td>\n",
              "      <td>2476</td>\n",
              "      <td>7</td>\n",
              "      <td>14</td>\n",
              "      <td>2</td>\n",
              "      <td>1</td>\n",
              "      <td>1</td>\n",
              "      <td>2001-07-24</td>\n",
              "      <td>3</td>\n",
              "      <td>22943</td>\n",
              "      <td>...</td>\n",
              "      <td>7</td>\n",
              "      <td>3</td>\n",
              "      <td>1.116851</td>\n",
              "      <td>1.191025</td>\n",
              "      <td>1.054812</td>\n",
              "      <td>0.671295</td>\n",
              "      <td>0.464994</td>\n",
              "      <td>0.230341</td>\n",
              "      <td>-0.304737</td>\n",
              "      <td>-0.278424</td>\n",
              "    </tr>\n",
              "    <tr>\n",
              "      <th>4446</th>\n",
              "      <td>2374</td>\n",
              "      <td>2727</td>\n",
              "      <td>7</td>\n",
              "      <td>14</td>\n",
              "      <td>2</td>\n",
              "      <td>1</td>\n",
              "      <td>1</td>\n",
              "      <td>2000-09-04</td>\n",
              "      <td>3</td>\n",
              "      <td>22407</td>\n",
              "      <td>...</td>\n",
              "      <td>7</td>\n",
              "      <td>4</td>\n",
              "      <td>NaN</td>\n",
              "      <td>-0.177913</td>\n",
              "      <td>0.208424</td>\n",
              "      <td>-0.943422</td>\n",
              "      <td>0.350754</td>\n",
              "      <td>0.153034</td>\n",
              "      <td>-0.239901</td>\n",
              "      <td>-0.278424</td>\n",
              "    </tr>\n",
              "    <tr>\n",
              "      <th>4447</th>\n",
              "      <td>2299</td>\n",
              "      <td>723</td>\n",
              "      <td>7</td>\n",
              "      <td>12</td>\n",
              "      <td>2</td>\n",
              "      <td>1</td>\n",
              "      <td>0</td>\n",
              "      <td>2001-07-13</td>\n",
              "      <td>0</td>\n",
              "      <td>22132</td>\n",
              "      <td>...</td>\n",
              "      <td>7</td>\n",
              "      <td>2</td>\n",
              "      <td>0.079831</td>\n",
              "      <td>NaN</td>\n",
              "      <td>NaN</td>\n",
              "      <td>0.082455</td>\n",
              "      <td>0.174779</td>\n",
              "      <td>-0.323233</td>\n",
              "      <td>-0.304737</td>\n",
              "      <td>-0.278424</td>\n",
              "    </tr>\n",
              "    <tr>\n",
              "      <th>4448</th>\n",
              "      <td>1195</td>\n",
              "      <td>63</td>\n",
              "      <td>7</td>\n",
              "      <td>14</td>\n",
              "      <td>2</td>\n",
              "      <td>1</td>\n",
              "      <td>0</td>\n",
              "      <td>2001-02-21</td>\n",
              "      <td>0</td>\n",
              "      <td>20775</td>\n",
              "      <td>...</td>\n",
              "      <td>6</td>\n",
              "      <td>3</td>\n",
              "      <td>-0.372977</td>\n",
              "      <td>-2.404421</td>\n",
              "      <td>-1.727988</td>\n",
              "      <td>-0.304324</td>\n",
              "      <td>NaN</td>\n",
              "      <td>-0.323233</td>\n",
              "      <td>-0.403209</td>\n",
              "      <td>-0.124640</td>\n",
              "    </tr>\n",
              "    <tr>\n",
              "      <th>4449</th>\n",
              "      <td>3540</td>\n",
              "      <td>1876</td>\n",
              "      <td>7</td>\n",
              "      <td>16</td>\n",
              "      <td>2</td>\n",
              "      <td>1</td>\n",
              "      <td>1</td>\n",
              "      <td>2001-08-14</td>\n",
              "      <td>3</td>\n",
              "      <td>27168</td>\n",
              "      <td>...</td>\n",
              "      <td>8</td>\n",
              "      <td>3</td>\n",
              "      <td>1.116851</td>\n",
              "      <td>1.283836</td>\n",
              "      <td>1.205947</td>\n",
              "      <td>0.578076</td>\n",
              "      <td>0.599474</td>\n",
              "      <td>0.186900</td>\n",
              "      <td>-0.318225</td>\n",
              "      <td>-0.124640</td>\n",
              "    </tr>\n",
              "  </tbody>\n",
              "</table>\n",
              "<p>4450 rows × 22 columns</p>\n",
              "</div>\n",
              "      <button class=\"colab-df-convert\" onclick=\"convertToInteractive('df-d802cf9b-d7c2-471c-a5c3-c6104b89b04b')\"\n",
              "              title=\"Convert this dataframe to an interactive table.\"\n",
              "              style=\"display:none;\">\n",
              "        \n",
              "  <svg xmlns=\"http://www.w3.org/2000/svg\" height=\"24px\"viewBox=\"0 0 24 24\"\n",
              "       width=\"24px\">\n",
              "    <path d=\"M0 0h24v24H0V0z\" fill=\"none\"/>\n",
              "    <path d=\"M18.56 5.44l.94 2.06.94-2.06 2.06-.94-2.06-.94-.94-2.06-.94 2.06-2.06.94zm-11 1L8.5 8.5l.94-2.06 2.06-.94-2.06-.94L8.5 2.5l-.94 2.06-2.06.94zm10 10l.94 2.06.94-2.06 2.06-.94-2.06-.94-.94-2.06-.94 2.06-2.06.94z\"/><path d=\"M17.41 7.96l-1.37-1.37c-.4-.4-.92-.59-1.43-.59-.52 0-1.04.2-1.43.59L10.3 9.45l-7.72 7.72c-.78.78-.78 2.05 0 2.83L4 21.41c.39.39.9.59 1.41.59.51 0 1.02-.2 1.41-.59l7.78-7.78 2.81-2.81c.8-.78.8-2.07 0-2.86zM5.41 20L4 18.59l7.72-7.72 1.47 1.35L5.41 20z\"/>\n",
              "  </svg>\n",
              "      </button>\n",
              "      \n",
              "  <style>\n",
              "    .colab-df-container {\n",
              "      display:flex;\n",
              "      flex-wrap:wrap;\n",
              "      gap: 12px;\n",
              "    }\n",
              "\n",
              "    .colab-df-convert {\n",
              "      background-color: #E8F0FE;\n",
              "      border: none;\n",
              "      border-radius: 50%;\n",
              "      cursor: pointer;\n",
              "      display: none;\n",
              "      fill: #1967D2;\n",
              "      height: 32px;\n",
              "      padding: 0 0 0 0;\n",
              "      width: 32px;\n",
              "    }\n",
              "\n",
              "    .colab-df-convert:hover {\n",
              "      background-color: #E2EBFA;\n",
              "      box-shadow: 0px 1px 2px rgba(60, 64, 67, 0.3), 0px 1px 3px 1px rgba(60, 64, 67, 0.15);\n",
              "      fill: #174EA6;\n",
              "    }\n",
              "\n",
              "    [theme=dark] .colab-df-convert {\n",
              "      background-color: #3B4455;\n",
              "      fill: #D2E3FC;\n",
              "    }\n",
              "\n",
              "    [theme=dark] .colab-df-convert:hover {\n",
              "      background-color: #434B5C;\n",
              "      box-shadow: 0px 1px 3px 1px rgba(0, 0, 0, 0.15);\n",
              "      filter: drop-shadow(0px 1px 2px rgba(0, 0, 0, 0.3));\n",
              "      fill: #FFFFFF;\n",
              "    }\n",
              "  </style>\n",
              "\n",
              "      <script>\n",
              "        const buttonEl =\n",
              "          document.querySelector('#df-d802cf9b-d7c2-471c-a5c3-c6104b89b04b button.colab-df-convert');\n",
              "        buttonEl.style.display =\n",
              "          google.colab.kernel.accessAllowed ? 'block' : 'none';\n",
              "\n",
              "        async function convertToInteractive(key) {\n",
              "          const element = document.querySelector('#df-d802cf9b-d7c2-471c-a5c3-c6104b89b04b');\n",
              "          const dataTable =\n",
              "            await google.colab.kernel.invokeFunction('convertToInteractive',\n",
              "                                                     [key], {});\n",
              "          if (!dataTable) return;\n",
              "\n",
              "          const docLinkHtml = 'Like what you see? Visit the ' +\n",
              "            '<a target=\"_blank\" href=https://colab.research.google.com/notebooks/data_table.ipynb>data table notebook</a>'\n",
              "            + ' to learn more about interactive tables.';\n",
              "          element.innerHTML = '';\n",
              "          dataTable['output_type'] = 'display_data';\n",
              "          await google.colab.output.renderOutput(dataTable, element);\n",
              "          const docLink = document.createElement('div');\n",
              "          docLink.innerHTML = docLinkHtml;\n",
              "          element.appendChild(docLink);\n",
              "        }\n",
              "      </script>\n",
              "    </div>\n",
              "  </div>\n",
              "  "
            ]
          },
          "metadata": {},
          "execution_count": 6
        }
      ]
    },
    {
      "cell_type": "markdown",
      "source": [
        "## 연령대별 구매건수 및 회원수 확인"
      ],
      "metadata": {
        "id": "ScozPe2CAwGS"
      }
    },
    {
      "cell_type": "code",
      "source": [
        "# Count the number of occurrences of each value in the 'age' column\n",
        "counts = age_all['age_code'].value_counts()\n",
        "\n",
        "# Display the counts\n",
        "print(counts)"
      ],
      "metadata": {
        "colab": {
          "base_uri": "https://localhost:8080/"
        },
        "id": "X5nWLFi33ke7",
        "outputId": "cecfb189-6e3f-403b-e8b2-9b1ed134bc94"
      },
      "execution_count": 7,
      "outputs": [
        {
          "output_type": "stream",
          "name": "stdout",
          "text": [
            "4    3050\n",
            "5     905\n",
            "3     296\n",
            "6     160\n",
            "7      23\n",
            "2      15\n",
            "0       1\n",
            "Name: age_code, dtype: int64\n"
          ]
        }
      ]
    },
    {
      "cell_type": "code",
      "source": [
        "# Count the number of occurrences of each value in the 'age' column\n",
        "counts2 = age_4['id'].value_counts()\n",
        "\n",
        "# Display the counts\n",
        "print(counts2)"
      ],
      "metadata": {
        "colab": {
          "base_uri": "https://localhost:8080/"
        },
        "id": "wgOVITb08uQ4",
        "outputId": "ffd4b7a9-371b-4b67-f5b7-1503f46c0683"
      },
      "execution_count": 8,
      "outputs": [
        {
          "output_type": "stream",
          "name": "stdout",
          "text": [
            "3053    64\n",
            "1291    31\n",
            "1174     8\n",
            "1209     8\n",
            "2914     6\n",
            "        ..\n",
            "963      1\n",
            "3170     1\n",
            "1597     1\n",
            "965      1\n",
            "981      1\n",
            "Name: id, Length: 2271, dtype: int64\n"
          ]
        }
      ]
    },
    {
      "cell_type": "code",
      "source": [
        "# Count the number of occurrences of each value in the 'age' column\n",
        "counts3 = age_3['id'].value_counts()\n",
        "\n",
        "# Display the counts\n",
        "print(counts3)"
      ],
      "metadata": {
        "colab": {
          "base_uri": "https://localhost:8080/"
        },
        "id": "YyRxkHfn9hHw",
        "outputId": "67b781da-1ca5-48db-f5f7-a3441b7da922"
      },
      "execution_count": 9,
      "outputs": [
        {
          "output_type": "stream",
          "name": "stdout",
          "text": [
            "3095    9\n",
            "2349    5\n",
            "433     4\n",
            "407     4\n",
            "1860    3\n",
            "       ..\n",
            "1960    1\n",
            "898     1\n",
            "3104    1\n",
            "2930    1\n",
            "2054    1\n",
            "Name: id, Length: 232, dtype: int64\n"
          ]
        }
      ]
    },
    {
      "cell_type": "code",
      "source": [
        "# Count the number of occurrences of each value in the 'age' column\n",
        "counts4 = age_5['id'].value_counts()\n",
        "\n",
        "# Display the counts\n",
        "print(counts4)"
      ],
      "metadata": {
        "colab": {
          "base_uri": "https://localhost:8080/"
        },
        "id": "Bt_1OgKv9-zs",
        "outputId": "f8c6d24e-7ebd-4351-a2c9-ed3ea878e2ea"
      },
      "execution_count": 10,
      "outputs": [
        {
          "output_type": "stream",
          "name": "stdout",
          "text": [
            "2492    16\n",
            "680      8\n",
            "1852     7\n",
            "2839     6\n",
            "2904     6\n",
            "        ..\n",
            "2515     1\n",
            "1664     1\n",
            "1576     1\n",
            "1964     1\n",
            "2536     1\n",
            "Name: id, Length: 675, dtype: int64\n"
          ]
        }
      ]
    },
    {
      "cell_type": "markdown",
      "source": [
        "## 연령대별 평균 구매금액 확인"
      ],
      "metadata": {
        "id": "PM8GEFWHA11d"
      }
    },
    {
      "cell_type": "code",
      "source": [
        "age_all.columns"
      ],
      "metadata": {
        "colab": {
          "base_uri": "https://localhost:8080/"
        },
        "id": "4xXVlcGAA-Qy",
        "outputId": "dc87135f-6e35-4964-b965-933dd20cad70"
      },
      "execution_count": 11,
      "outputs": [
        {
          "output_type": "execute_result",
          "data": {
            "text/plain": [
              "Index(['Unnamed: 0', 'id', 'age_code', 'occupation', 'sex', 'married',\n",
              "       'dise_yn', 'created_YMD', 'diet_purpose', 'order_id', 'pfid',\n",
              "       'p_category', 'p_month', 'bmi_g', 'height', 'weight', 'want_diet',\n",
              "       'weight_reduce', 'waist', 'heap', 'p_price_000', 'p_price_000_idcount'],\n",
              "      dtype='object')"
            ]
          },
          "metadata": {},
          "execution_count": 11
        }
      ]
    },
    {
      "cell_type": "code",
      "source": [
        "# Calculate the mean sales value for each age code\n",
        "age_sales_mean = age_all.groupby('age_code')['p_price_000'].mean()\n",
        "\n",
        "# Display the mean sales values\n",
        "print(age_sales_mean)"
      ],
      "metadata": {
        "colab": {
          "base_uri": "https://localhost:8080/"
        },
        "id": "yOj6GhHn_wL4",
        "outputId": "7c7349de-81a9-4e18-cbb8-069242a2af7a"
      },
      "execution_count": 13,
      "outputs": [
        {
          "output_type": "stream",
          "name": "stdout",
          "text": [
            "age_code\n",
            "0   -0.291429\n",
            "2   -0.179731\n",
            "3   -0.101591\n",
            "4   -0.131810\n",
            "5   -0.136347\n",
            "6   -0.014919\n",
            "7   -0.292764\n",
            "Name: p_price_000, dtype: float64\n"
          ]
        }
      ]
    },
    {
      "cell_type": "code",
      "source": [
        "age_sales_mean.hist()"
      ],
      "metadata": {
        "colab": {
          "base_uri": "https://localhost:8080/",
          "height": 282
        },
        "id": "6kGAoCKSBCyU",
        "outputId": "0d1a820f-1ca5-4f9e-8523-03ade96da3a4"
      },
      "execution_count": 14,
      "outputs": [
        {
          "output_type": "execute_result",
          "data": {
            "text/plain": [
              "<Axes: >"
            ]
          },
          "metadata": {},
          "execution_count": 14
        },
        {
          "output_type": "display_data",
          "data": {
            "text/plain": [
              "<Figure size 432x288 with 1 Axes>"
            ],
            "image/png": "[encoded data removed]"
          },
          "metadata": {
            "needs_background": "light"
          }
        }
      ]
    },
    {
      "cell_type": "code",
      "source": [
        "import matplotlib.pyplot as plt"
      ],
      "metadata": {
        "id": "EUB1pbH3BI2c"
      },
      "execution_count": 15,
      "outputs": []
    },
    {
      "cell_type": "code",
      "source": [
        "asm=pd.DataFrame(age_sales_mean).reset_index()\n",
        "asm"
      ],
      "metadata": {
        "colab": {
          "base_uri": "https://localhost:8080/",
          "height": 266
        },
        "id": "5OoHLPn7CMcu",
        "outputId": "f8a7f68f-dc57-43fe-8b35-9d184858db8a"
      },
      "execution_count": 21,
      "outputs": [
        {
          "output_type": "execute_result",
          "data": {
            "text/plain": [
              "   age_code  p_price_000\n",
              "0         0    -0.291429\n",
              "1         2    -0.179731\n",
              "2         3    -0.101591\n",
              "3         4    -0.131810\n",
              "4         5    -0.136347\n",
              "5         6    -0.014919\n",
              "6         7    -0.292764"
            ],
            "text/html": [
              "\n",
              "  <div id=\"df-1629ea87-988c-444c-b718-2ece1c4f336d\">\n",
              "    <div class=\"colab-df-container\">\n",
              "      <div>\n",
              "<style scoped>\n",
              "    .dataframe tbody tr th:only-of-type {\n",
              "        vertical-align: middle;\n",
              "    }\n",
              "\n",
              "    .dataframe tbody tr th {\n",
              "        vertical-align: top;\n",
              "    }\n",
              "\n",
              "    .dataframe thead th {\n",
              "        text-align: right;\n",
              "    }\n",
              "</style>\n",
              "<table border=\"1\" class=\"dataframe\">\n",
              "  <thead>\n",
              "    <tr style=\"text-align: right;\">\n",
              "      <th></th>\n",
              "      <th>age_code</th>\n",
              "      <th>p_price_000</th>\n",
              "    </tr>\n",
              "  </thead>\n",
              "  <tbody>\n",
              "    <tr>\n",
              "      <th>0</th>\n",
              "      <td>0</td>\n",
              "      <td>-0.291429</td>\n",
              "    </tr>\n",
              "    <tr>\n",
              "      <th>1</th>\n",
              "      <td>2</td>\n",
              "      <td>-0.179731</td>\n",
              "    </tr>\n",
              "    <tr>\n",
              "      <th>2</th>\n",
              "      <td>3</td>\n",
              "      <td>-0.101591</td>\n",
              "    </tr>\n",
              "    <tr>\n",
              "      <th>3</th>\n",
              "      <td>4</td>\n",
              "      <td>-0.131810</td>\n",
              "    </tr>\n",
              "    <tr>\n",
              "      <th>4</th>\n",
              "      <td>5</td>\n",
              "      <td>-0.136347</td>\n",
              "    </tr>\n",
              "    <tr>\n",
              "      <th>5</th>\n",
              "      <td>6</td>\n",
              "      <td>-0.014919</td>\n",
              "    </tr>\n",
              "    <tr>\n",
              "      <th>6</th>\n",
              "      <td>7</td>\n",
              "      <td>-0.292764</td>\n",
              "    </tr>\n",
              "  </tbody>\n",
              "</table>\n",
              "</div>\n",
              "      <button class=\"colab-df-convert\" onclick=\"convertToInteractive('df-1629ea87-988c-444c-b718-2ece1c4f336d')\"\n",
              "              title=\"Convert this dataframe to an interactive table.\"\n",
              "              style=\"display:none;\">\n",
              "        \n",
              "  <svg xmlns=\"http://www.w3.org/2000/svg\" height=\"24px\"viewBox=\"0 0 24 24\"\n",
              "       width=\"24px\">\n",
              "    <path d=\"M0 0h24v24H0V0z\" fill=\"none\"/>\n",
              "    <path d=\"M18.56 5.44l.94 2.06.94-2.06 2.06-.94-2.06-.94-.94-2.06-.94 2.06-2.06.94zm-11 1L8.5 8.5l.94-2.06 2.06-.94-2.06-.94L8.5 2.5l-.94 2.06-2.06.94zm10 10l.94 2.06.94-2.06 2.06-.94-2.06-.94-.94-2.06-.94 2.06-2.06.94z\"/><path d=\"M17.41 7.96l-1.37-1.37c-.4-.4-.92-.59-1.43-.59-.52 0-1.04.2-1.43.59L10.3 9.45l-7.72 7.72c-.78.78-.78 2.05 0 2.83L4 21.41c.39.39.9.59 1.41.59.51 0 1.02-.2 1.41-.59l7.78-7.78 2.81-2.81c.8-.78.8-2.07 0-2.86zM5.41 20L4 18.59l7.72-7.72 1.47 1.35L5.41 20z\"/>\n",
              "  </svg>\n",
              "      </button>\n",
              "      \n",
              "  <style>\n",
              "    .colab-df-container {\n",
              "      display:flex;\n",
              "      flex-wrap:wrap;\n",
              "      gap: 12px;\n",
              "    }\n",
              "\n",
              "    .colab-df-convert {\n",
              "      background-color: #E8F0FE;\n",
              "      border: none;\n",
              "      border-radius: 50%;\n",
              "      cursor: pointer;\n",
              "      display: none;\n",
              "      fill: #1967D2;\n",
              "      height: 32px;\n",
              "      padding: 0 0 0 0;\n",
              "      width: 32px;\n",
              "    }\n",
              "\n",
              "    .colab-df-convert:hover {\n",
              "      background-color: #E2EBFA;\n",
              "      box-shadow: 0px 1px 2px rgba(60, 64, 67, 0.3), 0px 1px 3px 1px rgba(60, 64, 67, 0.15);\n",
              "      fill: #174EA6;\n",
              "    }\n",
              "\n",
              "    [theme=dark] .colab-df-convert {\n",
              "      background-color: #3B4455;\n",
              "      fill: #D2E3FC;\n",
              "    }\n",
              "\n",
              "    [theme=dark] .colab-df-convert:hover {\n",
              "      background-color: #434B5C;\n",
              "      box-shadow: 0px 1px 3px 1px rgba(0, 0, 0, 0.15);\n",
              "      filter: drop-shadow(0px 1px 2px rgba(0, 0, 0, 0.3));\n",
              "      fill: #FFFFFF;\n",
              "    }\n",
              "  </style>\n",
              "\n",
              "      <script>\n",
              "        const buttonEl =\n",
              "          document.querySelector('#df-1629ea87-988c-444c-b718-2ece1c4f336d button.colab-df-convert');\n",
              "        buttonEl.style.display =\n",
              "          google.colab.kernel.accessAllowed ? 'block' : 'none';\n",
              "\n",
              "        async function convertToInteractive(key) {\n",
              "          const element = document.querySelector('#df-1629ea87-988c-444c-b718-2ece1c4f336d');\n",
              "          const dataTable =\n",
              "            await google.colab.kernel.invokeFunction('convertToInteractive',\n",
              "                                                     [key], {});\n",
              "          if (!dataTable) return;\n",
              "\n",
              "          const docLinkHtml = 'Like what you see? Visit the ' +\n",
              "            '<a target=\"_blank\" href=https://colab.research.google.com/notebooks/data_table.ipynb>data table notebook</a>'\n",
              "            + ' to learn more about interactive tables.';\n",
              "          element.innerHTML = '';\n",
              "          dataTable['output_type'] = 'display_data';\n",
              "          await google.colab.output.renderOutput(dataTable, element);\n",
              "          const docLink = document.createElement('div');\n",
              "          docLink.innerHTML = docLinkHtml;\n",
              "          element.appendChild(docLink);\n",
              "        }\n",
              "      </script>\n",
              "    </div>\n",
              "  </div>\n",
              "  "
            ]
          },
          "metadata": {},
          "execution_count": 21
        }
      ]
    },
    {
      "cell_type": "code",
      "source": [
        "\n",
        "# Create a bar chart of the mean sales value for each age code\n",
        "plt.bar(asm['age_code'], asm['p_price_000'])\n",
        "plt.xlabel('age_code')\n",
        "plt.ylabel('sales_means')\n",
        "plt.show()"
      ],
      "metadata": {
        "colab": {
          "base_uri": "https://localhost:8080/",
          "height": 284
        },
        "id": "3GpcD-ECCIe-",
        "outputId": "0d07153e-4535-493d-bedd-69016a9f3617"
      },
      "execution_count": 22,
      "outputs": [
        {
          "output_type": "display_data",
          "data": {
            "text/plain": [
              "<Figure size 432x288 with 1 Axes>"
            ],
            "image/png": "[encoded data removed]"
          },
          "metadata": {
            "needs_background": "light"
          }
        }
      ]
    },
    {
      "cell_type": "code",
      "source": [
        "# Add a fixed positive value to each data point to make them positive\n",
        "positive_values = asm['p_price_000'] - asm['p_price_000'].min() + 0.1\n",
        "\n",
        "# Create a bar chart of the transformed data\n",
        "plt.bar(asm['age_code'], positive_values)\n",
        "plt.xlabel('age_code')\n",
        "plt.ylabel('sales_means')\n",
        "plt.show()"
      ],
      "metadata": {
        "colab": {
          "base_uri": "https://localhost:8080/",
          "height": 280
        },
        "id": "hL4DS4rcCbJ-",
        "outputId": "56d041e7-e1fc-4c8d-9479-0853ff6aee4c"
      },
      "execution_count": 23,
      "outputs": [
        {
          "output_type": "display_data",
          "data": {
            "text/plain": [
              "<Figure size 432x288 with 1 Axes>"
            ],
            "image/png": "[encoded data removed]"
          },
          "metadata": {
            "needs_background": "light"
          }
        }
      ]
    },
    {
      "cell_type": "code",
      "source": [
        "# Take the absolute value of the mean sales values\n",
        "asm['abs_sales'] = abs(asm['p_price_000'])\n",
        "\n",
        "# Create a bar chart of the absolute mean sales value for each age code\n",
        "plt.bar(asm['age_code'], asm['abs_sales'])\n",
        "plt.xlabel('age_code')\n",
        "plt.ylabel('absolute sales_means')\n",
        "plt.show()"
      ],
      "metadata": {
        "colab": {
          "base_uri": "https://localhost:8080/",
          "height": 280
        },
        "id": "p2IubBitEsqE",
        "outputId": "0bb22c11-26e1-4110-83e3-76f2c44e31e6"
      },
      "execution_count": 24,
      "outputs": [
        {
          "output_type": "display_data",
          "data": {
            "text/plain": [
              "<Figure size 432x288 with 1 Axes>"
            ],
            "image/png": "[encoded data removed]"
          },
          "metadata": {
            "needs_background": "light"
          }
        }
      ]
    },
    {
      "cell_type": "code",
      "source": [
        "# Count the number of occurrences of each value in the 'age' column\n",
        "counts5 = age_7['id'].value_counts()\n",
        "\n",
        "# Display the counts\n",
        "print(counts5)\n",
        "print('Length : ', len(counts5))"
      ],
      "metadata": {
        "colab": {
          "base_uri": "https://localhost:8080/"
        },
        "id": "_fm2PFjFFj9S",
        "outputId": "1517dfc0-df7d-4e3d-d0e5-a5bb9a41b64e"
      },
      "execution_count": 29,
      "outputs": [
        {
          "output_type": "stream",
          "name": "stdout",
          "text": [
            "805     4\n",
            "2075    3\n",
            "2247    2\n",
            "1325    2\n",
            "546     2\n",
            "63      1\n",
            "1876    1\n",
            "2903    1\n",
            "2779    1\n",
            "2695    1\n",
            "1756    1\n",
            "1060    1\n",
            "2476    1\n",
            "2727    1\n",
            "723     1\n",
            "Name: id, dtype: int64\n",
            "Length :  15\n"
          ]
        }
      ]
    },
    {
      "cell_type": "markdown",
      "source": [
        "### sum"
      ],
      "metadata": {
        "id": "z5N818T1HC0a"
      }
    },
    {
      "cell_type": "code",
      "source": [
        "# Calculate the mean sales value for each age code\n",
        "age_sales_sum = age_all.groupby('age_code')['p_price_000'].sum()\n",
        "\n",
        "# Display the mean sales values\n",
        "print(age_sales_sum)"
      ],
      "metadata": {
        "colab": {
          "base_uri": "https://localhost:8080/"
        },
        "id": "UlVqUf3IFstr",
        "outputId": "b587efcd-7be5-4fab-c5e0-05fefa17c56f"
      },
      "execution_count": 30,
      "outputs": [
        {
          "output_type": "stream",
          "name": "stdout",
          "text": [
            "age_code\n",
            "0     -0.291429\n",
            "2     -2.695963\n",
            "3    -30.070839\n",
            "4   -402.021113\n",
            "5   -123.394212\n",
            "6     -2.387108\n",
            "7     -6.733574\n",
            "Name: p_price_000, dtype: float64\n"
          ]
        }
      ]
    },
    {
      "cell_type": "code",
      "source": [
        "as_s=pd.DataFrame(age_sales_sum).reset_index()\n",
        "as_s.columns=['age_code','sales_sum']\n",
        "as_s"
      ],
      "metadata": {
        "colab": {
          "base_uri": "https://localhost:8080/",
          "height": 266
        },
        "id": "pPyntTeNGccm",
        "outputId": "3786fd5e-65c7-4e93-9cc4-85f495eda2e6"
      },
      "execution_count": 32,
      "outputs": [
        {
          "output_type": "execute_result",
          "data": {
            "text/plain": [
              "   age_code   sales_sum\n",
              "0         0   -0.291429\n",
              "1         2   -2.695963\n",
              "2         3  -30.070839\n",
              "3         4 -402.021113\n",
              "4         5 -123.394212\n",
              "5         6   -2.387108\n",
              "6         7   -6.733574"
            ],
            "text/html": [
              "\n",
              "  <div id=\"df-ccf7ce4e-61a2-4f65-999d-b9be79280db2\">\n",
              "    <div class=\"colab-df-container\">\n",
              "      <div>\n",
              "<style scoped>\n",
              "    .dataframe tbody tr th:only-of-type {\n",
              "        vertical-align: middle;\n",
              "    }\n",
              "\n",
              "    .dataframe tbody tr th {\n",
              "        vertical-align: top;\n",
              "    }\n",
              "\n",
              "    .dataframe thead th {\n",
              "        text-align: right;\n",
              "    }\n",
              "</style>\n",
              "<table border=\"1\" class=\"dataframe\">\n",
              "  <thead>\n",
              "    <tr style=\"text-align: right;\">\n",
              "      <th></th>\n",
              "      <th>age_code</th>\n",
              "      <th>sales_sum</th>\n",
              "    </tr>\n",
              "  </thead>\n",
              "  <tbody>\n",
              "    <tr>\n",
              "      <th>0</th>\n",
              "      <td>0</td>\n",
              "      <td>-0.291429</td>\n",
              "    </tr>\n",
              "    <tr>\n",
              "      <th>1</th>\n",
              "      <td>2</td>\n",
              "      <td>-2.695963</td>\n",
              "    </tr>\n",
              "    <tr>\n",
              "      <th>2</th>\n",
              "      <td>3</td>\n",
              "      <td>-30.070839</td>\n",
              "    </tr>\n",
              "    <tr>\n",
              "      <th>3</th>\n",
              "      <td>4</td>\n",
              "      <td>-402.021113</td>\n",
              "    </tr>\n",
              "    <tr>\n",
              "      <th>4</th>\n",
              "      <td>5</td>\n",
              "      <td>-123.394212</td>\n",
              "    </tr>\n",
              "    <tr>\n",
              "      <th>5</th>\n",
              "      <td>6</td>\n",
              "      <td>-2.387108</td>\n",
              "    </tr>\n",
              "    <tr>\n",
              "      <th>6</th>\n",
              "      <td>7</td>\n",
              "      <td>-6.733574</td>\n",
              "    </tr>\n",
              "  </tbody>\n",
              "</table>\n",
              "</div>\n",
              "      <button class=\"colab-df-convert\" onclick=\"convertToInteractive('df-ccf7ce4e-61a2-4f65-999d-b9be79280db2')\"\n",
              "              title=\"Convert this dataframe to an interactive table.\"\n",
              "              style=\"display:none;\">\n",
              "        \n",
              "  <svg xmlns=\"http://www.w3.org/2000/svg\" height=\"24px\"viewBox=\"0 0 24 24\"\n",
              "       width=\"24px\">\n",
              "    <path d=\"M0 0h24v24H0V0z\" fill=\"none\"/>\n",
              "    <path d=\"M18.56 5.44l.94 2.06.94-2.06 2.06-.94-2.06-.94-.94-2.06-.94 2.06-2.06.94zm-11 1L8.5 8.5l.94-2.06 2.06-.94-2.06-.94L8.5 2.5l-.94 2.06-2.06.94zm10 10l.94 2.06.94-2.06 2.06-.94-2.06-.94-.94-2.06-.94 2.06-2.06.94z\"/><path d=\"M17.41 7.96l-1.37-1.37c-.4-.4-.92-.59-1.43-.59-.52 0-1.04.2-1.43.59L10.3 9.45l-7.72 7.72c-.78.78-.78 2.05 0 2.83L4 21.41c.39.39.9.59 1.41.59.51 0 1.02-.2 1.41-.59l7.78-7.78 2.81-2.81c.8-.78.8-2.07 0-2.86zM5.41 20L4 18.59l7.72-7.72 1.47 1.35L5.41 20z\"/>\n",
              "  </svg>\n",
              "      </button>\n",
              "      \n",
              "  <style>\n",
              "    .colab-df-container {\n",
              "      display:flex;\n",
              "      flex-wrap:wrap;\n",
              "      gap: 12px;\n",
              "    }\n",
              "\n",
              "    .colab-df-convert {\n",
              "      background-color: #E8F0FE;\n",
              "      border: none;\n",
              "      border-radius: 50%;\n",
              "      cursor: pointer;\n",
              "      display: none;\n",
              "      fill: #1967D2;\n",
              "      height: 32px;\n",
              "      padding: 0 0 0 0;\n",
              "      width: 32px;\n",
              "    }\n",
              "\n",
              "    .colab-df-convert:hover {\n",
              "      background-color: #E2EBFA;\n",
              "      box-shadow: 0px 1px 2px rgba(60, 64, 67, 0.3), 0px 1px 3px 1px rgba(60, 64, 67, 0.15);\n",
              "      fill: #174EA6;\n",
              "    }\n",
              "\n",
              "    [theme=dark] .colab-df-convert {\n",
              "      background-color: #3B4455;\n",
              "      fill: #D2E3FC;\n",
              "    }\n",
              "\n",
              "    [theme=dark] .colab-df-convert:hover {\n",
              "      background-color: #434B5C;\n",
              "      box-shadow: 0px 1px 3px 1px rgba(0, 0, 0, 0.15);\n",
              "      filter: drop-shadow(0px 1px 2px rgba(0, 0, 0, 0.3));\n",
              "      fill: #FFFFFF;\n",
              "    }\n",
              "  </style>\n",
              "\n",
              "      <script>\n",
              "        const buttonEl =\n",
              "          document.querySelector('#df-ccf7ce4e-61a2-4f65-999d-b9be79280db2 button.colab-df-convert');\n",
              "        buttonEl.style.display =\n",
              "          google.colab.kernel.accessAllowed ? 'block' : 'none';\n",
              "\n",
              "        async function convertToInteractive(key) {\n",
              "          const element = document.querySelector('#df-ccf7ce4e-61a2-4f65-999d-b9be79280db2');\n",
              "          const dataTable =\n",
              "            await google.colab.kernel.invokeFunction('convertToInteractive',\n",
              "                                                     [key], {});\n",
              "          if (!dataTable) return;\n",
              "\n",
              "          const docLinkHtml = 'Like what you see? Visit the ' +\n",
              "            '<a target=\"_blank\" href=https://colab.research.google.com/notebooks/data_table.ipynb>data table notebook</a>'\n",
              "            + ' to learn more about interactive tables.';\n",
              "          element.innerHTML = '';\n",
              "          dataTable['output_type'] = 'display_data';\n",
              "          await google.colab.output.renderOutput(dataTable, element);\n",
              "          const docLink = document.createElement('div');\n",
              "          docLink.innerHTML = docLinkHtml;\n",
              "          element.appendChild(docLink);\n",
              "        }\n",
              "      </script>\n",
              "    </div>\n",
              "  </div>\n",
              "  "
            ]
          },
          "metadata": {},
          "execution_count": 32
        }
      ]
    },
    {
      "cell_type": "code",
      "source": [
        "\n",
        "# Create a bar chart of the mean sales value for each age code\n",
        "plt.bar(as_s['age_code'], as_s['sales_sum'])\n",
        "plt.xlabel('age_code')\n",
        "plt.ylabel('sales_sums')\n",
        "plt.show()"
      ],
      "metadata": {
        "colab": {
          "base_uri": "https://localhost:8080/",
          "height": 284
        },
        "id": "Q3pjM7T6GmSS",
        "outputId": "d8c350c0-dc15-4725-913a-84b6ba72b335"
      },
      "execution_count": 33,
      "outputs": [
        {
          "output_type": "display_data",
          "data": {
            "text/plain": [
              "<Figure size 432x288 with 1 Axes>"
            ],
            "image/png": "[encoded data removed]"
          },
          "metadata": {
            "needs_background": "light"
          }
        }
      ]
    },
    {
      "cell_type": "code",
      "source": [
        "# Take the absolute value of the mean sales values\n",
        "as_s['abs_sales'] = abs(as_s['sales_sum'])\n",
        "\n",
        "# Create a bar chart of the absolute mean sales value for each age code\n",
        "plt.bar(as_s['age_code'], as_s['abs_sales'])\n",
        "plt.xlabel('age_code')\n",
        "plt.ylabel('absolute sales_sums')\n",
        "plt.show()"
      ],
      "metadata": {
        "colab": {
          "base_uri": "https://localhost:8080/",
          "height": 280
        },
        "id": "A5X84nmBHKcw",
        "outputId": "2a98d61e-8b9d-4aae-9820-ae5aa7253251"
      },
      "execution_count": 34,
      "outputs": [
        {
          "output_type": "display_data",
          "data": {
            "text/plain": [
              "<Figure size 432x288 with 1 Axes>"
            ],
            "image/png": "[encoded data removed]"
          },
          "metadata": {
            "needs_background": "light"
          }
        }
      ]
    },
    {
      "cell_type": "markdown",
      "source": [
        "### 20대 70대 구매단가 확인"
      ],
      "metadata": {
        "id": "dLOz5ZeLHfk0"
      }
    },
    {
      "cell_type": "code",
      "source": [
        "age_2_mean=age_2['p_price_000'].mean()\n",
        "age_7_mean=age_7['p_price_000'].mean()\n",
        "print(age_2_mean)\n",
        "print(age_7_mean)"
      ],
      "metadata": {
        "colab": {
          "base_uri": "https://localhost:8080/"
        },
        "id": "MkHXqvaDHXIt",
        "outputId": "e72e97d3-6794-4faf-cfa7-0cd5ee5b2729"
      },
      "execution_count": 35,
      "outputs": [
        {
          "output_type": "stream",
          "name": "stdout",
          "text": [
            "-0.17973086338073063\n",
            "-0.2927641069018088\n"
          ]
        }
      ]
    },
    {
      "cell_type": "code",
      "source": [
        "age_2_7=pd.DataFrame({'2_p':age_2['p_price_000'],'7_p' : age_7['p_price_000']})\n",
        "age_2_7"
      ],
      "metadata": {
        "colab": {
          "base_uri": "https://localhost:8080/",
          "height": 762
        },
        "id": "T7h-pcm9H8g1",
        "outputId": "320fac3d-ec2a-4331-92df-a0fb28f5c8ec"
      },
      "execution_count": 41,
      "outputs": [
        {
          "output_type": "execute_result",
          "data": {
            "text/plain": [
              "         2_p       7_p\n",
              "0  -0.179013 -0.179013\n",
              "1  -0.239901 -0.304737\n",
              "2  -0.291429 -0.239901\n",
              "3   0.648555 -0.291429\n",
              "4  -0.179013 -0.278296\n",
              "5  -0.403209 -0.388534\n",
              "6  -0.374071 -0.403209\n",
              "7  -0.265333 -0.318225\n",
              "8  -0.374071 -0.403209\n",
              "9   0.133050 -0.067344\n",
              "10 -0.067344 -0.304737\n",
              "11 -0.304737 -0.403209\n",
              "12 -0.278296 -0.304737\n",
              "13 -0.318225 -0.304737\n",
              "14 -0.202925 -0.304737\n",
              "15       NaN -0.179013\n",
              "16       NaN -0.374071\n",
              "17       NaN -0.291429\n",
              "18       NaN -0.265333\n",
              "19       NaN -0.304737\n",
              "20       NaN -0.239901\n",
              "21       NaN -0.304737\n",
              "22       NaN -0.278296"
            ],
            "text/html": [
              "\n",
              "  <div id=\"df-80f85a23-fcb8-40d2-8687-8334a1ded93f\">\n",
              "    <div class=\"colab-df-container\">\n",
              "      <div>\n",
              "<style scoped>\n",
              "    .dataframe tbody tr th:only-of-type {\n",
              "        vertical-align: middle;\n",
              "    }\n",
              "\n",
              "    .dataframe tbody tr th {\n",
              "        vertical-align: top;\n",
              "    }\n",
              "\n",
              "    .dataframe thead th {\n",
              "        text-align: right;\n",
              "    }\n",
              "</style>\n",
              "<table border=\"1\" class=\"dataframe\">\n",
              "  <thead>\n",
              "    <tr style=\"text-align: right;\">\n",
              "      <th></th>\n",
              "      <th>2_p</th>\n",
              "      <th>7_p</th>\n",
              "    </tr>\n",
              "  </thead>\n",
              "  <tbody>\n",
              "    <tr>\n",
              "      <th>0</th>\n",
              "      <td>-0.179013</td>\n",
              "      <td>-0.179013</td>\n",
              "    </tr>\n",
              "    <tr>\n",
              "      <th>1</th>\n",
              "      <td>-0.239901</td>\n",
              "      <td>-0.304737</td>\n",
              "    </tr>\n",
              "    <tr>\n",
              "      <th>2</th>\n",
              "      <td>-0.291429</td>\n",
              "      <td>-0.239901</td>\n",
              "    </tr>\n",
              "    <tr>\n",
              "      <th>3</th>\n",
              "      <td>0.648555</td>\n",
              "      <td>-0.291429</td>\n",
              "    </tr>\n",
              "    <tr>\n",
              "      <th>4</th>\n",
              "      <td>-0.179013</td>\n",
              "      <td>-0.278296</td>\n",
              "    </tr>\n",
              "    <tr>\n",
              "      <th>5</th>\n",
              "      <td>-0.403209</td>\n",
              "      <td>-0.388534</td>\n",
              "    </tr>\n",
              "    <tr>\n",
              "      <th>6</th>\n",
              "      <td>-0.374071</td>\n",
              "      <td>-0.403209</td>\n",
              "    </tr>\n",
              "    <tr>\n",
              "      <th>7</th>\n",
              "      <td>-0.265333</td>\n",
              "      <td>-0.318225</td>\n",
              "    </tr>\n",
              "    <tr>\n",
              "      <th>8</th>\n",
              "      <td>-0.374071</td>\n",
              "      <td>-0.403209</td>\n",
              "    </tr>\n",
              "    <tr>\n",
              "      <th>9</th>\n",
              "      <td>0.133050</td>\n",
              "      <td>-0.067344</td>\n",
              "    </tr>\n",
              "    <tr>\n",
              "      <th>10</th>\n",
              "      <td>-0.067344</td>\n",
              "      <td>-0.304737</td>\n",
              "    </tr>\n",
              "    <tr>\n",
              "      <th>11</th>\n",
              "      <td>-0.304737</td>\n",
              "      <td>-0.403209</td>\n",
              "    </tr>\n",
              "    <tr>\n",
              "      <th>12</th>\n",
              "      <td>-0.278296</td>\n",
              "      <td>-0.304737</td>\n",
              "    </tr>\n",
              "    <tr>\n",
              "      <th>13</th>\n",
              "      <td>-0.318225</td>\n",
              "      <td>-0.304737</td>\n",
              "    </tr>\n",
              "    <tr>\n",
              "      <th>14</th>\n",
              "      <td>-0.202925</td>\n",
              "      <td>-0.304737</td>\n",
              "    </tr>\n",
              "    <tr>\n",
              "      <th>15</th>\n",
              "      <td>NaN</td>\n",
              "      <td>-0.179013</td>\n",
              "    </tr>\n",
              "    <tr>\n",
              "      <th>16</th>\n",
              "      <td>NaN</td>\n",
              "      <td>-0.374071</td>\n",
              "    </tr>\n",
              "    <tr>\n",
              "      <th>17</th>\n",
              "      <td>NaN</td>\n",
              "      <td>-0.291429</td>\n",
              "    </tr>\n",
              "    <tr>\n",
              "      <th>18</th>\n",
              "      <td>NaN</td>\n",
              "      <td>-0.265333</td>\n",
              "    </tr>\n",
              "    <tr>\n",
              "      <th>19</th>\n",
              "      <td>NaN</td>\n",
              "      <td>-0.304737</td>\n",
              "    </tr>\n",
              "    <tr>\n",
              "      <th>20</th>\n",
              "      <td>NaN</td>\n",
              "      <td>-0.239901</td>\n",
              "    </tr>\n",
              "    <tr>\n",
              "      <th>21</th>\n",
              "      <td>NaN</td>\n",
              "      <td>-0.304737</td>\n",
              "    </tr>\n",
              "    <tr>\n",
              "      <th>22</th>\n",
              "      <td>NaN</td>\n",
              "      <td>-0.278296</td>\n",
              "    </tr>\n",
              "  </tbody>\n",
              "</table>\n",
              "</div>\n",
              "      <button class=\"colab-df-convert\" onclick=\"convertToInteractive('df-80f85a23-fcb8-40d2-8687-8334a1ded93f')\"\n",
              "              title=\"Convert this dataframe to an interactive table.\"\n",
              "              style=\"display:none;\">\n",
              "        \n",
              "  <svg xmlns=\"http://www.w3.org/2000/svg\" height=\"24px\"viewBox=\"0 0 24 24\"\n",
              "       width=\"24px\">\n",
              "    <path d=\"M0 0h24v24H0V0z\" fill=\"none\"/>\n",
              "    <path d=\"M18.56 5.44l.94 2.06.94-2.06 2.06-.94-2.06-.94-.94-2.06-.94 2.06-2.06.94zm-11 1L8.5 8.5l.94-2.06 2.06-.94-2.06-.94L8.5 2.5l-.94 2.06-2.06.94zm10 10l.94 2.06.94-2.06 2.06-.94-2.06-.94-.94-2.06-.94 2.06-2.06.94z\"/><path d=\"M17.41 7.96l-1.37-1.37c-.4-.4-.92-.59-1.43-.59-.52 0-1.04.2-1.43.59L10.3 9.45l-7.72 7.72c-.78.78-.78 2.05 0 2.83L4 21.41c.39.39.9.59 1.41.59.51 0 1.02-.2 1.41-.59l7.78-7.78 2.81-2.81c.8-.78.8-2.07 0-2.86zM5.41 20L4 18.59l7.72-7.72 1.47 1.35L5.41 20z\"/>\n",
              "  </svg>\n",
              "      </button>\n",
              "      \n",
              "  <style>\n",
              "    .colab-df-container {\n",
              "      display:flex;\n",
              "      flex-wrap:wrap;\n",
              "      gap: 12px;\n",
              "    }\n",
              "\n",
              "    .colab-df-convert {\n",
              "      background-color: #E8F0FE;\n",
              "      border: none;\n",
              "      border-radius: 50%;\n",
              "      cursor: pointer;\n",
              "      display: none;\n",
              "      fill: #1967D2;\n",
              "      height: 32px;\n",
              "      padding: 0 0 0 0;\n",
              "      width: 32px;\n",
              "    }\n",
              "\n",
              "    .colab-df-convert:hover {\n",
              "      background-color: #E2EBFA;\n",
              "      box-shadow: 0px 1px 2px rgba(60, 64, 67, 0.3), 0px 1px 3px 1px rgba(60, 64, 67, 0.15);\n",
              "      fill: #174EA6;\n",
              "    }\n",
              "\n",
              "    [theme=dark] .colab-df-convert {\n",
              "      background-color: #3B4455;\n",
              "      fill: #D2E3FC;\n",
              "    }\n",
              "\n",
              "    [theme=dark] .colab-df-convert:hover {\n",
              "      background-color: #434B5C;\n",
              "      box-shadow: 0px 1px 3px 1px rgba(0, 0, 0, 0.15);\n",
              "      filter: drop-shadow(0px 1px 2px rgba(0, 0, 0, 0.3));\n",
              "      fill: #FFFFFF;\n",
              "    }\n",
              "  </style>\n",
              "\n",
              "      <script>\n",
              "        const buttonEl =\n",
              "          document.querySelector('#df-80f85a23-fcb8-40d2-8687-8334a1ded93f button.colab-df-convert');\n",
              "        buttonEl.style.display =\n",
              "          google.colab.kernel.accessAllowed ? 'block' : 'none';\n",
              "\n",
              "        async function convertToInteractive(key) {\n",
              "          const element = document.querySelector('#df-80f85a23-fcb8-40d2-8687-8334a1ded93f');\n",
              "          const dataTable =\n",
              "            await google.colab.kernel.invokeFunction('convertToInteractive',\n",
              "                                                     [key], {});\n",
              "          if (!dataTable) return;\n",
              "\n",
              "          const docLinkHtml = 'Like what you see? Visit the ' +\n",
              "            '<a target=\"_blank\" href=https://colab.research.google.com/notebooks/data_table.ipynb>data table notebook</a>'\n",
              "            + ' to learn more about interactive tables.';\n",
              "          element.innerHTML = '';\n",
              "          dataTable['output_type'] = 'display_data';\n",
              "          await google.colab.output.renderOutput(dataTable, element);\n",
              "          const docLink = document.createElement('div');\n",
              "          docLink.innerHTML = docLinkHtml;\n",
              "          element.appendChild(docLink);\n",
              "        }\n",
              "      </script>\n",
              "    </div>\n",
              "  </div>\n",
              "  "
            ]
          },
          "metadata": {},
          "execution_count": 41
        }
      ]
    }
  ]
}