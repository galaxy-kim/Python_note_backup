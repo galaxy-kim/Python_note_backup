{
  "nbformat": 4,
  "nbformat_minor": 0,
  "metadata": {
    "colab": {
      "provenance": [],
      "authorship_tag": "ABX9TyN+Yv1B06BCeh11SnPlyz5Q",
      "include_colab_link": true
    },
    "kernelspec": {
      "name": "python3",
      "display_name": "Python 3"
    },
    "language_info": {
      "name": "python"
    }
  },
  "cells": [
    {
      "cell_type": "markdown",
      "metadata": {
        "id": "view-in-github",
        "colab_type": "text"
      },
      "source": [
        "<a href=\"https://colab.research.google.com/github/galaxy-kim/Python_note_backup/blob/main/30_dec_%EC%97%B0%EC%8A%B5.ipynb\" target=\"_parent\"><img src=\"https://colab.research.google.com/assets/colab-badge.svg\" alt=\"Open In Colab\"/></a>"
      ]
    },
    {
      "cell_type": "markdown",
      "source": [
        "#마케팅빅데이터전문가과정\n",
        "##Python 실습\n",
        "###기본 코드 학습"
      ],
      "metadata": {
        "id": "K0cabC4Wm-qb"
      }
    },
    {
      "cell_type": "code",
      "execution_count": null,
      "metadata": {
        "colab": {
          "base_uri": "https://localhost:8080/"
        },
        "id": "00OKFA5Km0zh",
        "outputId": "f8de05a8-caba-4e0f-ade1-d1035407c01a"
      },
      "outputs": [
        {
          "output_type": "stream",
          "name": "stdout",
          "text": [
            "Hello world\n"
          ]
        }
      ],
      "source": [
        "print(\"Hello world\")"
      ]
    },
    {
      "cell_type": "code",
      "source": [
        "print(\"\\nHere's a map. Can you leave a trip plan for us?\\n\")"
      ],
      "metadata": {
        "id": "6yPYt1t2nSZl",
        "colab": {
          "base_uri": "https://localhost:8080/"
        },
        "outputId": "a78809c9-1962-4c7d-c2af-8674b4680f45"
      },
      "execution_count": null,
      "outputs": [
        {
          "output_type": "stream",
          "name": "stdout",
          "text": [
            "\n",
            "Here's a map. Can you leave a trip plan for us?\n",
            "\n"
          ]
        }
      ]
    },
    {
      "cell_type": "code",
      "source": [
        "print(\"\\nHere's a map. Can you leave a trip plan for us?\\n\"*3)"
      ],
      "metadata": {
        "id": "Nt6zN4sjtt2W",
        "colab": {
          "base_uri": "https://localhost:8080/"
        },
        "outputId": "e252dc46-9793-45fd-fd4f-e903633920f2"
      },
      "execution_count": null,
      "outputs": [
        {
          "output_type": "stream",
          "name": "stdout",
          "text": [
            "\n",
            "Here's a map. Can you leave a trip plan for us?\n",
            "\n",
            "Here's a map. Can you leave a trip plan for us?\n",
            "\n",
            "Here's a map. Can you leave a trip plan for us?\n",
            "\n"
          ]
        }
      ]
    },
    {
      "cell_type": "code",
      "source": [
        "print(\"\\nHere's a map. Can you leave a trip plan for us?\"*3)"
      ],
      "metadata": {
        "colab": {
          "base_uri": "https://localhost:8080/"
        },
        "id": "ccyb40CT2z2e",
        "outputId": "f9fb20d3-ffc3-490c-e3a3-e9c0a1e64610"
      },
      "execution_count": null,
      "outputs": [
        {
          "output_type": "stream",
          "name": "stdout",
          "text": [
            "\n",
            "Here's a map. Can you leave a trip plan for us?\n",
            "Here's a map. Can you leave a trip plan for us?\n",
            "Here's a map. Can you leave a trip plan for us?\n"
          ]
        }
      ]
    },
    {
      "cell_type": "code",
      "source": [],
      "metadata": {
        "id": "DHVGsLLT22If"
      },
      "execution_count": null,
      "outputs": []
    }
  ]
}