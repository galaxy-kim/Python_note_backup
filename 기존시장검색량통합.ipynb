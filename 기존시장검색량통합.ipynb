{
  "nbformat": 4,
  "nbformat_minor": 0,
  "metadata": {
    "colab": {
      "provenance": [],
      "mount_file_id": "1KKx8Ss6RnPT99nQzT-MgJBbd1I4NvQzx",
      "authorship_tag": "ABX9TyMrb2TWLKb4HG57MjVCaf6L",
      "include_colab_link": true
    },
    "kernelspec": {
      "name": "python3",
      "display_name": "Python 3"
    },
    "language_info": {
      "name": "python"
    }
  },
  "cells": [
    {
      "cell_type": "markdown",
      "metadata": {
        "id": "view-in-github",
        "colab_type": "text"
      },
      "source": [
        "<a href=\"https://colab.research.google.com/github/galaxy-kim/Python_note_backup/blob/main/%EA%B8%B0%EC%A1%B4%EC%8B%9C%EC%9E%A5%EA%B2%80%EC%83%89%EB%9F%89%ED%86%B5%ED%95%A9.ipynb\" target=\"_parent\"><img src=\"https://colab.research.google.com/assets/colab-badge.svg\" alt=\"Open In Colab\"/></a>"
      ]
    },
    {
      "cell_type": "code",
      "execution_count": null,
      "metadata": {
        "id": "tja9bLZuktec"
      },
      "outputs": [],
      "source": [
        "import numpy as np\n",
        "import pandas as pd"
      ]
    },
    {
      "cell_type": "code",
      "source": [
        "keyw=pd.read_excel(\"/content/drive/MyDrive/Colab Notebooks/datalab-5.xlsx\")\n",
        "keyw"
      ],
      "metadata": {
        "colab": {
          "base_uri": "https://localhost:8080/",
          "height": 419
        },
        "id": "btLxXcXck7Ug",
        "outputId": "0de7cb1f-c2ed-489b-a212-667a739ab303"
      },
      "execution_count": null,
      "outputs": [
        {
          "output_type": "execute_result",
          "data": {
            "text/plain": [
              "            날짜     와우패스        날짜.1       해커스        날짜.2       에듀윌\n",
              "0   2016-01-01  7.94148  2016-01-01  48.82411  2016-01-01  43.42929\n",
              "1   2016-02-01  6.43489  2016-02-01  39.17623  2016-02-01  34.97491\n",
              "2   2016-03-01  7.55658  2016-03-01  40.61012  2016-03-01  45.31186\n",
              "3   2016-04-01  6.39118  2016-04-01  46.72880  2016-04-01  38.76101\n",
              "4   2016-05-01  4.56481  2016-05-01  48.47490  2016-05-01  32.98396\n",
              "..         ...      ...         ...       ...         ...       ...\n",
              "79  2022-08-01  1.89817  2022-08-01  27.33224  2022-08-01  40.66275\n",
              "80  2022-09-01  1.84465  2022-09-01  20.51602  2022-09-01  37.42390\n",
              "81  2022-10-01  2.10200  2022-10-01  22.21037  2022-10-01  44.98806\n",
              "82  2022-11-01  1.65332  2022-11-01  19.36355  2022-11-01  36.04888\n",
              "83  2022-12-01  1.51863  2022-12-01  23.18444  2022-12-01  39.30959\n",
              "\n",
              "[84 rows x 6 columns]"
            ],
            "text/html": [
              "\n",
              "  <div id=\"df-446156e7-8129-4307-9a08-e6cb9100930c\">\n",
              "    <div class=\"colab-df-container\">\n",
              "      <div>\n",
              "<style scoped>\n",
              "    .dataframe tbody tr th:only-of-type {\n",
              "        vertical-align: middle;\n",
              "    }\n",
              "\n",
              "    .dataframe tbody tr th {\n",
              "        vertical-align: top;\n",
              "    }\n",
              "\n",
              "    .dataframe thead th {\n",
              "        text-align: right;\n",
              "    }\n",
              "</style>\n",
              "<table border=\"1\" class=\"dataframe\">\n",
              "  <thead>\n",
              "    <tr style=\"text-align: right;\">\n",
              "      <th></th>\n",
              "      <th>날짜</th>\n",
              "      <th>와우패스</th>\n",
              "      <th>날짜.1</th>\n",
              "      <th>해커스</th>\n",
              "      <th>날짜.2</th>\n",
              "      <th>에듀윌</th>\n",
              "    </tr>\n",
              "  </thead>\n",
              "  <tbody>\n",
              "    <tr>\n",
              "      <th>0</th>\n",
              "      <td>2016-01-01</td>\n",
              "      <td>7.94148</td>\n",
              "      <td>2016-01-01</td>\n",
              "      <td>48.82411</td>\n",
              "      <td>2016-01-01</td>\n",
              "      <td>43.42929</td>\n",
              "    </tr>\n",
              "    <tr>\n",
              "      <th>1</th>\n",
              "      <td>2016-02-01</td>\n",
              "      <td>6.43489</td>\n",
              "      <td>2016-02-01</td>\n",
              "      <td>39.17623</td>\n",
              "      <td>2016-02-01</td>\n",
              "      <td>34.97491</td>\n",
              "    </tr>\n",
              "    <tr>\n",
              "      <th>2</th>\n",
              "      <td>2016-03-01</td>\n",
              "      <td>7.55658</td>\n",
              "      <td>2016-03-01</td>\n",
              "      <td>40.61012</td>\n",
              "      <td>2016-03-01</td>\n",
              "      <td>45.31186</td>\n",
              "    </tr>\n",
              "    <tr>\n",
              "      <th>3</th>\n",
              "      <td>2016-04-01</td>\n",
              "      <td>6.39118</td>\n",
              "      <td>2016-04-01</td>\n",
              "      <td>46.72880</td>\n",
              "      <td>2016-04-01</td>\n",
              "      <td>38.76101</td>\n",
              "    </tr>\n",
              "    <tr>\n",
              "      <th>4</th>\n",
              "      <td>2016-05-01</td>\n",
              "      <td>4.56481</td>\n",
              "      <td>2016-05-01</td>\n",
              "      <td>48.47490</td>\n",
              "      <td>2016-05-01</td>\n",
              "      <td>32.98396</td>\n",
              "    </tr>\n",
              "    <tr>\n",
              "      <th>...</th>\n",
              "      <td>...</td>\n",
              "      <td>...</td>\n",
              "      <td>...</td>\n",
              "      <td>...</td>\n",
              "      <td>...</td>\n",
              "      <td>...</td>\n",
              "    </tr>\n",
              "    <tr>\n",
              "      <th>79</th>\n",
              "      <td>2022-08-01</td>\n",
              "      <td>1.89817</td>\n",
              "      <td>2022-08-01</td>\n",
              "      <td>27.33224</td>\n",
              "      <td>2022-08-01</td>\n",
              "      <td>40.66275</td>\n",
              "    </tr>\n",
              "    <tr>\n",
              "      <th>80</th>\n",
              "      <td>2022-09-01</td>\n",
              "      <td>1.84465</td>\n",
              "      <td>2022-09-01</td>\n",
              "      <td>20.51602</td>\n",
              "      <td>2022-09-01</td>\n",
              "      <td>37.42390</td>\n",
              "    </tr>\n",
              "    <tr>\n",
              "      <th>81</th>\n",
              "      <td>2022-10-01</td>\n",
              "      <td>2.10200</td>\n",
              "      <td>2022-10-01</td>\n",
              "      <td>22.21037</td>\n",
              "      <td>2022-10-01</td>\n",
              "      <td>44.98806</td>\n",
              "    </tr>\n",
              "    <tr>\n",
              "      <th>82</th>\n",
              "      <td>2022-11-01</td>\n",
              "      <td>1.65332</td>\n",
              "      <td>2022-11-01</td>\n",
              "      <td>19.36355</td>\n",
              "      <td>2022-11-01</td>\n",
              "      <td>36.04888</td>\n",
              "    </tr>\n",
              "    <tr>\n",
              "      <th>83</th>\n",
              "      <td>2022-12-01</td>\n",
              "      <td>1.51863</td>\n",
              "      <td>2022-12-01</td>\n",
              "      <td>23.18444</td>\n",
              "      <td>2022-12-01</td>\n",
              "      <td>39.30959</td>\n",
              "    </tr>\n",
              "  </tbody>\n",
              "</table>\n",
              "<p>84 rows × 6 columns</p>\n",
              "</div>\n",
              "      <button class=\"colab-df-convert\" onclick=\"convertToInteractive('df-446156e7-8129-4307-9a08-e6cb9100930c')\"\n",
              "              title=\"Convert this dataframe to an interactive table.\"\n",
              "              style=\"display:none;\">\n",
              "        \n",
              "  <svg xmlns=\"http://www.w3.org/2000/svg\" height=\"24px\"viewBox=\"0 0 24 24\"\n",
              "       width=\"24px\">\n",
              "    <path d=\"M0 0h24v24H0V0z\" fill=\"none\"/>\n",
              "    <path d=\"M18.56 5.44l.94 2.06.94-2.06 2.06-.94-2.06-.94-.94-2.06-.94 2.06-2.06.94zm-11 1L8.5 8.5l.94-2.06 2.06-.94-2.06-.94L8.5 2.5l-.94 2.06-2.06.94zm10 10l.94 2.06.94-2.06 2.06-.94-2.06-.94-.94-2.06-.94 2.06-2.06.94z\"/><path d=\"M17.41 7.96l-1.37-1.37c-.4-.4-.92-.59-1.43-.59-.52 0-1.04.2-1.43.59L10.3 9.45l-7.72 7.72c-.78.78-.78 2.05 0 2.83L4 21.41c.39.39.9.59 1.41.59.51 0 1.02-.2 1.41-.59l7.78-7.78 2.81-2.81c.8-.78.8-2.07 0-2.86zM5.41 20L4 18.59l7.72-7.72 1.47 1.35L5.41 20z\"/>\n",
              "  </svg>\n",
              "      </button>\n",
              "      \n",
              "  <style>\n",
              "    .colab-df-container {\n",
              "      display:flex;\n",
              "      flex-wrap:wrap;\n",
              "      gap: 12px;\n",
              "    }\n",
              "\n",
              "    .colab-df-convert {\n",
              "      background-color: #E8F0FE;\n",
              "      border: none;\n",
              "      border-radius: 50%;\n",
              "      cursor: pointer;\n",
              "      display: none;\n",
              "      fill: #1967D2;\n",
              "      height: 32px;\n",
              "      padding: 0 0 0 0;\n",
              "      width: 32px;\n",
              "    }\n",
              "\n",
              "    .colab-df-convert:hover {\n",
              "      background-color: #E2EBFA;\n",
              "      box-shadow: 0px 1px 2px rgba(60, 64, 67, 0.3), 0px 1px 3px 1px rgba(60, 64, 67, 0.15);\n",
              "      fill: #174EA6;\n",
              "    }\n",
              "\n",
              "    [theme=dark] .colab-df-convert {\n",
              "      background-color: #3B4455;\n",
              "      fill: #D2E3FC;\n",
              "    }\n",
              "\n",
              "    [theme=dark] .colab-df-convert:hover {\n",
              "      background-color: #434B5C;\n",
              "      box-shadow: 0px 1px 3px 1px rgba(0, 0, 0, 0.15);\n",
              "      filter: drop-shadow(0px 1px 2px rgba(0, 0, 0, 0.3));\n",
              "      fill: #FFFFFF;\n",
              "    }\n",
              "  </style>\n",
              "\n",
              "      <script>\n",
              "        const buttonEl =\n",
              "          document.querySelector('#df-446156e7-8129-4307-9a08-e6cb9100930c button.colab-df-convert');\n",
              "        buttonEl.style.display =\n",
              "          google.colab.kernel.accessAllowed ? 'block' : 'none';\n",
              "\n",
              "        async function convertToInteractive(key) {\n",
              "          const element = document.querySelector('#df-446156e7-8129-4307-9a08-e6cb9100930c');\n",
              "          const dataTable =\n",
              "            await google.colab.kernel.invokeFunction('convertToInteractive',\n",
              "                                                     [key], {});\n",
              "          if (!dataTable) return;\n",
              "\n",
              "          const docLinkHtml = 'Like what you see? Visit the ' +\n",
              "            '<a target=\"_blank\" href=https://colab.research.google.com/notebooks/data_table.ipynb>data table notebook</a>'\n",
              "            + ' to learn more about interactive tables.';\n",
              "          element.innerHTML = '';\n",
              "          dataTable['output_type'] = 'display_data';\n",
              "          await google.colab.output.renderOutput(dataTable, element);\n",
              "          const docLink = document.createElement('div');\n",
              "          docLink.innerHTML = docLinkHtml;\n",
              "          element.appendChild(docLink);\n",
              "        }\n",
              "      </script>\n",
              "    </div>\n",
              "  </div>\n",
              "  "
            ]
          },
          "metadata": {},
          "execution_count": 4
        }
      ]
    },
    {
      "cell_type": "code",
      "source": [
        "keyw['날짜']=pd.to_datetime(keyw['날짜'])"
      ],
      "metadata": {
        "id": "QkXSyNv8lxMy"
      },
      "execution_count": null,
      "outputs": []
    },
    {
      "cell_type": "code",
      "source": [
        "grouped = keyw.groupby(keyw['날짜'].dt.year)\n",
        "sum_by_year1 = grouped['와우패스'].sum()\n",
        "sum_by_year2 = grouped['해커스'].sum()\n",
        "sum_by_year3 = grouped['에듀윌'].sum()"
      ],
      "metadata": {
        "id": "zXCFKBBIlIAt"
      },
      "execution_count": null,
      "outputs": []
    },
    {
      "cell_type": "code",
      "source": [
        "sum_by_year1"
      ],
      "metadata": {
        "colab": {
          "base_uri": "https://localhost:8080/"
        },
        "id": "82jq-LQClaIr",
        "outputId": "45351034-3584-4b34-b494-6894a8bda153"
      },
      "execution_count": null,
      "outputs": [
        {
          "output_type": "execute_result",
          "data": {
            "text/plain": [
              "날짜\n",
              "2016    69.59520\n",
              "2017    53.10120\n",
              "2018    48.43158\n",
              "2019    50.76997\n",
              "2020    47.00617\n",
              "2021    33.35275\n",
              "2022    23.17280\n",
              "Name: 와우패스, dtype: float64"
            ]
          },
          "metadata": {},
          "execution_count": 9
        }
      ]
    },
    {
      "cell_type": "code",
      "source": [
        "s1=pd.DataFrame(sum_by_year1)\n",
        "s2=pd.DataFrame(sum_by_year2)\n",
        "s3=pd.DataFrame(sum_by_year3)"
      ],
      "metadata": {
        "id": "vkm-Z3KevyKG"
      },
      "execution_count": null,
      "outputs": []
    },
    {
      "cell_type": "code",
      "source": [
        "s1.to_excel(\"/content/drive/MyDrive/Colab Notebooks/기존시장_와우패스.xlsx\")\n",
        "s2.to_excel(\"/content/drive/MyDrive/Colab Notebooks/기존시장_해커스.xlsx\")\n",
        "s3.to_excel(\"/content/drive/MyDrive/Colab Notebooks/기존시장_에듀윌.xlsx\")"
      ],
      "metadata": {
        "id": "UrnLFVdolzfR"
      },
      "execution_count": null,
      "outputs": []
    },
    {
      "cell_type": "code",
      "source": [],
      "metadata": {
        "id": "WvhzKBO1v-9j"
      },
      "execution_count": null,
      "outputs": []
    }
  ]
}