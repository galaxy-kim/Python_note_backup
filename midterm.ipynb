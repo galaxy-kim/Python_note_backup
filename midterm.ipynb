{
  "nbformat": 4,
  "nbformat_minor": 0,
  "metadata": {
    "colab": {
      "provenance": [],
      "collapsed_sections": [
        "FIX4mSQ_bhFS",
        "BQ3HjRRebSaS",
        "TOpobx7jbbYD",
        "So5cETN9rRUv",
        "w5YpLl-ssBWH",
        "qTMzf1NxvnWO"
      ],
      "mount_file_id": "1cVqdxtPyqReSBxvQxw7XTjltMfYSEOzs",
      "authorship_tag": "ABX9TyMidTn4YGppRGbRFE/dlYNE",
      "include_colab_link": true
    },
    "kernelspec": {
      "name": "python3",
      "display_name": "Python 3"
    },
    "language_info": {
      "name": "python"
    }
  },
  "cells": [
    {
      "cell_type": "markdown",
      "metadata": {
        "id": "view-in-github",
        "colab_type": "text"
      },
      "source": [
        "<a href=\"https://colab.research.google.com/github/galaxy-kim/Python_note_backup/blob/main/midterm.ipynb\" target=\"_parent\"><img src=\"https://colab.research.google.com/assets/colab-badge.svg\" alt=\"Open In Colab\"/></a>"
      ]
    },
    {
      "cell_type": "markdown",
      "source": [
        "##데이터셋 불러오기"
      ],
      "metadata": {
        "id": "FIX4mSQ_bhFS"
      }
    },
    {
      "cell_type": "code",
      "source": [
        "#데이터셋 불러오기 (kaggle에서 다운로드한 자료)\n",
        "import pandas as pd\n",
        "\n",
        "sales=pd.read_csv(\"/content/drive/MyDrive/Colab Notebooks/ubion_given_data/Dummy Data HSS.csv\")\n",
        "sales"
      ],
      "metadata": {
        "colab": {
          "base_uri": "https://localhost:8080/",
          "height": 423
        },
        "id": "atpDozguUrBN",
        "outputId": "b1c93e31-5c4d-40e2-89d5-1d5608be807f"
      },
      "execution_count": 1,
      "outputs": [
        {
          "output_type": "execute_result",
          "data": {
            "text/plain": [
              "        ID    TV      Radio  Social Media Influencer       Sales\n",
              "0        1  16.0   6.566231      2.907983       Mega   54.732757\n",
              "1        2  13.0   9.237765      2.409567       Mega   46.677897\n",
              "2        3  41.0  15.886446      2.913410       Mega  150.177829\n",
              "3        4  83.0  30.020028      6.922304       Mega  298.246340\n",
              "4        5  15.0   8.437408      1.405998      Micro   56.594181\n",
              "...    ...   ...        ...           ...        ...         ...\n",
              "4567  4568  26.0   4.472360      0.717090      Micro   94.685866\n",
              "4568  4569  71.0  20.610685      6.545573       Nano  249.101915\n",
              "4569  4570  44.0  19.800072      5.096192      Micro  163.631457\n",
              "4570  4571  71.0  17.534640      1.940873      Macro  253.610411\n",
              "4571  4572  42.0  15.966688      5.046548      Micro  148.202414\n",
              "\n",
              "[4572 rows x 6 columns]"
            ],
            "text/html": [
              "\n",
              "  <div id=\"df-578cfb99-7431-4c23-902b-3fa2d1e52924\">\n",
              "    <div class=\"colab-df-container\">\n",
              "      <div>\n",
              "<style scoped>\n",
              "    .dataframe tbody tr th:only-of-type {\n",
              "        vertical-align: middle;\n",
              "    }\n",
              "\n",
              "    .dataframe tbody tr th {\n",
              "        vertical-align: top;\n",
              "    }\n",
              "\n",
              "    .dataframe thead th {\n",
              "        text-align: right;\n",
              "    }\n",
              "</style>\n",
              "<table border=\"1\" class=\"dataframe\">\n",
              "  <thead>\n",
              "    <tr style=\"text-align: right;\">\n",
              "      <th></th>\n",
              "      <th>ID</th>\n",
              "      <th>TV</th>\n",
              "      <th>Radio</th>\n",
              "      <th>Social Media</th>\n",
              "      <th>Influencer</th>\n",
              "      <th>Sales</th>\n",
              "    </tr>\n",
              "  </thead>\n",
              "  <tbody>\n",
              "    <tr>\n",
              "      <th>0</th>\n",
              "      <td>1</td>\n",
              "      <td>16.0</td>\n",
              "      <td>6.566231</td>\n",
              "      <td>2.907983</td>\n",
              "      <td>Mega</td>\n",
              "      <td>54.732757</td>\n",
              "    </tr>\n",
              "    <tr>\n",
              "      <th>1</th>\n",
              "      <td>2</td>\n",
              "      <td>13.0</td>\n",
              "      <td>9.237765</td>\n",
              "      <td>2.409567</td>\n",
              "      <td>Mega</td>\n",
              "      <td>46.677897</td>\n",
              "    </tr>\n",
              "    <tr>\n",
              "      <th>2</th>\n",
              "      <td>3</td>\n",
              "      <td>41.0</td>\n",
              "      <td>15.886446</td>\n",
              "      <td>2.913410</td>\n",
              "      <td>Mega</td>\n",
              "      <td>150.177829</td>\n",
              "    </tr>\n",
              "    <tr>\n",
              "      <th>3</th>\n",
              "      <td>4</td>\n",
              "      <td>83.0</td>\n",
              "      <td>30.020028</td>\n",
              "      <td>6.922304</td>\n",
              "      <td>Mega</td>\n",
              "      <td>298.246340</td>\n",
              "    </tr>\n",
              "    <tr>\n",
              "      <th>4</th>\n",
              "      <td>5</td>\n",
              "      <td>15.0</td>\n",
              "      <td>8.437408</td>\n",
              "      <td>1.405998</td>\n",
              "      <td>Micro</td>\n",
              "      <td>56.594181</td>\n",
              "    </tr>\n",
              "    <tr>\n",
              "      <th>...</th>\n",
              "      <td>...</td>\n",
              "      <td>...</td>\n",
              "      <td>...</td>\n",
              "      <td>...</td>\n",
              "      <td>...</td>\n",
              "      <td>...</td>\n",
              "    </tr>\n",
              "    <tr>\n",
              "      <th>4567</th>\n",
              "      <td>4568</td>\n",
              "      <td>26.0</td>\n",
              "      <td>4.472360</td>\n",
              "      <td>0.717090</td>\n",
              "      <td>Micro</td>\n",
              "      <td>94.685866</td>\n",
              "    </tr>\n",
              "    <tr>\n",
              "      <th>4568</th>\n",
              "      <td>4569</td>\n",
              "      <td>71.0</td>\n",
              "      <td>20.610685</td>\n",
              "      <td>6.545573</td>\n",
              "      <td>Nano</td>\n",
              "      <td>249.101915</td>\n",
              "    </tr>\n",
              "    <tr>\n",
              "      <th>4569</th>\n",
              "      <td>4570</td>\n",
              "      <td>44.0</td>\n",
              "      <td>19.800072</td>\n",
              "      <td>5.096192</td>\n",
              "      <td>Micro</td>\n",
              "      <td>163.631457</td>\n",
              "    </tr>\n",
              "    <tr>\n",
              "      <th>4570</th>\n",
              "      <td>4571</td>\n",
              "      <td>71.0</td>\n",
              "      <td>17.534640</td>\n",
              "      <td>1.940873</td>\n",
              "      <td>Macro</td>\n",
              "      <td>253.610411</td>\n",
              "    </tr>\n",
              "    <tr>\n",
              "      <th>4571</th>\n",
              "      <td>4572</td>\n",
              "      <td>42.0</td>\n",
              "      <td>15.966688</td>\n",
              "      <td>5.046548</td>\n",
              "      <td>Micro</td>\n",
              "      <td>148.202414</td>\n",
              "    </tr>\n",
              "  </tbody>\n",
              "</table>\n",
              "<p>4572 rows × 6 columns</p>\n",
              "</div>\n",
              "      <button class=\"colab-df-convert\" onclick=\"convertToInteractive('df-578cfb99-7431-4c23-902b-3fa2d1e52924')\"\n",
              "              title=\"Convert this dataframe to an interactive table.\"\n",
              "              style=\"display:none;\">\n",
              "        \n",
              "  <svg xmlns=\"http://www.w3.org/2000/svg\" height=\"24px\"viewBox=\"0 0 24 24\"\n",
              "       width=\"24px\">\n",
              "    <path d=\"M0 0h24v24H0V0z\" fill=\"none\"/>\n",
              "    <path d=\"M18.56 5.44l.94 2.06.94-2.06 2.06-.94-2.06-.94-.94-2.06-.94 2.06-2.06.94zm-11 1L8.5 8.5l.94-2.06 2.06-.94-2.06-.94L8.5 2.5l-.94 2.06-2.06.94zm10 10l.94 2.06.94-2.06 2.06-.94-2.06-.94-.94-2.06-.94 2.06-2.06.94z\"/><path d=\"M17.41 7.96l-1.37-1.37c-.4-.4-.92-.59-1.43-.59-.52 0-1.04.2-1.43.59L10.3 9.45l-7.72 7.72c-.78.78-.78 2.05 0 2.83L4 21.41c.39.39.9.59 1.41.59.51 0 1.02-.2 1.41-.59l7.78-7.78 2.81-2.81c.8-.78.8-2.07 0-2.86zM5.41 20L4 18.59l7.72-7.72 1.47 1.35L5.41 20z\"/>\n",
              "  </svg>\n",
              "      </button>\n",
              "      \n",
              "  <style>\n",
              "    .colab-df-container {\n",
              "      display:flex;\n",
              "      flex-wrap:wrap;\n",
              "      gap: 12px;\n",
              "    }\n",
              "\n",
              "    .colab-df-convert {\n",
              "      background-color: #E8F0FE;\n",
              "      border: none;\n",
              "      border-radius: 50%;\n",
              "      cursor: pointer;\n",
              "      display: none;\n",
              "      fill: #1967D2;\n",
              "      height: 32px;\n",
              "      padding: 0 0 0 0;\n",
              "      width: 32px;\n",
              "    }\n",
              "\n",
              "    .colab-df-convert:hover {\n",
              "      background-color: #E2EBFA;\n",
              "      box-shadow: 0px 1px 2px rgba(60, 64, 67, 0.3), 0px 1px 3px 1px rgba(60, 64, 67, 0.15);\n",
              "      fill: #174EA6;\n",
              "    }\n",
              "\n",
              "    [theme=dark] .colab-df-convert {\n",
              "      background-color: #3B4455;\n",
              "      fill: #D2E3FC;\n",
              "    }\n",
              "\n",
              "    [theme=dark] .colab-df-convert:hover {\n",
              "      background-color: #434B5C;\n",
              "      box-shadow: 0px 1px 3px 1px rgba(0, 0, 0, 0.15);\n",
              "      filter: drop-shadow(0px 1px 2px rgba(0, 0, 0, 0.3));\n",
              "      fill: #FFFFFF;\n",
              "    }\n",
              "  </style>\n",
              "\n",
              "      <script>\n",
              "        const buttonEl =\n",
              "          document.querySelector('#df-578cfb99-7431-4c23-902b-3fa2d1e52924 button.colab-df-convert');\n",
              "        buttonEl.style.display =\n",
              "          google.colab.kernel.accessAllowed ? 'block' : 'none';\n",
              "\n",
              "        async function convertToInteractive(key) {\n",
              "          const element = document.querySelector('#df-578cfb99-7431-4c23-902b-3fa2d1e52924');\n",
              "          const dataTable =\n",
              "            await google.colab.kernel.invokeFunction('convertToInteractive',\n",
              "                                                     [key], {});\n",
              "          if (!dataTable) return;\n",
              "\n",
              "          const docLinkHtml = 'Like what you see? Visit the ' +\n",
              "            '<a target=\"_blank\" href=https://colab.research.google.com/notebooks/data_table.ipynb>data table notebook</a>'\n",
              "            + ' to learn more about interactive tables.';\n",
              "          element.innerHTML = '';\n",
              "          dataTable['output_type'] = 'display_data';\n",
              "          await google.colab.output.renderOutput(dataTable, element);\n",
              "          const docLink = document.createElement('div');\n",
              "          docLink.innerHTML = docLinkHtml;\n",
              "          element.appendChild(docLink);\n",
              "        }\n",
              "      </script>\n",
              "    </div>\n",
              "  </div>\n",
              "  "
            ]
          },
          "metadata": {},
          "execution_count": 1
        }
      ]
    },
    {
      "cell_type": "code",
      "source": [
        "#데이터셋 확인\n",
        "sales.info()"
      ],
      "metadata": {
        "colab": {
          "base_uri": "https://localhost:8080/"
        },
        "id": "TT0iJ4N1VryH",
        "outputId": "64f65848-c0b3-455d-c413-af37b90699f3"
      },
      "execution_count": 2,
      "outputs": [
        {
          "output_type": "stream",
          "name": "stdout",
          "text": [
            "<class 'pandas.core.frame.DataFrame'>\n",
            "RangeIndex: 4572 entries, 0 to 4571\n",
            "Data columns (total 6 columns):\n",
            " #   Column        Non-Null Count  Dtype  \n",
            "---  ------        --------------  -----  \n",
            " 0   ID            4572 non-null   int64  \n",
            " 1   TV            4562 non-null   float64\n",
            " 2   Radio         4568 non-null   float64\n",
            " 3   Social Media  4566 non-null   float64\n",
            " 4   Influencer    4572 non-null   object \n",
            " 5   Sales         4566 non-null   float64\n",
            "dtypes: float64(4), int64(1), object(1)\n",
            "memory usage: 214.4+ KB\n"
          ]
        }
      ]
    },
    {
      "cell_type": "code",
      "source": [
        "sales.columns"
      ],
      "metadata": {
        "colab": {
          "base_uri": "https://localhost:8080/"
        },
        "id": "DTbqICKpXBxD",
        "outputId": "4a4316e1-de83-45fe-d4d7-559f627ea2a6"
      },
      "execution_count": 3,
      "outputs": [
        {
          "output_type": "execute_result",
          "data": {
            "text/plain": [
              "Index(['ID', 'TV', 'Radio', 'Social Media', 'Influencer', 'Sales'], dtype='object')"
            ]
          },
          "metadata": {},
          "execution_count": 3
        }
      ]
    },
    {
      "cell_type": "markdown",
      "source": [
        "###전처리(결측치 제거)"
      ],
      "metadata": {
        "id": "BQ3HjRRebSaS"
      }
    },
    {
      "cell_type": "code",
      "source": [
        "#결측치 확인\n",
        "sales.isnull().sum()"
      ],
      "metadata": {
        "colab": {
          "base_uri": "https://localhost:8080/"
        },
        "id": "eXARqJbxV1fZ",
        "outputId": "590a2deb-4a72-4ba0-ad82-b243672afaea"
      },
      "execution_count": 5,
      "outputs": [
        {
          "output_type": "execute_result",
          "data": {
            "text/plain": [
              "ID               0\n",
              "TV              10\n",
              "Radio            4\n",
              "Social Media     6\n",
              "Influencer       0\n",
              "Sales            6\n",
              "dtype: int64"
            ]
          },
          "metadata": {},
          "execution_count": 5
        }
      ]
    },
    {
      "cell_type": "code",
      "source": [
        "#결측값 제거(na행 제거)\n",
        "sales2=sales.dropna(axis=0)\n",
        "sales2.isnull().sum()"
      ],
      "metadata": {
        "colab": {
          "base_uri": "https://localhost:8080/"
        },
        "id": "JjqE-LEAaqzy",
        "outputId": "f0969a3d-b59c-4a21-89c3-f6817af240b2"
      },
      "execution_count": 24,
      "outputs": [
        {
          "output_type": "execute_result",
          "data": {
            "text/plain": [
              "ID              0\n",
              "TV              0\n",
              "Radio           0\n",
              "Social Media    0\n",
              "Influencer      0\n",
              "Sales           0\n",
              "dtype: int64"
            ]
          },
          "metadata": {},
          "execution_count": 24
        }
      ]
    },
    {
      "cell_type": "code",
      "source": [
        "#이상치 확인\n",
        "sales2.boxplot(column=\"Sales\",return_type=\"both\")"
      ],
      "metadata": {
        "colab": {
          "base_uri": "https://localhost:8080/",
          "height": 374
        },
        "id": "IiWHIZduc2ls",
        "outputId": "1638ccdd-a06a-4226-f6bc-bba67ea00339"
      },
      "execution_count": 25,
      "outputs": [
        {
          "output_type": "execute_result",
          "data": {
            "text/plain": [
              "BP(ax=<matplotlib.axes._subplots.AxesSubplot object at 0x7f82a28f88b0>, lines={'whiskers': [<matplotlib.lines.Line2D object at 0x7f82a1fb93a0>, <matplotlib.lines.Line2D object at 0x7f82a23c3460>], 'caps': [<matplotlib.lines.Line2D object at 0x7f82a239a610>, <matplotlib.lines.Line2D object at 0x7f82a1ef9370>], 'boxes': [<matplotlib.lines.Line2D object at 0x7f82a1f9fe50>], 'medians': [<matplotlib.lines.Line2D object at 0x7f82a1f56880>], 'fliers': [<matplotlib.lines.Line2D object at 0x7f82a1f65c10>], 'means': []})"
            ]
          },
          "metadata": {},
          "execution_count": 25
        },
        {
          "output_type": "display_data",
          "data": {
            "text/plain": [
              "<Figure size 432x288 with 1 Axes>"
            ],
            "image/png": "[encoded data removed]"
          },
          "metadata": {
            "needs_background": "light"
          }
        }
      ]
    },
    {
      "cell_type": "code",
      "source": [
        "#평균, 분산 확인\n",
        "sales.describe()"
      ],
      "metadata": {
        "colab": {
          "base_uri": "https://localhost:8080/",
          "height": 300
        },
        "id": "QFTfxUR9Vz6I",
        "outputId": "1e366b29-90ed-4fe5-ae0d-5e37751aa1d7"
      },
      "execution_count": 22,
      "outputs": [
        {
          "output_type": "execute_result",
          "data": {
            "text/plain": [
              "                ID           TV        Radio  Social Media        Sales\n",
              "count  4572.000000  4562.000000  4568.000000   4566.000000  4566.000000\n",
              "mean   2286.500000    54.066857    18.160356      3.323956   192.466602\n",
              "std    1319.967045    26.125054     9.676958      2.212670    93.133092\n",
              "min       1.000000    10.000000     0.000684      0.000031    31.199409\n",
              "25%    1143.750000    32.000000    10.525957      1.527849   112.322882\n",
              "50%    2286.500000    53.000000    17.859513      3.055565   189.231172\n",
              "75%    3429.250000    77.000000    25.649730      4.807558   272.507922\n",
              "max    4572.000000   100.000000    48.871161     13.981662   364.079751"
            ],
            "text/html": [
              "\n",
              "  <div id=\"df-3e628667-4053-4a2a-a72b-345b62a1e048\">\n",
              "    <div class=\"colab-df-container\">\n",
              "      <div>\n",
              "<style scoped>\n",
              "    .dataframe tbody tr th:only-of-type {\n",
              "        vertical-align: middle;\n",
              "    }\n",
              "\n",
              "    .dataframe tbody tr th {\n",
              "        vertical-align: top;\n",
              "    }\n",
              "\n",
              "    .dataframe thead th {\n",
              "        text-align: right;\n",
              "    }\n",
              "</style>\n",
              "<table border=\"1\" class=\"dataframe\">\n",
              "  <thead>\n",
              "    <tr style=\"text-align: right;\">\n",
              "      <th></th>\n",
              "      <th>ID</th>\n",
              "      <th>TV</th>\n",
              "      <th>Radio</th>\n",
              "      <th>Social Media</th>\n",
              "      <th>Sales</th>\n",
              "    </tr>\n",
              "  </thead>\n",
              "  <tbody>\n",
              "    <tr>\n",
              "      <th>count</th>\n",
              "      <td>4572.000000</td>\n",
              "      <td>4562.000000</td>\n",
              "      <td>4568.000000</td>\n",
              "      <td>4566.000000</td>\n",
              "      <td>4566.000000</td>\n",
              "    </tr>\n",
              "    <tr>\n",
              "      <th>mean</th>\n",
              "      <td>2286.500000</td>\n",
              "      <td>54.066857</td>\n",
              "      <td>18.160356</td>\n",
              "      <td>3.323956</td>\n",
              "      <td>192.466602</td>\n",
              "    </tr>\n",
              "    <tr>\n",
              "      <th>std</th>\n",
              "      <td>1319.967045</td>\n",
              "      <td>26.125054</td>\n",
              "      <td>9.676958</td>\n",
              "      <td>2.212670</td>\n",
              "      <td>93.133092</td>\n",
              "    </tr>\n",
              "    <tr>\n",
              "      <th>min</th>\n",
              "      <td>1.000000</td>\n",
              "      <td>10.000000</td>\n",
              "      <td>0.000684</td>\n",
              "      <td>0.000031</td>\n",
              "      <td>31.199409</td>\n",
              "    </tr>\n",
              "    <tr>\n",
              "      <th>25%</th>\n",
              "      <td>1143.750000</td>\n",
              "      <td>32.000000</td>\n",
              "      <td>10.525957</td>\n",
              "      <td>1.527849</td>\n",
              "      <td>112.322882</td>\n",
              "    </tr>\n",
              "    <tr>\n",
              "      <th>50%</th>\n",
              "      <td>2286.500000</td>\n",
              "      <td>53.000000</td>\n",
              "      <td>17.859513</td>\n",
              "      <td>3.055565</td>\n",
              "      <td>189.231172</td>\n",
              "    </tr>\n",
              "    <tr>\n",
              "      <th>75%</th>\n",
              "      <td>3429.250000</td>\n",
              "      <td>77.000000</td>\n",
              "      <td>25.649730</td>\n",
              "      <td>4.807558</td>\n",
              "      <td>272.507922</td>\n",
              "    </tr>\n",
              "    <tr>\n",
              "      <th>max</th>\n",
              "      <td>4572.000000</td>\n",
              "      <td>100.000000</td>\n",
              "      <td>48.871161</td>\n",
              "      <td>13.981662</td>\n",
              "      <td>364.079751</td>\n",
              "    </tr>\n",
              "  </tbody>\n",
              "</table>\n",
              "</div>\n",
              "      <button class=\"colab-df-convert\" onclick=\"convertToInteractive('df-3e628667-4053-4a2a-a72b-345b62a1e048')\"\n",
              "              title=\"Convert this dataframe to an interactive table.\"\n",
              "              style=\"display:none;\">\n",
              "        \n",
              "  <svg xmlns=\"http://www.w3.org/2000/svg\" height=\"24px\"viewBox=\"0 0 24 24\"\n",
              "       width=\"24px\">\n",
              "    <path d=\"M0 0h24v24H0V0z\" fill=\"none\"/>\n",
              "    <path d=\"M18.56 5.44l.94 2.06.94-2.06 2.06-.94-2.06-.94-.94-2.06-.94 2.06-2.06.94zm-11 1L8.5 8.5l.94-2.06 2.06-.94-2.06-.94L8.5 2.5l-.94 2.06-2.06.94zm10 10l.94 2.06.94-2.06 2.06-.94-2.06-.94-.94-2.06-.94 2.06-2.06.94z\"/><path d=\"M17.41 7.96l-1.37-1.37c-.4-.4-.92-.59-1.43-.59-.52 0-1.04.2-1.43.59L10.3 9.45l-7.72 7.72c-.78.78-.78 2.05 0 2.83L4 21.41c.39.39.9.59 1.41.59.51 0 1.02-.2 1.41-.59l7.78-7.78 2.81-2.81c.8-.78.8-2.07 0-2.86zM5.41 20L4 18.59l7.72-7.72 1.47 1.35L5.41 20z\"/>\n",
              "  </svg>\n",
              "      </button>\n",
              "      \n",
              "  <style>\n",
              "    .colab-df-container {\n",
              "      display:flex;\n",
              "      flex-wrap:wrap;\n",
              "      gap: 12px;\n",
              "    }\n",
              "\n",
              "    .colab-df-convert {\n",
              "      background-color: #E8F0FE;\n",
              "      border: none;\n",
              "      border-radius: 50%;\n",
              "      cursor: pointer;\n",
              "      display: none;\n",
              "      fill: #1967D2;\n",
              "      height: 32px;\n",
              "      padding: 0 0 0 0;\n",
              "      width: 32px;\n",
              "    }\n",
              "\n",
              "    .colab-df-convert:hover {\n",
              "      background-color: #E2EBFA;\n",
              "      box-shadow: 0px 1px 2px rgba(60, 64, 67, 0.3), 0px 1px 3px 1px rgba(60, 64, 67, 0.15);\n",
              "      fill: #174EA6;\n",
              "    }\n",
              "\n",
              "    [theme=dark] .colab-df-convert {\n",
              "      background-color: #3B4455;\n",
              "      fill: #D2E3FC;\n",
              "    }\n",
              "\n",
              "    [theme=dark] .colab-df-convert:hover {\n",
              "      background-color: #434B5C;\n",
              "      box-shadow: 0px 1px 3px 1px rgba(0, 0, 0, 0.15);\n",
              "      filter: drop-shadow(0px 1px 2px rgba(0, 0, 0, 0.3));\n",
              "      fill: #FFFFFF;\n",
              "    }\n",
              "  </style>\n",
              "\n",
              "      <script>\n",
              "        const buttonEl =\n",
              "          document.querySelector('#df-3e628667-4053-4a2a-a72b-345b62a1e048 button.colab-df-convert');\n",
              "        buttonEl.style.display =\n",
              "          google.colab.kernel.accessAllowed ? 'block' : 'none';\n",
              "\n",
              "        async function convertToInteractive(key) {\n",
              "          const element = document.querySelector('#df-3e628667-4053-4a2a-a72b-345b62a1e048');\n",
              "          const dataTable =\n",
              "            await google.colab.kernel.invokeFunction('convertToInteractive',\n",
              "                                                     [key], {});\n",
              "          if (!dataTable) return;\n",
              "\n",
              "          const docLinkHtml = 'Like what you see? Visit the ' +\n",
              "            '<a target=\"_blank\" href=https://colab.research.google.com/notebooks/data_table.ipynb>data table notebook</a>'\n",
              "            + ' to learn more about interactive tables.';\n",
              "          element.innerHTML = '';\n",
              "          dataTable['output_type'] = 'display_data';\n",
              "          await google.colab.output.renderOutput(dataTable, element);\n",
              "          const docLink = document.createElement('div');\n",
              "          docLink.innerHTML = docLinkHtml;\n",
              "          element.appendChild(docLink);\n",
              "        }\n",
              "      </script>\n",
              "    </div>\n",
              "  </div>\n",
              "  "
            ]
          },
          "metadata": {},
          "execution_count": 22
        }
      ]
    },
    {
      "cell_type": "code",
      "source": [
        "sales2.describe()"
      ],
      "metadata": {
        "colab": {
          "base_uri": "https://localhost:8080/",
          "height": 300
        },
        "id": "FqstJx4FdQnT",
        "outputId": "0d81aa84-c1db-4bde-debb-5857dc9bfb1f"
      },
      "execution_count": 26,
      "outputs": [
        {
          "output_type": "execute_result",
          "data": {
            "text/plain": [
              "                ID           TV        Radio  Social Media        Sales\n",
              "count  4546.000000  4546.000000  4546.000000   4546.000000  4546.000000\n",
              "mean   2298.615706    54.062912    18.157533      3.323473   192.413332\n",
              "std    1313.940310    26.104942     9.663260      2.211254    93.019873\n",
              "min       1.000000    10.000000     0.000684      0.000031    31.199409\n",
              "25%    1163.250000    32.000000    10.555355      1.530822   112.434612\n",
              "50%    2299.500000    53.000000    17.859513      3.055565   188.963678\n",
              "75%    3435.750000    77.000000    25.640603      4.804919   272.324236\n",
              "max    4572.000000   100.000000    48.871161     13.981662   364.079751"
            ],
            "text/html": [
              "\n",
              "  <div id=\"df-6fb3ac74-a68f-4b40-ab4d-02a59c37f877\">\n",
              "    <div class=\"colab-df-container\">\n",
              "      <div>\n",
              "<style scoped>\n",
              "    .dataframe tbody tr th:only-of-type {\n",
              "        vertical-align: middle;\n",
              "    }\n",
              "\n",
              "    .dataframe tbody tr th {\n",
              "        vertical-align: top;\n",
              "    }\n",
              "\n",
              "    .dataframe thead th {\n",
              "        text-align: right;\n",
              "    }\n",
              "</style>\n",
              "<table border=\"1\" class=\"dataframe\">\n",
              "  <thead>\n",
              "    <tr style=\"text-align: right;\">\n",
              "      <th></th>\n",
              "      <th>ID</th>\n",
              "      <th>TV</th>\n",
              "      <th>Radio</th>\n",
              "      <th>Social Media</th>\n",
              "      <th>Sales</th>\n",
              "    </tr>\n",
              "  </thead>\n",
              "  <tbody>\n",
              "    <tr>\n",
              "      <th>count</th>\n",
              "      <td>4546.000000</td>\n",
              "      <td>4546.000000</td>\n",
              "      <td>4546.000000</td>\n",
              "      <td>4546.000000</td>\n",
              "      <td>4546.000000</td>\n",
              "    </tr>\n",
              "    <tr>\n",
              "      <th>mean</th>\n",
              "      <td>2298.615706</td>\n",
              "      <td>54.062912</td>\n",
              "      <td>18.157533</td>\n",
              "      <td>3.323473</td>\n",
              "      <td>192.413332</td>\n",
              "    </tr>\n",
              "    <tr>\n",
              "      <th>std</th>\n",
              "      <td>1313.940310</td>\n",
              "      <td>26.104942</td>\n",
              "      <td>9.663260</td>\n",
              "      <td>2.211254</td>\n",
              "      <td>93.019873</td>\n",
              "    </tr>\n",
              "    <tr>\n",
              "      <th>min</th>\n",
              "      <td>1.000000</td>\n",
              "      <td>10.000000</td>\n",
              "      <td>0.000684</td>\n",
              "      <td>0.000031</td>\n",
              "      <td>31.199409</td>\n",
              "    </tr>\n",
              "    <tr>\n",
              "      <th>25%</th>\n",
              "      <td>1163.250000</td>\n",
              "      <td>32.000000</td>\n",
              "      <td>10.555355</td>\n",
              "      <td>1.530822</td>\n",
              "      <td>112.434612</td>\n",
              "    </tr>\n",
              "    <tr>\n",
              "      <th>50%</th>\n",
              "      <td>2299.500000</td>\n",
              "      <td>53.000000</td>\n",
              "      <td>17.859513</td>\n",
              "      <td>3.055565</td>\n",
              "      <td>188.963678</td>\n",
              "    </tr>\n",
              "    <tr>\n",
              "      <th>75%</th>\n",
              "      <td>3435.750000</td>\n",
              "      <td>77.000000</td>\n",
              "      <td>25.640603</td>\n",
              "      <td>4.804919</td>\n",
              "      <td>272.324236</td>\n",
              "    </tr>\n",
              "    <tr>\n",
              "      <th>max</th>\n",
              "      <td>4572.000000</td>\n",
              "      <td>100.000000</td>\n",
              "      <td>48.871161</td>\n",
              "      <td>13.981662</td>\n",
              "      <td>364.079751</td>\n",
              "    </tr>\n",
              "  </tbody>\n",
              "</table>\n",
              "</div>\n",
              "      <button class=\"colab-df-convert\" onclick=\"convertToInteractive('df-6fb3ac74-a68f-4b40-ab4d-02a59c37f877')\"\n",
              "              title=\"Convert this dataframe to an interactive table.\"\n",
              "              style=\"display:none;\">\n",
              "        \n",
              "  <svg xmlns=\"http://www.w3.org/2000/svg\" height=\"24px\"viewBox=\"0 0 24 24\"\n",
              "       width=\"24px\">\n",
              "    <path d=\"M0 0h24v24H0V0z\" fill=\"none\"/>\n",
              "    <path d=\"M18.56 5.44l.94 2.06.94-2.06 2.06-.94-2.06-.94-.94-2.06-.94 2.06-2.06.94zm-11 1L8.5 8.5l.94-2.06 2.06-.94-2.06-.94L8.5 2.5l-.94 2.06-2.06.94zm10 10l.94 2.06.94-2.06 2.06-.94-2.06-.94-.94-2.06-.94 2.06-2.06.94z\"/><path d=\"M17.41 7.96l-1.37-1.37c-.4-.4-.92-.59-1.43-.59-.52 0-1.04.2-1.43.59L10.3 9.45l-7.72 7.72c-.78.78-.78 2.05 0 2.83L4 21.41c.39.39.9.59 1.41.59.51 0 1.02-.2 1.41-.59l7.78-7.78 2.81-2.81c.8-.78.8-2.07 0-2.86zM5.41 20L4 18.59l7.72-7.72 1.47 1.35L5.41 20z\"/>\n",
              "  </svg>\n",
              "      </button>\n",
              "      \n",
              "  <style>\n",
              "    .colab-df-container {\n",
              "      display:flex;\n",
              "      flex-wrap:wrap;\n",
              "      gap: 12px;\n",
              "    }\n",
              "\n",
              "    .colab-df-convert {\n",
              "      background-color: #E8F0FE;\n",
              "      border: none;\n",
              "      border-radius: 50%;\n",
              "      cursor: pointer;\n",
              "      display: none;\n",
              "      fill: #1967D2;\n",
              "      height: 32px;\n",
              "      padding: 0 0 0 0;\n",
              "      width: 32px;\n",
              "    }\n",
              "\n",
              "    .colab-df-convert:hover {\n",
              "      background-color: #E2EBFA;\n",
              "      box-shadow: 0px 1px 2px rgba(60, 64, 67, 0.3), 0px 1px 3px 1px rgba(60, 64, 67, 0.15);\n",
              "      fill: #174EA6;\n",
              "    }\n",
              "\n",
              "    [theme=dark] .colab-df-convert {\n",
              "      background-color: #3B4455;\n",
              "      fill: #D2E3FC;\n",
              "    }\n",
              "\n",
              "    [theme=dark] .colab-df-convert:hover {\n",
              "      background-color: #434B5C;\n",
              "      box-shadow: 0px 1px 3px 1px rgba(0, 0, 0, 0.15);\n",
              "      filter: drop-shadow(0px 1px 2px rgba(0, 0, 0, 0.3));\n",
              "      fill: #FFFFFF;\n",
              "    }\n",
              "  </style>\n",
              "\n",
              "      <script>\n",
              "        const buttonEl =\n",
              "          document.querySelector('#df-6fb3ac74-a68f-4b40-ab4d-02a59c37f877 button.colab-df-convert');\n",
              "        buttonEl.style.display =\n",
              "          google.colab.kernel.accessAllowed ? 'block' : 'none';\n",
              "\n",
              "        async function convertToInteractive(key) {\n",
              "          const element = document.querySelector('#df-6fb3ac74-a68f-4b40-ab4d-02a59c37f877');\n",
              "          const dataTable =\n",
              "            await google.colab.kernel.invokeFunction('convertToInteractive',\n",
              "                                                     [key], {});\n",
              "          if (!dataTable) return;\n",
              "\n",
              "          const docLinkHtml = 'Like what you see? Visit the ' +\n",
              "            '<a target=\"_blank\" href=https://colab.research.google.com/notebooks/data_table.ipynb>data table notebook</a>'\n",
              "            + ' to learn more about interactive tables.';\n",
              "          element.innerHTML = '';\n",
              "          dataTable['output_type'] = 'display_data';\n",
              "          await google.colab.output.renderOutput(dataTable, element);\n",
              "          const docLink = document.createElement('div');\n",
              "          docLink.innerHTML = docLinkHtml;\n",
              "          element.appendChild(docLink);\n",
              "        }\n",
              "      </script>\n",
              "    </div>\n",
              "  </div>\n",
              "  "
            ]
          },
          "metadata": {},
          "execution_count": 26
        }
      ]
    },
    {
      "cell_type": "markdown",
      "source": [
        "##plot"
      ],
      "metadata": {
        "id": "TOpobx7jbbYD"
      }
    },
    {
      "cell_type": "code",
      "source": [
        "#분포 시각화\n",
        "from matplotlib import pyplot as plt\n",
        "import numpy as np"
      ],
      "metadata": {
        "id": "Ln7LUaSSWPco"
      },
      "execution_count": 8,
      "outputs": []
    },
    {
      "cell_type": "code",
      "source": [
        "sales2[\"TV\"].hist()\n",
        "sales2[\"Radio\"].hist()\n",
        "sales2[\"Social Media\"].hist()"
      ],
      "metadata": {
        "colab": {
          "base_uri": "https://localhost:8080/",
          "height": 283
        },
        "id": "ay_-4dXSW6Qg",
        "outputId": "169ca6c8-cd3c-4e92-a8ed-37fb1d97398b"
      },
      "execution_count": 44,
      "outputs": [
        {
          "output_type": "execute_result",
          "data": {
            "text/plain": [
              "<matplotlib.axes._subplots.AxesSubplot at 0x7f82993dce50>"
            ]
          },
          "metadata": {},
          "execution_count": 44
        },
        {
          "output_type": "display_data",
          "data": {
            "text/plain": [
              "<Figure size 432x288 with 1 Axes>"
            ],
            "image/png": "[encoded data removed]"
          },
          "metadata": {
            "needs_background": "light"
          }
        }
      ]
    },
    {
      "cell_type": "code",
      "source": [
        "sales2[\"Influencer\"].hist()"
      ],
      "metadata": {
        "colab": {
          "base_uri": "https://localhost:8080/",
          "height": 286
        },
        "id": "5jrwPP-QXV5f",
        "outputId": "1badd583-0cdd-4b82-e184-2d1446d46921"
      },
      "execution_count": 28,
      "outputs": [
        {
          "output_type": "execute_result",
          "data": {
            "text/plain": [
              "<matplotlib.axes._subplots.AxesSubplot at 0x7f82a10eaa90>"
            ]
          },
          "metadata": {},
          "execution_count": 28
        },
        {
          "output_type": "display_data",
          "data": {
            "text/plain": [
              "<Figure size 432x288 with 1 Axes>"
            ],
            "image/png": "[encoded data removed]"
          },
          "metadata": {
            "needs_background": "light"
          }
        }
      ]
    },
    {
      "cell_type": "code",
      "source": [
        "sales2[\"Sales\"].hist()"
      ],
      "metadata": {
        "colab": {
          "base_uri": "https://localhost:8080/",
          "height": 283
        },
        "id": "TVW-mlznX4mZ",
        "outputId": "42205d0d-9076-4ce2-cacf-b80b9581a2b5"
      },
      "execution_count": 45,
      "outputs": [
        {
          "output_type": "execute_result",
          "data": {
            "text/plain": [
              "<matplotlib.axes._subplots.AxesSubplot at 0x7f8299175490>"
            ]
          },
          "metadata": {},
          "execution_count": 45
        },
        {
          "output_type": "display_data",
          "data": {
            "text/plain": [
              "<Figure size 432x288 with 1 Axes>"
            ],
            "image/png": "[encoded data removed]"
          },
          "metadata": {
            "needs_background": "light"
          }
        }
      ]
    },
    {
      "cell_type": "code",
      "source": [
        "a=sales2[['ID', 'TV', 'Radio','Influencer', 'Social Media']]\n",
        "b=sales2[['ID', 'Sales']]"
      ],
      "metadata": {
        "id": "s-gdgoXXX6PM"
      },
      "execution_count": 30,
      "outputs": []
    },
    {
      "cell_type": "code",
      "source": [
        "from pandas.io.formats.style_render import DataFrame\n",
        "a=DataFrame(a)\n",
        "b=DataFrame(b)"
      ],
      "metadata": {
        "id": "3zIHotgNYNmG"
      },
      "execution_count": 31,
      "outputs": []
    },
    {
      "cell_type": "code",
      "source": [
        "ab_merge=b.merge(a)\n",
        "ab_merge"
      ],
      "metadata": {
        "colab": {
          "base_uri": "https://localhost:8080/",
          "height": 423
        },
        "id": "5uFsKngKYZWt",
        "outputId": "8c51df95-69eb-440c-fc5a-05d0aac9c743"
      },
      "execution_count": 32,
      "outputs": [
        {
          "output_type": "execute_result",
          "data": {
            "text/plain": [
              "        ID       Sales    TV      Radio Influencer  Social Media\n",
              "0        1   54.732757  16.0   6.566231       Mega      2.907983\n",
              "1        2   46.677897  13.0   9.237765       Mega      2.409567\n",
              "2        3  150.177829  41.0  15.886446       Mega      2.913410\n",
              "3        4  298.246340  83.0  30.020028       Mega      6.922304\n",
              "4        5   56.594181  15.0   8.437408      Micro      1.405998\n",
              "...    ...         ...   ...        ...        ...           ...\n",
              "4541  4568   94.685866  26.0   4.472360      Micro      0.717090\n",
              "4542  4569  249.101915  71.0  20.610685       Nano      6.545573\n",
              "4543  4570  163.631457  44.0  19.800072      Micro      5.096192\n",
              "4544  4571  253.610411  71.0  17.534640      Macro      1.940873\n",
              "4545  4572  148.202414  42.0  15.966688      Micro      5.046548\n",
              "\n",
              "[4546 rows x 6 columns]"
            ],
            "text/html": [
              "\n",
              "  <div id=\"df-d26acb92-7a91-499f-afaf-88548935211f\">\n",
              "    <div class=\"colab-df-container\">\n",
              "      <div>\n",
              "<style scoped>\n",
              "    .dataframe tbody tr th:only-of-type {\n",
              "        vertical-align: middle;\n",
              "    }\n",
              "\n",
              "    .dataframe tbody tr th {\n",
              "        vertical-align: top;\n",
              "    }\n",
              "\n",
              "    .dataframe thead th {\n",
              "        text-align: right;\n",
              "    }\n",
              "</style>\n",
              "<table border=\"1\" class=\"dataframe\">\n",
              "  <thead>\n",
              "    <tr style=\"text-align: right;\">\n",
              "      <th></th>\n",
              "      <th>ID</th>\n",
              "      <th>Sales</th>\n",
              "      <th>TV</th>\n",
              "      <th>Radio</th>\n",
              "      <th>Influencer</th>\n",
              "      <th>Social Media</th>\n",
              "    </tr>\n",
              "  </thead>\n",
              "  <tbody>\n",
              "    <tr>\n",
              "      <th>0</th>\n",
              "      <td>1</td>\n",
              "      <td>54.732757</td>\n",
              "      <td>16.0</td>\n",
              "      <td>6.566231</td>\n",
              "      <td>Mega</td>\n",
              "      <td>2.907983</td>\n",
              "    </tr>\n",
              "    <tr>\n",
              "      <th>1</th>\n",
              "      <td>2</td>\n",
              "      <td>46.677897</td>\n",
              "      <td>13.0</td>\n",
              "      <td>9.237765</td>\n",
              "      <td>Mega</td>\n",
              "      <td>2.409567</td>\n",
              "    </tr>\n",
              "    <tr>\n",
              "      <th>2</th>\n",
              "      <td>3</td>\n",
              "      <td>150.177829</td>\n",
              "      <td>41.0</td>\n",
              "      <td>15.886446</td>\n",
              "      <td>Mega</td>\n",
              "      <td>2.913410</td>\n",
              "    </tr>\n",
              "    <tr>\n",
              "      <th>3</th>\n",
              "      <td>4</td>\n",
              "      <td>298.246340</td>\n",
              "      <td>83.0</td>\n",
              "      <td>30.020028</td>\n",
              "      <td>Mega</td>\n",
              "      <td>6.922304</td>\n",
              "    </tr>\n",
              "    <tr>\n",
              "      <th>4</th>\n",
              "      <td>5</td>\n",
              "      <td>56.594181</td>\n",
              "      <td>15.0</td>\n",
              "      <td>8.437408</td>\n",
              "      <td>Micro</td>\n",
              "      <td>1.405998</td>\n",
              "    </tr>\n",
              "    <tr>\n",
              "      <th>...</th>\n",
              "      <td>...</td>\n",
              "      <td>...</td>\n",
              "      <td>...</td>\n",
              "      <td>...</td>\n",
              "      <td>...</td>\n",
              "      <td>...</td>\n",
              "    </tr>\n",
              "    <tr>\n",
              "      <th>4541</th>\n",
              "      <td>4568</td>\n",
              "      <td>94.685866</td>\n",
              "      <td>26.0</td>\n",
              "      <td>4.472360</td>\n",
              "      <td>Micro</td>\n",
              "      <td>0.717090</td>\n",
              "    </tr>\n",
              "    <tr>\n",
              "      <th>4542</th>\n",
              "      <td>4569</td>\n",
              "      <td>249.101915</td>\n",
              "      <td>71.0</td>\n",
              "      <td>20.610685</td>\n",
              "      <td>Nano</td>\n",
              "      <td>6.545573</td>\n",
              "    </tr>\n",
              "    <tr>\n",
              "      <th>4543</th>\n",
              "      <td>4570</td>\n",
              "      <td>163.631457</td>\n",
              "      <td>44.0</td>\n",
              "      <td>19.800072</td>\n",
              "      <td>Micro</td>\n",
              "      <td>5.096192</td>\n",
              "    </tr>\n",
              "    <tr>\n",
              "      <th>4544</th>\n",
              "      <td>4571</td>\n",
              "      <td>253.610411</td>\n",
              "      <td>71.0</td>\n",
              "      <td>17.534640</td>\n",
              "      <td>Macro</td>\n",
              "      <td>1.940873</td>\n",
              "    </tr>\n",
              "    <tr>\n",
              "      <th>4545</th>\n",
              "      <td>4572</td>\n",
              "      <td>148.202414</td>\n",
              "      <td>42.0</td>\n",
              "      <td>15.966688</td>\n",
              "      <td>Micro</td>\n",
              "      <td>5.046548</td>\n",
              "    </tr>\n",
              "  </tbody>\n",
              "</table>\n",
              "<p>4546 rows × 6 columns</p>\n",
              "</div>\n",
              "      <button class=\"colab-df-convert\" onclick=\"convertToInteractive('df-d26acb92-7a91-499f-afaf-88548935211f')\"\n",
              "              title=\"Convert this dataframe to an interactive table.\"\n",
              "              style=\"display:none;\">\n",
              "        \n",
              "  <svg xmlns=\"http://www.w3.org/2000/svg\" height=\"24px\"viewBox=\"0 0 24 24\"\n",
              "       width=\"24px\">\n",
              "    <path d=\"M0 0h24v24H0V0z\" fill=\"none\"/>\n",
              "    <path d=\"M18.56 5.44l.94 2.06.94-2.06 2.06-.94-2.06-.94-.94-2.06-.94 2.06-2.06.94zm-11 1L8.5 8.5l.94-2.06 2.06-.94-2.06-.94L8.5 2.5l-.94 2.06-2.06.94zm10 10l.94 2.06.94-2.06 2.06-.94-2.06-.94-.94-2.06-.94 2.06-2.06.94z\"/><path d=\"M17.41 7.96l-1.37-1.37c-.4-.4-.92-.59-1.43-.59-.52 0-1.04.2-1.43.59L10.3 9.45l-7.72 7.72c-.78.78-.78 2.05 0 2.83L4 21.41c.39.39.9.59 1.41.59.51 0 1.02-.2 1.41-.59l7.78-7.78 2.81-2.81c.8-.78.8-2.07 0-2.86zM5.41 20L4 18.59l7.72-7.72 1.47 1.35L5.41 20z\"/>\n",
              "  </svg>\n",
              "      </button>\n",
              "      \n",
              "  <style>\n",
              "    .colab-df-container {\n",
              "      display:flex;\n",
              "      flex-wrap:wrap;\n",
              "      gap: 12px;\n",
              "    }\n",
              "\n",
              "    .colab-df-convert {\n",
              "      background-color: #E8F0FE;\n",
              "      border: none;\n",
              "      border-radius: 50%;\n",
              "      cursor: pointer;\n",
              "      display: none;\n",
              "      fill: #1967D2;\n",
              "      height: 32px;\n",
              "      padding: 0 0 0 0;\n",
              "      width: 32px;\n",
              "    }\n",
              "\n",
              "    .colab-df-convert:hover {\n",
              "      background-color: #E2EBFA;\n",
              "      box-shadow: 0px 1px 2px rgba(60, 64, 67, 0.3), 0px 1px 3px 1px rgba(60, 64, 67, 0.15);\n",
              "      fill: #174EA6;\n",
              "    }\n",
              "\n",
              "    [theme=dark] .colab-df-convert {\n",
              "      background-color: #3B4455;\n",
              "      fill: #D2E3FC;\n",
              "    }\n",
              "\n",
              "    [theme=dark] .colab-df-convert:hover {\n",
              "      background-color: #434B5C;\n",
              "      box-shadow: 0px 1px 3px 1px rgba(0, 0, 0, 0.15);\n",
              "      filter: drop-shadow(0px 1px 2px rgba(0, 0, 0, 0.3));\n",
              "      fill: #FFFFFF;\n",
              "    }\n",
              "  </style>\n",
              "\n",
              "      <script>\n",
              "        const buttonEl =\n",
              "          document.querySelector('#df-d26acb92-7a91-499f-afaf-88548935211f button.colab-df-convert');\n",
              "        buttonEl.style.display =\n",
              "          google.colab.kernel.accessAllowed ? 'block' : 'none';\n",
              "\n",
              "        async function convertToInteractive(key) {\n",
              "          const element = document.querySelector('#df-d26acb92-7a91-499f-afaf-88548935211f');\n",
              "          const dataTable =\n",
              "            await google.colab.kernel.invokeFunction('convertToInteractive',\n",
              "                                                     [key], {});\n",
              "          if (!dataTable) return;\n",
              "\n",
              "          const docLinkHtml = 'Like what you see? Visit the ' +\n",
              "            '<a target=\"_blank\" href=https://colab.research.google.com/notebooks/data_table.ipynb>data table notebook</a>'\n",
              "            + ' to learn more about interactive tables.';\n",
              "          element.innerHTML = '';\n",
              "          dataTable['output_type'] = 'display_data';\n",
              "          await google.colab.output.renderOutput(dataTable, element);\n",
              "          const docLink = document.createElement('div');\n",
              "          docLink.innerHTML = docLinkHtml;\n",
              "          element.appendChild(docLink);\n",
              "        }\n",
              "      </script>\n",
              "    </div>\n",
              "  </div>\n",
              "  "
            ]
          },
          "metadata": {},
          "execution_count": 32
        }
      ]
    },
    {
      "cell_type": "code",
      "source": [
        "ab_merge.plot.scatter(x= 'TV',y='Sales',title=\"TV&sales\")"
      ],
      "metadata": {
        "colab": {
          "base_uri": "https://localhost:8080/",
          "height": 313
        },
        "id": "oedn7Z3lYqcb",
        "outputId": "1c71c55d-2864-4fbf-948d-8596a7eadef7"
      },
      "execution_count": 46,
      "outputs": [
        {
          "output_type": "execute_result",
          "data": {
            "text/plain": [
              "<matplotlib.axes._subplots.AxesSubplot at 0x7f82990f6a60>"
            ]
          },
          "metadata": {},
          "execution_count": 46
        },
        {
          "output_type": "display_data",
          "data": {
            "text/plain": [
              "<Figure size 432x288 with 1 Axes>"
            ],
            "image/png": "[encoded data removed]"
          },
          "metadata": {
            "needs_background": "light"
          }
        }
      ]
    },
    {
      "cell_type": "code",
      "source": [
        "ab_merge.plot.scatter(x= 'Radio',y='Sales',title=\"Radio&sales\")"
      ],
      "metadata": {
        "colab": {
          "base_uri": "https://localhost:8080/",
          "height": 313
        },
        "id": "vTklSEvFZbF5",
        "outputId": "99a0a9ad-775c-43f0-99e3-5d871bc349c4"
      },
      "execution_count": 47,
      "outputs": [
        {
          "output_type": "execute_result",
          "data": {
            "text/plain": [
              "<matplotlib.axes._subplots.AxesSubplot at 0x7f82990d19a0>"
            ]
          },
          "metadata": {},
          "execution_count": 47
        },
        {
          "output_type": "display_data",
          "data": {
            "text/plain": [
              "<Figure size 432x288 with 1 Axes>"
            ],
            "image/png": "[encoded data removed]"
          },
          "metadata": {
            "needs_background": "light"
          }
        }
      ]
    },
    {
      "cell_type": "code",
      "source": [
        "ab_merge.plot.scatter(x= 'Social Media',y='Sales',title=\"Social Media&sales\")"
      ],
      "metadata": {
        "colab": {
          "base_uri": "https://localhost:8080/",
          "height": 313
        },
        "id": "WvY6uJYbZmLi",
        "outputId": "e3e50ffa-b5a5-4a2c-ec64-2b01eb35f005"
      },
      "execution_count": 35,
      "outputs": [
        {
          "output_type": "execute_result",
          "data": {
            "text/plain": [
              "<matplotlib.axes._subplots.AxesSubplot at 0x7f82a122a1f0>"
            ]
          },
          "metadata": {},
          "execution_count": 35
        },
        {
          "output_type": "display_data",
          "data": {
            "text/plain": [
              "<Figure size 432x288 with 1 Axes>"
            ],
            "image/png": "[encoded data removed]"
          },
          "metadata": {
            "needs_background": "light"
          }
        }
      ]
    },
    {
      "cell_type": "code",
      "source": [
        "ab_merge.plot.scatter(x= 'Influencer',y='Sales',title=\"Influencer&sales\")"
      ],
      "metadata": {
        "colab": {
          "base_uri": "https://localhost:8080/",
          "height": 313
        },
        "id": "VFdxj9ELZwQS",
        "outputId": "63b7f5ab-17e5-4809-b481-0a03d2c97e95"
      },
      "execution_count": 36,
      "outputs": [
        {
          "output_type": "execute_result",
          "data": {
            "text/plain": [
              "<matplotlib.axes._subplots.AxesSubplot at 0x7f82a0ecfdf0>"
            ]
          },
          "metadata": {},
          "execution_count": 36
        },
        {
          "output_type": "display_data",
          "data": {
            "text/plain": [
              "<Figure size 432x288 with 1 Axes>"
            ],
            "image/png": "[encoded data removed]"
          },
          "metadata": {
            "needs_background": "light"
          }
        }
      ]
    },
    {
      "cell_type": "markdown",
      "source": [
        "##머신러닝 모형"
      ],
      "metadata": {
        "id": "jFTF1syKiMix"
      }
    },
    {
      "cell_type": "markdown",
      "source": [
        "###선형회귀 모형"
      ],
      "metadata": {
        "id": "eU6euWPZqP7A"
      }
    },
    {
      "cell_type": "code",
      "source": [
        "import seaborn as sns\n",
        "\n",
        "#y에 대한 정규화(자연로그이용)\n",
        "sales2[\"Sales\"]=np.log1p(sales2[\"Sales\"])\n",
        "sns.distplot(sales2[\"Sales\"])"
      ],
      "metadata": {
        "colab": {
          "base_uri": "https://localhost:8080/",
          "height": 463
        },
        "id": "14ejzqfXpL6m",
        "outputId": "c601ad7d-998b-4af0-f3c6-52601b9d8db0"
      },
      "execution_count": 48,
      "outputs": [
        {
          "output_type": "stream",
          "name": "stderr",
          "text": [
            "<ipython-input-48-50e6437b4b4b>:4: SettingWithCopyWarning: \n",
            "A value is trying to be set on a copy of a slice from a DataFrame.\n",
            "Try using .loc[row_indexer,col_indexer] = value instead\n",
            "\n",
            "See the caveats in the documentation: https://pandas.pydata.org/pandas-docs/stable/user_guide/indexing.html#returning-a-view-versus-a-copy\n",
            "  sales2[\"Sales\"]=np.log1p(sales2[\"Sales\"])\n",
            "/usr/local/lib/python3.8/dist-packages/seaborn/distributions.py:2619: FutureWarning: `distplot` is a deprecated function and will be removed in a future version. Please adapt your code to use either `displot` (a figure-level function with similar flexibility) or `histplot` (an axes-level function for histograms).\n",
            "  warnings.warn(msg, FutureWarning)\n"
          ]
        },
        {
          "output_type": "execute_result",
          "data": {
            "text/plain": [
              "<matplotlib.axes._subplots.AxesSubplot at 0x7f8298e4bc70>"
            ]
          },
          "metadata": {},
          "execution_count": 48
        },
        {
          "output_type": "display_data",
          "data": {
            "text/plain": [
              "<Figure size 432x288 with 1 Axes>"
            ],
            "image/png": "[encoded data removed]"
          },
          "metadata": {
            "needs_background": "light"
          }
        }
      ]
    },
    {
      "cell_type": "code",
      "source": [
        "from sklearn.model_selection import train_test_split\n",
        "from sklearn.compose import ColumnTransformer\n",
        "from sklearn.preprocessing import StandardScaler\n",
        "\n",
        "var=['TV', 'Radio','Social Media']\n",
        "\n",
        "X=sales2[var]\n",
        "Y=sales2[\"Sales\"]\n",
        "\n",
        "X_train,X_test,Y_train,Y_test=train_test_split(X,Y,test_size=0.3,random_state=0)\n",
        "\n",
        "#표준화\n",
        "ct=ColumnTransformer([(\"scling\",StandardScaler(),var)])\n",
        "ct.fit(X_train)\n",
        "X_train=ct.transform(X_train)\n",
        "X_test=ct.transform(X_test)\n",
        "\n",
        "print(X_train[0])"
      ],
      "metadata": {
        "colab": {
          "base_uri": "https://localhost:8080/"
        },
        "id": "X35d12nHqW7n",
        "outputId": "43b78c62-80e8-4353-be72-bb2c3327b171"
      },
      "execution_count": 53,
      "outputs": [
        {
          "output_type": "stream",
          "name": "stdout",
          "text": [
            "[-1.37169917 -0.92663707 -0.44606177]\n"
          ]
        }
      ]
    },
    {
      "cell_type": "code",
      "source": [
        "from sklearn.linear_model import LinearRegression #선형모델\n",
        "from sklearn.metrics import mean_squared_error #MSE\n",
        "from math import sqrt #루트\n",
        "\n",
        "lr=LinearRegression().fit(X_train,Y_train)\n",
        "\n",
        "Y_pred=lr.predict(X_test)\n",
        "print(\"predict value\\n\", Y_pred)\n",
        "print(\"train R2:{:.3f}\".format(lr.score(X_train,Y_train))) #train set_R2\n",
        "print(\"test R2:{:.3f}\".format(lr.score(X_test,Y_test)))\n",
        "\n",
        "rmse=sqrt(mean_squared_error(Y_test,Y_pred)) #RMSE\n",
        "print(\"RMSE : {:.3f}\".format(rmse)) #오차의 합 → 0에 가까울수록 좋다"
      ],
      "metadata": {
        "colab": {
          "base_uri": "https://localhost:8080/"
        },
        "id": "UXOqTN_tq5zq",
        "outputId": "7fa48089-4425-4346-cf41-02bd65889b5f"
      },
      "execution_count": 54,
      "outputs": [
        {
          "output_type": "stream",
          "name": "stdout",
          "text": [
            "predict value\n",
            " [5.63973982 5.38902434 4.96939855 ... 4.27391425 5.48501484 5.90296749]\n",
            "train R2:0.925\n",
            "test R2:0.926\n",
            "RMSE : 0.160\n"
          ]
        }
      ]
    },
    {
      "cell_type": "markdown",
      "source": [
        "###KNN 모형"
      ],
      "metadata": {
        "id": "So5cETN9rRUv"
      }
    },
    {
      "cell_type": "code",
      "source": [
        "from sklearn.model_selection import train_test_split\n",
        "from sklearn.model_selection import cross_val_score\n",
        "from sklearn.neighbors import KNeighborsRegressor\n",
        "\n",
        "#필요한 열(변수,feature) 뽑아 데이터 만들기\n",
        "X=sales2[['TV', 'Radio','Social Media']]\n",
        "Y=sales2[\"Sales\"]\n",
        "\n",
        "#데이터 분할(train,test)\n",
        "X_train, X_test, Y_train, Y_test=train_test_split(X,Y,test_size=0.3,random_state=0)\n",
        "\n",
        "#model 만들기\n",
        "model=KNeighborsRegressor()\n",
        "\n",
        "#교차검증\n",
        "score=cross_val_score(model,X_train,Y_train,cv=10)\n",
        "print(\"CV SCORE : \",score)"
      ],
      "metadata": {
        "colab": {
          "base_uri": "https://localhost:8080/"
        },
        "id": "FcRIeMzsiQP-",
        "outputId": "593158e7-c4db-4622-d36c-6037df1a527e"
      },
      "execution_count": 55,
      "outputs": [
        {
          "output_type": "stream",
          "name": "stdout",
          "text": [
            "CV SCORE :  [0.99736894 0.99693699 0.99773497 0.99688331 0.99651814 0.99800892\n",
            " 0.99779173 0.99767591 0.99708189 0.99748522]\n"
          ]
        }
      ]
    },
    {
      "cell_type": "code",
      "source": [
        "from sklearn.neighbors import KNeighborsRegressor\n",
        "knn_reg=KNeighborsRegressor(n_neighbors=9,p=2)\n",
        "\n",
        "knn_reg.fit(X_train,Y_train)\n",
        "Y_pred=knn_reg.predict(X_test)\n",
        "print(\"accuracy : {:.3f}\".format(knn_reg.score(X_train,Y_train))) #train accuracy(regression → 예측값에 대해선 발생하지 않음)\n",
        "rmse=sqrt(mean_squared_error(Y_test,Y_pred))\n",
        "print(\"RMSE : {:.3f}\".format(rmse))"
      ],
      "metadata": {
        "colab": {
          "base_uri": "https://localhost:8080/"
        },
        "id": "2d_Jmwovu9or",
        "outputId": "8136a4d7-d632-4d2d-a858-faa7ca7f1bb2"
      },
      "execution_count": 66,
      "outputs": [
        {
          "output_type": "stream",
          "name": "stdout",
          "text": [
            "accuracy : 0.994\n",
            "RMSE : 0.056\n"
          ]
        }
      ]
    },
    {
      "cell_type": "code",
      "source": [
        "knn_reg2=KNeighborsRegressor(n_neighbors=20,p=2)\n",
        "\n",
        "knn_reg2.fit(X_train,Y_train)\n",
        "Y_pred=knn_reg2.predict(X_test)\n",
        "print(\"accuracy : {:.3f}\".format(knn_reg2.score(X_train,Y_train))) #train accuracy(regression → 예측값에 대해선 발생하지 않음)\n",
        "rmse=sqrt(mean_squared_error(Y_test,Y_pred))\n",
        "print(\"RMSE : {:.3f}\".format(rmse))"
      ],
      "metadata": {
        "colab": {
          "base_uri": "https://localhost:8080/"
        },
        "id": "lmRqdcMEwU-5",
        "outputId": "53bc442b-bfca-4116-b8f0-65eaae40b56e"
      },
      "execution_count": 85,
      "outputs": [
        {
          "output_type": "stream",
          "name": "stdout",
          "text": [
            "accuracy : 0.990\n",
            "RMSE : 0.059\n"
          ]
        }
      ]
    },
    {
      "cell_type": "code",
      "source": [
        "knn_reg3=KNeighborsRegressor(n_neighbors=5,p=2)\n",
        "\n",
        "knn_reg3.fit(X_train,Y_train)\n",
        "Y_pred=knn_reg3.predict(X_test)\n",
        "print(\"accuracy : {:.3f}\".format(knn_reg3.score(X_train,Y_train))) #train accuracy(regression → 예측값에 대해선 발생하지 않음)\n",
        "rmse=sqrt(mean_squared_error(Y_test,Y_pred))\n",
        "print(\"RMSE : {:.3f}\".format(rmse))"
      ],
      "metadata": {
        "colab": {
          "base_uri": "https://localhost:8080/"
        },
        "id": "EXq7wTjdxJbO",
        "outputId": "94b41e69-5bb4-4b4b-df04-618d46a15f16"
      },
      "execution_count": 84,
      "outputs": [
        {
          "output_type": "stream",
          "name": "stdout",
          "text": [
            "accuracy : 0.995\n",
            "RMSE : 0.052\n"
          ]
        }
      ]
    },
    {
      "cell_type": "markdown",
      "source": [
        "###인공신경망"
      ],
      "metadata": {
        "id": "w5YpLl-ssBWH"
      }
    },
    {
      "cell_type": "code",
      "source": [
        "#1.변수선택\n",
        "X=sales2[['TV', 'Radio','Social Media']]\n",
        "Y=sales2[\"Sales\"]\n",
        "\n",
        "#2.train-test split\n",
        "X_train,X_test,Y_train,Y_test=train_test_split(X,Y,test_size=0.3,random_state=0)\n",
        "\n",
        "#3.데이터 전처리(preprocessing)\n",
        "ct=ColumnTransformer([(\"scaling\",StandardScaler(),['TV', 'Radio','Social Media'])])\n",
        "ct.fit(X_train)\n",
        "X_train=ct.transform(X_train)\n",
        "X_test=ct.transform(X_test)"
      ],
      "metadata": {
        "id": "5_dv2C9ssAmK"
      },
      "execution_count": 57,
      "outputs": []
    },
    {
      "cell_type": "code",
      "source": [
        "#4.모델링\n",
        "from sklearn.neural_network import MLPRegressor\n",
        "\n",
        "#4-1.모델 생성\n",
        "nn_reg_model=MLPRegressor(random_state=0,alpha=1,max_iter=5000,hidden_layer_sizes=[50,50]) #하이퍼파라미터\n",
        "\n",
        "#5.모형학습 및 예측\n",
        "nn_reg_model.fit(X_train,Y_train)\n",
        "Y_pred=nn_reg_model.predict(X_test)\n",
        "\n",
        "#6.결과값 보고\n",
        "print(\"Y predict value : \\n\",Y_pred)\n",
        "print(\"train accuracy : {:.3f}\".format(nn_reg_model.score(X_train,Y_train)))\n",
        "from sklearn.metrics import mean_squared_error\n",
        "from math import sqrt\n",
        "rmse=sqrt(mean_squared_error(Y_test,Y_pred))\n",
        "print(\"RMSE : {:.3f}\".format(rmse))"
      ],
      "metadata": {
        "colab": {
          "base_uri": "https://localhost:8080/"
        },
        "id": "YenVXolbsEQ5",
        "outputId": "8231fe58-7d6d-4456-c3d9-76b676dc5d75"
      },
      "execution_count": 58,
      "outputs": [
        {
          "output_type": "stream",
          "name": "stdout",
          "text": [
            "Y predict value : \n",
            " [5.60887666 5.43606229 5.118422   ... 3.99995891 5.50876035 5.77603053]\n",
            "train accuracy : 0.993\n",
            "RMSE : 0.046\n"
          ]
        }
      ]
    },
    {
      "cell_type": "code",
      "source": [
        "#4.모델링\n",
        "from sklearn.neural_network import MLPRegressor\n",
        "\n",
        "#4-1.모델 생성\n",
        "nn_reg_model=MLPRegressor(random_state=0,alpha=1,max_iter=6000,hidden_layer_sizes=[70,70]) #하이퍼파라미터\n",
        "\n",
        "#5.모형학습 및 예측\n",
        "nn_reg_model.fit(X_train,Y_train)\n",
        "Y_pred=nn_reg_model.predict(X_test)\n",
        "\n",
        "#6.결과값 보고\n",
        "print(\"Y predict value : \\n\",Y_pred)\n",
        "print(\"train accuracy : {:.3f}\".format(nn_reg_model.score(X_train,Y_train)))\n",
        "from sklearn.metrics import mean_squared_error\n",
        "from math import sqrt\n",
        "rmse=sqrt(mean_squared_error(Y_test,Y_pred))\n",
        "print(\"RMSE : {:.3f}\".format(rmse))"
      ],
      "metadata": {
        "colab": {
          "base_uri": "https://localhost:8080/"
        },
        "id": "PNllq41JxaOs",
        "outputId": "a1ca965c-001b-4577-b6bd-be778af1c29e"
      },
      "execution_count": 87,
      "outputs": [
        {
          "output_type": "stream",
          "name": "stdout",
          "text": [
            "Y predict value : \n",
            " [5.62377753 5.44852984 5.11375965 ... 3.99407869 5.51632037 5.79416373]\n",
            "train accuracy : 0.993\n",
            "RMSE : 0.045\n"
          ]
        }
      ]
    },
    {
      "cell_type": "markdown",
      "source": [
        "###랜덤포레스트"
      ],
      "metadata": {
        "id": "u077sIehtv34"
      }
    },
    {
      "cell_type": "code",
      "source": [
        "#1.변수선택\n",
        "X=sales2[['TV', 'Radio','Social Media']]\n",
        "Y=sales2[\"Sales\"]\n",
        "\n",
        "#2.train-test split\n",
        "X_train,X_test,Y_train,Y_test=train_test_split(X,Y,test_size=0.3,random_state=0)\n",
        "\n",
        "#3.데이터 전처리(preprocessing)\n",
        "ct=ColumnTransformer([(\"scaling\",StandardScaler(),['TV', 'Radio','Social Media'])])\n",
        "ct.fit(X_train)\n",
        "X_train=ct.transform(X_train)\n",
        "X_test=ct.transform(X_test)"
      ],
      "metadata": {
        "id": "QnEa_oBoseBQ"
      },
      "execution_count": 59,
      "outputs": []
    },
    {
      "cell_type": "code",
      "source": [
        "#4.모형생성\n",
        "from sklearn.ensemble import RandomForestRegressor\n",
        "model=RandomForestRegressor(random_state=0,n_estimators=100,max_depth=4)\n",
        "\n",
        "#5.모형 예측 평가\n",
        "model.fit(X_train,Y_train)\n",
        "Y_pred=model.predict(X_test)\n",
        "print(\"Y predict value : \\n\",Y_pred)\n",
        "print(\"accuracy(R2) : {:.3f}\".format(model.score(X_train,Y_train)))\n",
        "rmse=mean_squared_error(Y_test,Y_pred)\n",
        "print(\"RMSE : \",rmse)"
      ],
      "metadata": {
        "colab": {
          "base_uri": "https://localhost:8080/"
        },
        "id": "WdFVLCwjt2Vf",
        "outputId": "142a2c7a-ae98-4a75-f257-ae43e8e50262"
      },
      "execution_count": 69,
      "outputs": [
        {
          "output_type": "stream",
          "name": "stdout",
          "text": [
            "Y predict value : \n",
            " [5.61399716 5.49647433 5.14653061 ... 4.01403909 5.50214978 5.73312348]\n",
            "accuracy(R2) : 0.996\n",
            "RMSE :  0.0014061275375548985\n"
          ]
        }
      ]
    }
  ]
}