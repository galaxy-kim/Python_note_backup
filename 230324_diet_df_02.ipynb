{
  "nbformat": 4,
  "nbformat_minor": 0,
  "metadata": {
    "colab": {
      "provenance": [],
      "mount_file_id": "1KHbcsVSvDcaFeinbtNzDRXS5kf7jK-FG",
      "authorship_tag": "ABX9TyPGcXMhM/l9oXVMRDDmN+Wg",
      "include_colab_link": true
    },
    "kernelspec": {
      "name": "python3",
      "display_name": "Python 3"
    },
    "language_info": {
      "name": "python"
    }
  },
  "cells": [
    {
      "cell_type": "markdown",
      "metadata": {
        "id": "view-in-github",
        "colab_type": "text"
      },
      "source": [
        "<a href=\"https://colab.research.google.com/github/galaxy-kim/Python_note_backup/blob/main/230324_diet_df_02.ipynb\" target=\"_parent\"><img src=\"https://colab.research.google.com/assets/colab-badge.svg\" alt=\"Open In Colab\"/></a>"
      ]
    },
    {
      "cell_type": "code",
      "execution_count": 3,
      "metadata": {
        "id": "_COEZUyr9tJ8"
      },
      "outputs": [],
      "source": [
        "import pandas as pd\n",
        "import numpy as np"
      ]
    },
    {
      "cell_type": "markdown",
      "source": [
        "## data"
      ],
      "metadata": {
        "id": "8p5nJ2RJbKal"
      }
    },
    {
      "cell_type": "code",
      "source": [
        "df=pd.read_excel(\"/content/drive/MyDrive/Colab Notebooks/ubion_given_data/online_diet_40s.xlsx\")\n",
        "df"
      ],
      "metadata": {
        "colab": {
          "base_uri": "https://localhost:8080/",
          "height": 500
        },
        "id": "qvPIKds6Qn2t",
        "outputId": "3c2674c9-2765-4759-99e5-f4c79ff080c0"
      },
      "execution_count": 7,
      "outputs": [
        {
          "output_type": "execute_result",
          "data": {
            "text/plain": [
              "      Unnamed: 0    id  occupation  sex  married  dise_yn  diet_purpose  pfid  \\\n",
              "0              0  3053           6    1        0        0             3   105   \n",
              "1              1  3053           6    1        0        0             3   105   \n",
              "2              2  3053           6    1        0        0             3   134   \n",
              "3              3  3053           6    1        0        0             3     9   \n",
              "4              4  3053           6    1        0        0             3     9   \n",
              "...          ...   ...         ...  ...      ...      ...           ...   ...   \n",
              "3045        3045  2144          15    2        0        1             1    39   \n",
              "3046        3046   184          15    2        0        1             5   108   \n",
              "3047        3047   627          15    2        0        1             1    21   \n",
              "3048        3048  1334          12    2        0        0             1    12   \n",
              "3049        3049   981          14    2        1        1             4   135   \n",
              "\n",
              "      p_category  p_month  bmi_g  height  weight  want_diet  weight_reduce  \\\n",
              "0              4        5      2   170.0    62.0       61.0            1.0   \n",
              "1              4        5      2   170.0    62.0       61.0            1.0   \n",
              "2              4        5      2   170.0    62.0       61.0            1.0   \n",
              "3              4        8      2   170.0    62.0       61.0            1.0   \n",
              "4              4        8      2   170.0    62.0       61.0            1.0   \n",
              "...          ...      ...    ...     ...     ...        ...            ...   \n",
              "3045           3        7      2   158.0    52.0       47.0            5.0   \n",
              "3046           4        7      3   164.0    65.0       48.0           17.0   \n",
              "3047           3        7      2   165.0    54.0       48.0            6.0   \n",
              "3048           3        7      2   165.0    59.0       55.0            4.0   \n",
              "3049           4        7      4   163.0    69.0       55.0           14.0   \n",
              "\n",
              "      waist  heap  p_price_000  p_price_000_idcount  idcount_code  \n",
              "0       0.0   0.0           27                   64             4  \n",
              "1       0.0   0.0           27                   64             4  \n",
              "2       0.0   0.0           15                   64             4  \n",
              "3       0.0   0.0            7                   64             4  \n",
              "4       0.0   0.0            7                   64             4  \n",
              "...     ...   ...          ...                  ...           ...  \n",
              "3045   27.0  36.0           12                    1             1  \n",
              "3046   28.0   0.0           12                    1             1  \n",
              "3047    0.0   0.0           19                    1             1  \n",
              "3048   29.0   0.0           39                    1             1  \n",
              "3049   31.0  32.0           27                    1             1  \n",
              "\n",
              "[3050 rows x 20 columns]"
            ],
            "text/html": [
              "\n",
              "  <div id=\"df-a169a91d-5e23-47a4-a764-32ac0f7968f3\">\n",
              "    <div class=\"colab-df-container\">\n",
              "      <div>\n",
              "<style scoped>\n",
              "    .dataframe tbody tr th:only-of-type {\n",
              "        vertical-align: middle;\n",
              "    }\n",
              "\n",
              "    .dataframe tbody tr th {\n",
              "        vertical-align: top;\n",
              "    }\n",
              "\n",
              "    .dataframe thead th {\n",
              "        text-align: right;\n",
              "    }\n",
              "</style>\n",
              "<table border=\"1\" class=\"dataframe\">\n",
              "  <thead>\n",
              "    <tr style=\"text-align: right;\">\n",
              "      <th></th>\n",
              "      <th>Unnamed: 0</th>\n",
              "      <th>id</th>\n",
              "      <th>occupation</th>\n",
              "      <th>sex</th>\n",
              "      <th>married</th>\n",
              "      <th>dise_yn</th>\n",
              "      <th>diet_purpose</th>\n",
              "      <th>pfid</th>\n",
              "      <th>p_category</th>\n",
              "      <th>p_month</th>\n",
              "      <th>bmi_g</th>\n",
              "      <th>height</th>\n",
              "      <th>weight</th>\n",
              "      <th>want_diet</th>\n",
              "      <th>weight_reduce</th>\n",
              "      <th>waist</th>\n",
              "      <th>heap</th>\n",
              "      <th>p_price_000</th>\n",
              "      <th>p_price_000_idcount</th>\n",
              "      <th>idcount_code</th>\n",
              "    </tr>\n",
              "  </thead>\n",
              "  <tbody>\n",
              "    <tr>\n",
              "      <th>0</th>\n",
              "      <td>0</td>\n",
              "      <td>3053</td>\n",
              "      <td>6</td>\n",
              "      <td>1</td>\n",
              "      <td>0</td>\n",
              "      <td>0</td>\n",
              "      <td>3</td>\n",
              "      <td>105</td>\n",
              "      <td>4</td>\n",
              "      <td>5</td>\n",
              "      <td>2</td>\n",
              "      <td>170.0</td>\n",
              "      <td>62.0</td>\n",
              "      <td>61.0</td>\n",
              "      <td>1.0</td>\n",
              "      <td>0.0</td>\n",
              "      <td>0.0</td>\n",
              "      <td>27</td>\n",
              "      <td>64</td>\n",
              "      <td>4</td>\n",
              "    </tr>\n",
              "    <tr>\n",
              "      <th>1</th>\n",
              "      <td>1</td>\n",
              "      <td>3053</td>\n",
              "      <td>6</td>\n",
              "      <td>1</td>\n",
              "      <td>0</td>\n",
              "      <td>0</td>\n",
              "      <td>3</td>\n",
              "      <td>105</td>\n",
              "      <td>4</td>\n",
              "      <td>5</td>\n",
              "      <td>2</td>\n",
              "      <td>170.0</td>\n",
              "      <td>62.0</td>\n",
              "      <td>61.0</td>\n",
              "      <td>1.0</td>\n",
              "      <td>0.0</td>\n",
              "      <td>0.0</td>\n",
              "      <td>27</td>\n",
              "      <td>64</td>\n",
              "      <td>4</td>\n",
              "    </tr>\n",
              "    <tr>\n",
              "      <th>2</th>\n",
              "      <td>2</td>\n",
              "      <td>3053</td>\n",
              "      <td>6</td>\n",
              "      <td>1</td>\n",
              "      <td>0</td>\n",
              "      <td>0</td>\n",
              "      <td>3</td>\n",
              "      <td>134</td>\n",
              "      <td>4</td>\n",
              "      <td>5</td>\n",
              "      <td>2</td>\n",
              "      <td>170.0</td>\n",
              "      <td>62.0</td>\n",
              "      <td>61.0</td>\n",
              "      <td>1.0</td>\n",
              "      <td>0.0</td>\n",
              "      <td>0.0</td>\n",
              "      <td>15</td>\n",
              "      <td>64</td>\n",
              "      <td>4</td>\n",
              "    </tr>\n",
              "    <tr>\n",
              "      <th>3</th>\n",
              "      <td>3</td>\n",
              "      <td>3053</td>\n",
              "      <td>6</td>\n",
              "      <td>1</td>\n",
              "      <td>0</td>\n",
              "      <td>0</td>\n",
              "      <td>3</td>\n",
              "      <td>9</td>\n",
              "      <td>4</td>\n",
              "      <td>8</td>\n",
              "      <td>2</td>\n",
              "      <td>170.0</td>\n",
              "      <td>62.0</td>\n",
              "      <td>61.0</td>\n",
              "      <td>1.0</td>\n",
              "      <td>0.0</td>\n",
              "      <td>0.0</td>\n",
              "      <td>7</td>\n",
              "      <td>64</td>\n",
              "      <td>4</td>\n",
              "    </tr>\n",
              "    <tr>\n",
              "      <th>4</th>\n",
              "      <td>4</td>\n",
              "      <td>3053</td>\n",
              "      <td>6</td>\n",
              "      <td>1</td>\n",
              "      <td>0</td>\n",
              "      <td>0</td>\n",
              "      <td>3</td>\n",
              "      <td>9</td>\n",
              "      <td>4</td>\n",
              "      <td>8</td>\n",
              "      <td>2</td>\n",
              "      <td>170.0</td>\n",
              "      <td>62.0</td>\n",
              "      <td>61.0</td>\n",
              "      <td>1.0</td>\n",
              "      <td>0.0</td>\n",
              "      <td>0.0</td>\n",
              "      <td>7</td>\n",
              "      <td>64</td>\n",
              "      <td>4</td>\n",
              "    </tr>\n",
              "    <tr>\n",
              "      <th>...</th>\n",
              "      <td>...</td>\n",
              "      <td>...</td>\n",
              "      <td>...</td>\n",
              "      <td>...</td>\n",
              "      <td>...</td>\n",
              "      <td>...</td>\n",
              "      <td>...</td>\n",
              "      <td>...</td>\n",
              "      <td>...</td>\n",
              "      <td>...</td>\n",
              "      <td>...</td>\n",
              "      <td>...</td>\n",
              "      <td>...</td>\n",
              "      <td>...</td>\n",
              "      <td>...</td>\n",
              "      <td>...</td>\n",
              "      <td>...</td>\n",
              "      <td>...</td>\n",
              "      <td>...</td>\n",
              "      <td>...</td>\n",
              "    </tr>\n",
              "    <tr>\n",
              "      <th>3045</th>\n",
              "      <td>3045</td>\n",
              "      <td>2144</td>\n",
              "      <td>15</td>\n",
              "      <td>2</td>\n",
              "      <td>0</td>\n",
              "      <td>1</td>\n",
              "      <td>1</td>\n",
              "      <td>39</td>\n",
              "      <td>3</td>\n",
              "      <td>7</td>\n",
              "      <td>2</td>\n",
              "      <td>158.0</td>\n",
              "      <td>52.0</td>\n",
              "      <td>47.0</td>\n",
              "      <td>5.0</td>\n",
              "      <td>27.0</td>\n",
              "      <td>36.0</td>\n",
              "      <td>12</td>\n",
              "      <td>1</td>\n",
              "      <td>1</td>\n",
              "    </tr>\n",
              "    <tr>\n",
              "      <th>3046</th>\n",
              "      <td>3046</td>\n",
              "      <td>184</td>\n",
              "      <td>15</td>\n",
              "      <td>2</td>\n",
              "      <td>0</td>\n",
              "      <td>1</td>\n",
              "      <td>5</td>\n",
              "      <td>108</td>\n",
              "      <td>4</td>\n",
              "      <td>7</td>\n",
              "      <td>3</td>\n",
              "      <td>164.0</td>\n",
              "      <td>65.0</td>\n",
              "      <td>48.0</td>\n",
              "      <td>17.0</td>\n",
              "      <td>28.0</td>\n",
              "      <td>0.0</td>\n",
              "      <td>12</td>\n",
              "      <td>1</td>\n",
              "      <td>1</td>\n",
              "    </tr>\n",
              "    <tr>\n",
              "      <th>3047</th>\n",
              "      <td>3047</td>\n",
              "      <td>627</td>\n",
              "      <td>15</td>\n",
              "      <td>2</td>\n",
              "      <td>0</td>\n",
              "      <td>1</td>\n",
              "      <td>1</td>\n",
              "      <td>21</td>\n",
              "      <td>3</td>\n",
              "      <td>7</td>\n",
              "      <td>2</td>\n",
              "      <td>165.0</td>\n",
              "      <td>54.0</td>\n",
              "      <td>48.0</td>\n",
              "      <td>6.0</td>\n",
              "      <td>0.0</td>\n",
              "      <td>0.0</td>\n",
              "      <td>19</td>\n",
              "      <td>1</td>\n",
              "      <td>1</td>\n",
              "    </tr>\n",
              "    <tr>\n",
              "      <th>3048</th>\n",
              "      <td>3048</td>\n",
              "      <td>1334</td>\n",
              "      <td>12</td>\n",
              "      <td>2</td>\n",
              "      <td>0</td>\n",
              "      <td>0</td>\n",
              "      <td>1</td>\n",
              "      <td>12</td>\n",
              "      <td>3</td>\n",
              "      <td>7</td>\n",
              "      <td>2</td>\n",
              "      <td>165.0</td>\n",
              "      <td>59.0</td>\n",
              "      <td>55.0</td>\n",
              "      <td>4.0</td>\n",
              "      <td>29.0</td>\n",
              "      <td>0.0</td>\n",
              "      <td>39</td>\n",
              "      <td>1</td>\n",
              "      <td>1</td>\n",
              "    </tr>\n",
              "    <tr>\n",
              "      <th>3049</th>\n",
              "      <td>3049</td>\n",
              "      <td>981</td>\n",
              "      <td>14</td>\n",
              "      <td>2</td>\n",
              "      <td>1</td>\n",
              "      <td>1</td>\n",
              "      <td>4</td>\n",
              "      <td>135</td>\n",
              "      <td>4</td>\n",
              "      <td>7</td>\n",
              "      <td>4</td>\n",
              "      <td>163.0</td>\n",
              "      <td>69.0</td>\n",
              "      <td>55.0</td>\n",
              "      <td>14.0</td>\n",
              "      <td>31.0</td>\n",
              "      <td>32.0</td>\n",
              "      <td>27</td>\n",
              "      <td>1</td>\n",
              "      <td>1</td>\n",
              "    </tr>\n",
              "  </tbody>\n",
              "</table>\n",
              "<p>3050 rows × 20 columns</p>\n",
              "</div>\n",
              "      <button class=\"colab-df-convert\" onclick=\"convertToInteractive('df-a169a91d-5e23-47a4-a764-32ac0f7968f3')\"\n",
              "              title=\"Convert this dataframe to an interactive table.\"\n",
              "              style=\"display:none;\">\n",
              "        \n",
              "  <svg xmlns=\"http://www.w3.org/2000/svg\" height=\"24px\"viewBox=\"0 0 24 24\"\n",
              "       width=\"24px\">\n",
              "    <path d=\"M0 0h24v24H0V0z\" fill=\"none\"/>\n",
              "    <path d=\"M18.56 5.44l.94 2.06.94-2.06 2.06-.94-2.06-.94-.94-2.06-.94 2.06-2.06.94zm-11 1L8.5 8.5l.94-2.06 2.06-.94-2.06-.94L8.5 2.5l-.94 2.06-2.06.94zm10 10l.94 2.06.94-2.06 2.06-.94-2.06-.94-.94-2.06-.94 2.06-2.06.94z\"/><path d=\"M17.41 7.96l-1.37-1.37c-.4-.4-.92-.59-1.43-.59-.52 0-1.04.2-1.43.59L10.3 9.45l-7.72 7.72c-.78.78-.78 2.05 0 2.83L4 21.41c.39.39.9.59 1.41.59.51 0 1.02-.2 1.41-.59l7.78-7.78 2.81-2.81c.8-.78.8-2.07 0-2.86zM5.41 20L4 18.59l7.72-7.72 1.47 1.35L5.41 20z\"/>\n",
              "  </svg>\n",
              "      </button>\n",
              "      \n",
              "  <style>\n",
              "    .colab-df-container {\n",
              "      display:flex;\n",
              "      flex-wrap:wrap;\n",
              "      gap: 12px;\n",
              "    }\n",
              "\n",
              "    .colab-df-convert {\n",
              "      background-color: #E8F0FE;\n",
              "      border: none;\n",
              "      border-radius: 50%;\n",
              "      cursor: pointer;\n",
              "      display: none;\n",
              "      fill: #1967D2;\n",
              "      height: 32px;\n",
              "      padding: 0 0 0 0;\n",
              "      width: 32px;\n",
              "    }\n",
              "\n",
              "    .colab-df-convert:hover {\n",
              "      background-color: #E2EBFA;\n",
              "      box-shadow: 0px 1px 2px rgba(60, 64, 67, 0.3), 0px 1px 3px 1px rgba(60, 64, 67, 0.15);\n",
              "      fill: #174EA6;\n",
              "    }\n",
              "\n",
              "    [theme=dark] .colab-df-convert {\n",
              "      background-color: #3B4455;\n",
              "      fill: #D2E3FC;\n",
              "    }\n",
              "\n",
              "    [theme=dark] .colab-df-convert:hover {\n",
              "      background-color: #434B5C;\n",
              "      box-shadow: 0px 1px 3px 1px rgba(0, 0, 0, 0.15);\n",
              "      filter: drop-shadow(0px 1px 2px rgba(0, 0, 0, 0.3));\n",
              "      fill: #FFFFFF;\n",
              "    }\n",
              "  </style>\n",
              "\n",
              "      <script>\n",
              "        const buttonEl =\n",
              "          document.querySelector('#df-a169a91d-5e23-47a4-a764-32ac0f7968f3 button.colab-df-convert');\n",
              "        buttonEl.style.display =\n",
              "          google.colab.kernel.accessAllowed ? 'block' : 'none';\n",
              "\n",
              "        async function convertToInteractive(key) {\n",
              "          const element = document.querySelector('#df-a169a91d-5e23-47a4-a764-32ac0f7968f3');\n",
              "          const dataTable =\n",
              "            await google.colab.kernel.invokeFunction('convertToInteractive',\n",
              "                                                     [key], {});\n",
              "          if (!dataTable) return;\n",
              "\n",
              "          const docLinkHtml = 'Like what you see? Visit the ' +\n",
              "            '<a target=\"_blank\" href=https://colab.research.google.com/notebooks/data_table.ipynb>data table notebook</a>'\n",
              "            + ' to learn more about interactive tables.';\n",
              "          element.innerHTML = '';\n",
              "          dataTable['output_type'] = 'display_data';\n",
              "          await google.colab.output.renderOutput(dataTable, element);\n",
              "          const docLink = document.createElement('div');\n",
              "          docLink.innerHTML = docLinkHtml;\n",
              "          element.appendChild(docLink);\n",
              "        }\n",
              "      </script>\n",
              "    </div>\n",
              "  </div>\n",
              "  "
            ]
          },
          "metadata": {},
          "execution_count": 7
        }
      ]
    },
    {
      "cell_type": "code",
      "source": [
        "df=df.drop(['Unnamed: 0'],axis=1)"
      ],
      "metadata": {
        "id": "z4i-maIwQ36_"
      },
      "execution_count": 8,
      "outputs": []
    },
    {
      "cell_type": "code",
      "source": [
        "cg=df[['id','occupation', 'sex', 'married', 'dise_yn', 'diet_purpose','pfid', 'p_category', 'p_month', 'bmi_g']]\n",
        "num=df[['height', 'weight', 'want_diet', 'weight_reduce', 'waist', 'heap', 'p_price_000','p_price_000_idcount']]"
      ],
      "metadata": {
        "id": "veAmZwU5Rc_c"
      },
      "execution_count": 9,
      "outputs": []
    },
    {
      "cell_type": "code",
      "source": [
        "ndf=cg.join(num)"
      ],
      "metadata": {
        "id": "VOqiXZjXShDf"
      },
      "execution_count": 10,
      "outputs": []
    },
    {
      "cell_type": "code",
      "source": [
        "# define the bins and labels for grouping\n",
        "bins = [0, 1, 4, 9, float('inf')]\n",
        "labels = ['1', '2', '3', '4']\n",
        "## 1 : 1회구매, 2 : 2~4회구매, 3 : 5~9회구매, 4 : 10회이상\n",
        "\n",
        "# create a new column with the groups based on 'Purchasing Frequency'\n",
        "ndf['idcount_code'] = pd.cut(ndf['p_price_000_idcount'], bins=bins, labels=labels)\n",
        "\n",
        "# print the resulting dataframe\n",
        "ndf"
      ],
      "metadata": {
        "colab": {
          "base_uri": "https://localhost:8080/",
          "height": 483
        },
        "id": "_koeluBzeIZk",
        "outputId": "f2e6539c-cbf7-47dd-84d1-9c7bbc05e427"
      },
      "execution_count": 16,
      "outputs": [
        {
          "output_type": "execute_result",
          "data": {
            "text/plain": [
              "        id  occupation  sex  married  dise_yn  diet_purpose  pfid  p_category  \\\n",
              "0     3053           6    1        0        0             3   105           4   \n",
              "1     3053           6    1        0        0             3   105           4   \n",
              "2     3053           6    1        0        0             3   134           4   \n",
              "3     3053           6    1        0        0             3     9           4   \n",
              "4     3053           6    1        0        0             3     9           4   \n",
              "...    ...         ...  ...      ...      ...           ...   ...         ...   \n",
              "3045  2144          15    2        0        1             1    39           3   \n",
              "3046   184          15    2        0        1             5   108           4   \n",
              "3047   627          15    2        0        1             1    21           3   \n",
              "3048  1334          12    2        0        0             1    12           3   \n",
              "3049   981          14    2        1        1             4   135           4   \n",
              "\n",
              "      p_month  bmi_g  height  weight  want_diet  weight_reduce  waist  heap  \\\n",
              "0           5      2   170.0    62.0       61.0            1.0    0.0   0.0   \n",
              "1           5      2   170.0    62.0       61.0            1.0    0.0   0.0   \n",
              "2           5      2   170.0    62.0       61.0            1.0    0.0   0.0   \n",
              "3           8      2   170.0    62.0       61.0            1.0    0.0   0.0   \n",
              "4           8      2   170.0    62.0       61.0            1.0    0.0   0.0   \n",
              "...       ...    ...     ...     ...        ...            ...    ...   ...   \n",
              "3045        7      2   158.0    52.0       47.0            5.0   27.0  36.0   \n",
              "3046        7      3   164.0    65.0       48.0           17.0   28.0   0.0   \n",
              "3047        7      2   165.0    54.0       48.0            6.0    0.0   0.0   \n",
              "3048        7      2   165.0    59.0       55.0            4.0   29.0   0.0   \n",
              "3049        7      4   163.0    69.0       55.0           14.0   31.0  32.0   \n",
              "\n",
              "      p_price_000  p_price_000_idcount idcount_code  \n",
              "0              27                   64            4  \n",
              "1              27                   64            4  \n",
              "2              15                   64            4  \n",
              "3               7                   64            4  \n",
              "4               7                   64            4  \n",
              "...           ...                  ...          ...  \n",
              "3045           12                    1            1  \n",
              "3046           12                    1            1  \n",
              "3047           19                    1            1  \n",
              "3048           39                    1            1  \n",
              "3049           27                    1            1  \n",
              "\n",
              "[3050 rows x 19 columns]"
            ],
            "text/html": [
              "\n",
              "  <div id=\"df-27c2c1c4-98d3-4a55-8fed-8a739461f78e\">\n",
              "    <div class=\"colab-df-container\">\n",
              "      <div>\n",
              "<style scoped>\n",
              "    .dataframe tbody tr th:only-of-type {\n",
              "        vertical-align: middle;\n",
              "    }\n",
              "\n",
              "    .dataframe tbody tr th {\n",
              "        vertical-align: top;\n",
              "    }\n",
              "\n",
              "    .dataframe thead th {\n",
              "        text-align: right;\n",
              "    }\n",
              "</style>\n",
              "<table border=\"1\" class=\"dataframe\">\n",
              "  <thead>\n",
              "    <tr style=\"text-align: right;\">\n",
              "      <th></th>\n",
              "      <th>id</th>\n",
              "      <th>occupation</th>\n",
              "      <th>sex</th>\n",
              "      <th>married</th>\n",
              "      <th>dise_yn</th>\n",
              "      <th>diet_purpose</th>\n",
              "      <th>pfid</th>\n",
              "      <th>p_category</th>\n",
              "      <th>p_month</th>\n",
              "      <th>bmi_g</th>\n",
              "      <th>height</th>\n",
              "      <th>weight</th>\n",
              "      <th>want_diet</th>\n",
              "      <th>weight_reduce</th>\n",
              "      <th>waist</th>\n",
              "      <th>heap</th>\n",
              "      <th>p_price_000</th>\n",
              "      <th>p_price_000_idcount</th>\n",
              "      <th>idcount_code</th>\n",
              "    </tr>\n",
              "  </thead>\n",
              "  <tbody>\n",
              "    <tr>\n",
              "      <th>0</th>\n",
              "      <td>3053</td>\n",
              "      <td>6</td>\n",
              "      <td>1</td>\n",
              "      <td>0</td>\n",
              "      <td>0</td>\n",
              "      <td>3</td>\n",
              "      <td>105</td>\n",
              "      <td>4</td>\n",
              "      <td>5</td>\n",
              "      <td>2</td>\n",
              "      <td>170.0</td>\n",
              "      <td>62.0</td>\n",
              "      <td>61.0</td>\n",
              "      <td>1.0</td>\n",
              "      <td>0.0</td>\n",
              "      <td>0.0</td>\n",
              "      <td>27</td>\n",
              "      <td>64</td>\n",
              "      <td>4</td>\n",
              "    </tr>\n",
              "    <tr>\n",
              "      <th>1</th>\n",
              "      <td>3053</td>\n",
              "      <td>6</td>\n",
              "      <td>1</td>\n",
              "      <td>0</td>\n",
              "      <td>0</td>\n",
              "      <td>3</td>\n",
              "      <td>105</td>\n",
              "      <td>4</td>\n",
              "      <td>5</td>\n",
              "      <td>2</td>\n",
              "      <td>170.0</td>\n",
              "      <td>62.0</td>\n",
              "      <td>61.0</td>\n",
              "      <td>1.0</td>\n",
              "      <td>0.0</td>\n",
              "      <td>0.0</td>\n",
              "      <td>27</td>\n",
              "      <td>64</td>\n",
              "      <td>4</td>\n",
              "    </tr>\n",
              "    <tr>\n",
              "      <th>2</th>\n",
              "      <td>3053</td>\n",
              "      <td>6</td>\n",
              "      <td>1</td>\n",
              "      <td>0</td>\n",
              "      <td>0</td>\n",
              "      <td>3</td>\n",
              "      <td>134</td>\n",
              "      <td>4</td>\n",
              "      <td>5</td>\n",
              "      <td>2</td>\n",
              "      <td>170.0</td>\n",
              "      <td>62.0</td>\n",
              "      <td>61.0</td>\n",
              "      <td>1.0</td>\n",
              "      <td>0.0</td>\n",
              "      <td>0.0</td>\n",
              "      <td>15</td>\n",
              "      <td>64</td>\n",
              "      <td>4</td>\n",
              "    </tr>\n",
              "    <tr>\n",
              "      <th>3</th>\n",
              "      <td>3053</td>\n",
              "      <td>6</td>\n",
              "      <td>1</td>\n",
              "      <td>0</td>\n",
              "      <td>0</td>\n",
              "      <td>3</td>\n",
              "      <td>9</td>\n",
              "      <td>4</td>\n",
              "      <td>8</td>\n",
              "      <td>2</td>\n",
              "      <td>170.0</td>\n",
              "      <td>62.0</td>\n",
              "      <td>61.0</td>\n",
              "      <td>1.0</td>\n",
              "      <td>0.0</td>\n",
              "      <td>0.0</td>\n",
              "      <td>7</td>\n",
              "      <td>64</td>\n",
              "      <td>4</td>\n",
              "    </tr>\n",
              "    <tr>\n",
              "      <th>4</th>\n",
              "      <td>3053</td>\n",
              "      <td>6</td>\n",
              "      <td>1</td>\n",
              "      <td>0</td>\n",
              "      <td>0</td>\n",
              "      <td>3</td>\n",
              "      <td>9</td>\n",
              "      <td>4</td>\n",
              "      <td>8</td>\n",
              "      <td>2</td>\n",
              "      <td>170.0</td>\n",
              "      <td>62.0</td>\n",
              "      <td>61.0</td>\n",
              "      <td>1.0</td>\n",
              "      <td>0.0</td>\n",
              "      <td>0.0</td>\n",
              "      <td>7</td>\n",
              "      <td>64</td>\n",
              "      <td>4</td>\n",
              "    </tr>\n",
              "    <tr>\n",
              "      <th>...</th>\n",
              "      <td>...</td>\n",
              "      <td>...</td>\n",
              "      <td>...</td>\n",
              "      <td>...</td>\n",
              "      <td>...</td>\n",
              "      <td>...</td>\n",
              "      <td>...</td>\n",
              "      <td>...</td>\n",
              "      <td>...</td>\n",
              "      <td>...</td>\n",
              "      <td>...</td>\n",
              "      <td>...</td>\n",
              "      <td>...</td>\n",
              "      <td>...</td>\n",
              "      <td>...</td>\n",
              "      <td>...</td>\n",
              "      <td>...</td>\n",
              "      <td>...</td>\n",
              "      <td>...</td>\n",
              "    </tr>\n",
              "    <tr>\n",
              "      <th>3045</th>\n",
              "      <td>2144</td>\n",
              "      <td>15</td>\n",
              "      <td>2</td>\n",
              "      <td>0</td>\n",
              "      <td>1</td>\n",
              "      <td>1</td>\n",
              "      <td>39</td>\n",
              "      <td>3</td>\n",
              "      <td>7</td>\n",
              "      <td>2</td>\n",
              "      <td>158.0</td>\n",
              "      <td>52.0</td>\n",
              "      <td>47.0</td>\n",
              "      <td>5.0</td>\n",
              "      <td>27.0</td>\n",
              "      <td>36.0</td>\n",
              "      <td>12</td>\n",
              "      <td>1</td>\n",
              "      <td>1</td>\n",
              "    </tr>\n",
              "    <tr>\n",
              "      <th>3046</th>\n",
              "      <td>184</td>\n",
              "      <td>15</td>\n",
              "      <td>2</td>\n",
              "      <td>0</td>\n",
              "      <td>1</td>\n",
              "      <td>5</td>\n",
              "      <td>108</td>\n",
              "      <td>4</td>\n",
              "      <td>7</td>\n",
              "      <td>3</td>\n",
              "      <td>164.0</td>\n",
              "      <td>65.0</td>\n",
              "      <td>48.0</td>\n",
              "      <td>17.0</td>\n",
              "      <td>28.0</td>\n",
              "      <td>0.0</td>\n",
              "      <td>12</td>\n",
              "      <td>1</td>\n",
              "      <td>1</td>\n",
              "    </tr>\n",
              "    <tr>\n",
              "      <th>3047</th>\n",
              "      <td>627</td>\n",
              "      <td>15</td>\n",
              "      <td>2</td>\n",
              "      <td>0</td>\n",
              "      <td>1</td>\n",
              "      <td>1</td>\n",
              "      <td>21</td>\n",
              "      <td>3</td>\n",
              "      <td>7</td>\n",
              "      <td>2</td>\n",
              "      <td>165.0</td>\n",
              "      <td>54.0</td>\n",
              "      <td>48.0</td>\n",
              "      <td>6.0</td>\n",
              "      <td>0.0</td>\n",
              "      <td>0.0</td>\n",
              "      <td>19</td>\n",
              "      <td>1</td>\n",
              "      <td>1</td>\n",
              "    </tr>\n",
              "    <tr>\n",
              "      <th>3048</th>\n",
              "      <td>1334</td>\n",
              "      <td>12</td>\n",
              "      <td>2</td>\n",
              "      <td>0</td>\n",
              "      <td>0</td>\n",
              "      <td>1</td>\n",
              "      <td>12</td>\n",
              "      <td>3</td>\n",
              "      <td>7</td>\n",
              "      <td>2</td>\n",
              "      <td>165.0</td>\n",
              "      <td>59.0</td>\n",
              "      <td>55.0</td>\n",
              "      <td>4.0</td>\n",
              "      <td>29.0</td>\n",
              "      <td>0.0</td>\n",
              "      <td>39</td>\n",
              "      <td>1</td>\n",
              "      <td>1</td>\n",
              "    </tr>\n",
              "    <tr>\n",
              "      <th>3049</th>\n",
              "      <td>981</td>\n",
              "      <td>14</td>\n",
              "      <td>2</td>\n",
              "      <td>1</td>\n",
              "      <td>1</td>\n",
              "      <td>4</td>\n",
              "      <td>135</td>\n",
              "      <td>4</td>\n",
              "      <td>7</td>\n",
              "      <td>4</td>\n",
              "      <td>163.0</td>\n",
              "      <td>69.0</td>\n",
              "      <td>55.0</td>\n",
              "      <td>14.0</td>\n",
              "      <td>31.0</td>\n",
              "      <td>32.0</td>\n",
              "      <td>27</td>\n",
              "      <td>1</td>\n",
              "      <td>1</td>\n",
              "    </tr>\n",
              "  </tbody>\n",
              "</table>\n",
              "<p>3050 rows × 19 columns</p>\n",
              "</div>\n",
              "      <button class=\"colab-df-convert\" onclick=\"convertToInteractive('df-27c2c1c4-98d3-4a55-8fed-8a739461f78e')\"\n",
              "              title=\"Convert this dataframe to an interactive table.\"\n",
              "              style=\"display:none;\">\n",
              "        \n",
              "  <svg xmlns=\"http://www.w3.org/2000/svg\" height=\"24px\"viewBox=\"0 0 24 24\"\n",
              "       width=\"24px\">\n",
              "    <path d=\"M0 0h24v24H0V0z\" fill=\"none\"/>\n",
              "    <path d=\"M18.56 5.44l.94 2.06.94-2.06 2.06-.94-2.06-.94-.94-2.06-.94 2.06-2.06.94zm-11 1L8.5 8.5l.94-2.06 2.06-.94-2.06-.94L8.5 2.5l-.94 2.06-2.06.94zm10 10l.94 2.06.94-2.06 2.06-.94-2.06-.94-.94-2.06-.94 2.06-2.06.94z\"/><path d=\"M17.41 7.96l-1.37-1.37c-.4-.4-.92-.59-1.43-.59-.52 0-1.04.2-1.43.59L10.3 9.45l-7.72 7.72c-.78.78-.78 2.05 0 2.83L4 21.41c.39.39.9.59 1.41.59.51 0 1.02-.2 1.41-.59l7.78-7.78 2.81-2.81c.8-.78.8-2.07 0-2.86zM5.41 20L4 18.59l7.72-7.72 1.47 1.35L5.41 20z\"/>\n",
              "  </svg>\n",
              "      </button>\n",
              "      \n",
              "  <style>\n",
              "    .colab-df-container {\n",
              "      display:flex;\n",
              "      flex-wrap:wrap;\n",
              "      gap: 12px;\n",
              "    }\n",
              "\n",
              "    .colab-df-convert {\n",
              "      background-color: #E8F0FE;\n",
              "      border: none;\n",
              "      border-radius: 50%;\n",
              "      cursor: pointer;\n",
              "      display: none;\n",
              "      fill: #1967D2;\n",
              "      height: 32px;\n",
              "      padding: 0 0 0 0;\n",
              "      width: 32px;\n",
              "    }\n",
              "\n",
              "    .colab-df-convert:hover {\n",
              "      background-color: #E2EBFA;\n",
              "      box-shadow: 0px 1px 2px rgba(60, 64, 67, 0.3), 0px 1px 3px 1px rgba(60, 64, 67, 0.15);\n",
              "      fill: #174EA6;\n",
              "    }\n",
              "\n",
              "    [theme=dark] .colab-df-convert {\n",
              "      background-color: #3B4455;\n",
              "      fill: #D2E3FC;\n",
              "    }\n",
              "\n",
              "    [theme=dark] .colab-df-convert:hover {\n",
              "      background-color: #434B5C;\n",
              "      box-shadow: 0px 1px 3px 1px rgba(0, 0, 0, 0.15);\n",
              "      filter: drop-shadow(0px 1px 2px rgba(0, 0, 0, 0.3));\n",
              "      fill: #FFFFFF;\n",
              "    }\n",
              "  </style>\n",
              "\n",
              "      <script>\n",
              "        const buttonEl =\n",
              "          document.querySelector('#df-27c2c1c4-98d3-4a55-8fed-8a739461f78e button.colab-df-convert');\n",
              "        buttonEl.style.display =\n",
              "          google.colab.kernel.accessAllowed ? 'block' : 'none';\n",
              "\n",
              "        async function convertToInteractive(key) {\n",
              "          const element = document.querySelector('#df-27c2c1c4-98d3-4a55-8fed-8a739461f78e');\n",
              "          const dataTable =\n",
              "            await google.colab.kernel.invokeFunction('convertToInteractive',\n",
              "                                                     [key], {});\n",
              "          if (!dataTable) return;\n",
              "\n",
              "          const docLinkHtml = 'Like what you see? Visit the ' +\n",
              "            '<a target=\"_blank\" href=https://colab.research.google.com/notebooks/data_table.ipynb>data table notebook</a>'\n",
              "            + ' to learn more about interactive tables.';\n",
              "          element.innerHTML = '';\n",
              "          dataTable['output_type'] = 'display_data';\n",
              "          await google.colab.output.renderOutput(dataTable, element);\n",
              "          const docLink = document.createElement('div');\n",
              "          docLink.innerHTML = docLinkHtml;\n",
              "          element.appendChild(docLink);\n",
              "        }\n",
              "      </script>\n",
              "    </div>\n",
              "  </div>\n",
              "  "
            ]
          },
          "metadata": {},
          "execution_count": 16
        }
      ]
    },
    {
      "cell_type": "markdown",
      "source": [
        "## logistic regression 모형"
      ],
      "metadata": {
        "id": "CeNDn3txGPIO"
      }
    },
    {
      "cell_type": "code",
      "source": [
        "ndf.columns"
      ],
      "metadata": {
        "colab": {
          "base_uri": "https://localhost:8080/"
        },
        "id": "1eIUFatRGDqj",
        "outputId": "0b59c891-7a86-49eb-ec03-3515b2fecc78"
      },
      "execution_count": null,
      "outputs": [
        {
          "output_type": "execute_result",
          "data": {
            "text/plain": [
              "Index(['id', 'occupation', 'sex', 'married', 'dise_yn', 'diet_purpose', 'pfid',\n",
              "       'p_category', 'p_month', 'bmi_g', 'height', 'weight', 'want_diet',\n",
              "       'weight_reduce', 'waist', 'heap', 'p_price_000', 'p_price_000_idcount',\n",
              "       'idcount_code'],\n",
              "      dtype='object')"
            ]
          },
          "metadata": {},
          "execution_count": 32
        }
      ]
    },
    {
      "cell_type": "code",
      "source": [
        "# Import necessary libraries\n",
        "from sklearn.linear_model import LogisticRegression\n",
        "from sklearn.model_selection import train_test_split\n"
      ],
      "metadata": {
        "id": "tGRjWSlXHZao"
      },
      "execution_count": 12,
      "outputs": []
    },
    {
      "cell_type": "code",
      "source": [
        "from sklearn.metrics import accuracy_score, confusion_matrix"
      ],
      "metadata": {
        "id": "xjfDbk_1etBC"
      },
      "execution_count": 19,
      "outputs": []
    },
    {
      "cell_type": "markdown",
      "source": [
        "### 챗gpt 모델"
      ],
      "metadata": {
        "id": "fT5W1mASMBEc"
      }
    },
    {
      "cell_type": "code",
      "source": [
        "\n",
        "# Load the data\n",
        "data = ndf\n",
        "\n",
        "# Prepare the data\n",
        "X = data[['occupation', 'sex', 'married', 'dise_yn', 'diet_purpose', 'p_month', 'bmi_g', 'height', 'weight', 'want_diet', 'p_price_000']]\n",
        "y = data['p_category']\n",
        "\n",
        "# Encode categorical variables\n",
        "X = pd.get_dummies(X)\n",
        "\n",
        "# Split the data into training and testing sets\n",
        "X_train, X_test, y_train, y_test = train_test_split(X, y, test_size=0.2, random_state=0)\n",
        "\n",
        "# Create and fit the logistic regression model\n",
        "logreg = LogisticRegression(max_iter=1000)\n",
        "logreg.fit(X_train, y_train)\n",
        "\n",
        "# Make predictions on the test set\n",
        "y_pred = logreg.predict(X_test)\n",
        "\n",
        "# Evaluate the model\n",
        "from sklearn.metrics import accuracy_score, confusion_matrix\n",
        "accuracy = accuracy_score(y_test, y_pred)\n",
        "confusion = confusion_matrix(y_test, y_pred)\n",
        "print('Accuracy:', accuracy)\n",
        "print('Confusion matrix:', confusion)"
      ],
      "metadata": {
        "colab": {
          "base_uri": "https://localhost:8080/"
        },
        "id": "xUD7gMsLHQK1",
        "outputId": "7af6da07-c8db-463c-e81d-16314dc08a6a"
      },
      "execution_count": null,
      "outputs": [
        {
          "output_type": "stream",
          "name": "stdout",
          "text": [
            "Accuracy: 0.5065573770491804\n",
            "Confusion matrix: [[  0  20  23   9]\n",
            " [ 11  29  37   2]\n",
            " [  5   1 222  34]\n",
            " [  4   1 154  58]]\n"
          ]
        },
        {
          "output_type": "stream",
          "name": "stderr",
          "text": [
            "/usr/local/lib/python3.9/dist-packages/sklearn/linear_model/_logistic.py:458: ConvergenceWarning: lbfgs failed to converge (status=1):\n",
            "STOP: TOTAL NO. of ITERATIONS REACHED LIMIT.\n",
            "\n",
            "Increase the number of iterations (max_iter) or scale the data as shown in:\n",
            "    https://scikit-learn.org/stable/modules/preprocessing.html\n",
            "Please also refer to the documentation for alternative solver options:\n",
            "    https://scikit-learn.org/stable/modules/linear_model.html#logistic-regression\n",
            "  n_iter_i = _check_optimize_result(\n"
          ]
        }
      ]
    },
    {
      "cell_type": "code",
      "source": [
        "# Get the coefficients and corresponding feature names\n",
        "coef = logreg.coef_[0]\n",
        "features = X.columns\n",
        "\n",
        "# Create a DataFrame of coefficients and features\n",
        "coef_df = pd.DataFrame({'feature': features, 'coefficient': coef})\n",
        "\n",
        "# Sort the coefficients by absolute value in descending order\n",
        "coef_df['abs_coef'] = abs(coef_df['coefficient'])\n",
        "sorted_coef = coef_df.sort_values('abs_coef', ascending=False)\n",
        "\n",
        "# Print the sorted coefficients\n",
        "print(sorted_coef)\n"
      ],
      "metadata": {
        "colab": {
          "base_uri": "https://localhost:8080/"
        },
        "id": "4kaF0SICIwed",
        "outputId": "a2744ef2-9535-4cd9-b00a-5aebed760217"
      },
      "execution_count": null,
      "outputs": [
        {
          "output_type": "stream",
          "name": "stdout",
          "text": [
            "         feature  coefficient  abs_coef\n",
            "5        p_month       0.6278    0.6278\n",
            "2        married       0.2925    0.2925\n",
            "1            sex      -0.1442    0.1442\n",
            "9      want_diet       0.1395    0.1395\n",
            "6          bmi_g      -0.1296    0.1296\n",
            "8         weight      -0.0748    0.0748\n",
            "0     occupation      -0.0574    0.0574\n",
            "7         height      -0.0497    0.0497\n",
            "3        dise_yn       0.0487    0.0487\n",
            "10   p_price_000       0.0248    0.0248\n",
            "4   diet_purpose      -0.0099    0.0099\n"
          ]
        }
      ]
    },
    {
      "cell_type": "markdown",
      "source": [
        "### 수업 코드 모델"
      ],
      "metadata": {
        "id": "ZOZfOyxPMGWt"
      }
    },
    {
      "cell_type": "code",
      "source": [
        "from sklearn.compose import ColumnTransformer \n",
        "from sklearn.preprocessing import StandardScaler\n",
        "from sklearn.preprocessing import OneHotEncoder "
      ],
      "metadata": {
        "id": "261t_2GAOpHC"
      },
      "execution_count": 13,
      "outputs": []
    },
    {
      "cell_type": "code",
      "source": [
        "from sklearn.metrics import classification_report"
      ],
      "metadata": {
        "id": "tigas09_PrGi"
      },
      "execution_count": 14,
      "outputs": []
    },
    {
      "cell_type": "code",
      "source": [
        "\n",
        "#다항 로지스틱 회귀분석\n",
        "#-> 종속변수가 0,1(ex.이탈여부)이 아니고 더 여러개 3,4,5,6 처럼 다항으로 클래스가 나누어져있음\n",
        "X = ndf[['occupation', 'sex', 'married', 'dise_yn', 'diet_purpose', 'p_month', 'bmi_g', 'height', 'weight', 'want_diet', 'p_price_000']]\n",
        "Y = ndf['p_category']\n",
        "\n",
        "#데이터 분할\n",
        "X_train, X_test, Y_train, Y_test = train_test_split(X, Y, test_size= 0.3, random_state= 0)\n",
        "\n",
        "#Column transformer\n",
        "#ct = ColumnTransformer([(\"scaling\", StandardScaler(), ['height', 'weight', 'want_diet', 'p_price_000']),\n",
        "                        #(\"onehot\", OneHotEncoder(sparse=False), ['occupation', 'sex', 'married', 'dise_yn', 'diet_purpose', 'p_month', 'bmi_g'])])\n",
        "#ct.fit(X_train)\n",
        "#X_train = ct.transform(X_train)\n",
        "#X_test = ct.transform(X_test)\n",
        "\n",
        "#샘플링 생략했음#\n",
        "\n",
        "#model\n",
        "#multinomial -> '다항' 로지스틱 회귀\n",
        "multilogit = LogisticRegression(random_state=0, C=0.1, solver='newton-cg', multi_class=\"multinomial\") \n",
        "#C의 값이 커지면 과적합/ 작아지면 모형 적합이 안됨\n",
        "#'C=0.1' -> 과적합을 방지하기 위해 설정(원래는 C=1이 기본값)\n",
        "##solver(어떤 가중치를 사용해서 해결할것인가): \"lbfgs\", \"liblinear\", \"sag\", \"saga\"\n",
        "multilogit.fit(X_train, Y_train)\n",
        "Y_pred = multilogit.predict(X_test)\n",
        "\n",
        "#성능\n",
        "print(\"r2 : {:.3f}\".format(multilogit.score(X_train, Y_train)))\n",
        "print(classification_report(Y_test, Y_pred))"
      ],
      "metadata": {
        "colab": {
          "base_uri": "https://localhost:8080/"
        },
        "id": "0ckgWwLtJ8mo",
        "outputId": "9ea4cae2-023b-4b6e-b80f-72c3498a6fa8"
      },
      "execution_count": null,
      "outputs": [
        {
          "output_type": "stream",
          "name": "stdout",
          "text": [
            "r2 : 0.544\n",
            "              precision    recall  f1-score   support\n",
            "\n",
            "           1       0.22      0.07      0.10        76\n",
            "           2       0.63      0.43      0.51       120\n",
            "           3       0.49      0.85      0.62       386\n",
            "           4       0.56      0.25      0.35       333\n",
            "\n",
            "    accuracy                           0.51       915\n",
            "   macro avg       0.48      0.40      0.40       915\n",
            "weighted avg       0.52      0.51      0.47       915\n",
            "\n"
          ]
        }
      ]
    },
    {
      "cell_type": "markdown",
      "source": [
        "### 변수 조정 모델링"
      ],
      "metadata": {
        "id": "Gm9vTOW6P-OO"
      }
    },
    {
      "cell_type": "markdown",
      "source": [
        "#### 'occupation', 'sex', 'married', 'dise_yn', 'diet_purpose', 'bmi_g', 'want_diet' :: 'p_category'"
      ],
      "metadata": {
        "id": "-25r5c69cTmx"
      }
    },
    {
      "cell_type": "code",
      "source": [
        "\n",
        "# Load the data\n",
        "data = ndf\n",
        "\n",
        "# Prepare the data\n",
        "X = data[['occupation', 'sex', 'married', 'dise_yn', 'diet_purpose', 'bmi_g', 'want_diet']]\n",
        "Y = data['p_category']\n",
        "\n",
        "# Encode categorical variables\n",
        "X = pd.get_dummies(X)\n",
        "\n",
        "# Split the data into training and testing sets\n",
        "X_train, X_test, Y_train, Y_test = train_test_split(X, Y, test_size=0.3, random_state=0)\n",
        "\n",
        "# Create and fit the logistic regression model\n",
        "lg1 = LogisticRegression(max_iter=1000, random_state=0, C=0.1, solver='newton-cg', multi_class=\"multinomial\")\n",
        "lg1.fit(X_train, Y_train)\n",
        "\n",
        "# Make predictions on the test set\n",
        "Y_pred = lg1.predict(X_test)\n",
        "\n",
        "# Evaluate the model\n",
        "accuracy = accuracy_score(Y_test, Y_pred)\n",
        "confusion = confusion_matrix(Y_test, Y_pred)\n",
        "print('Accuracy:', accuracy)\n",
        "print('Confusion matrix:', confusion)\n",
        "\n",
        "#성능\n",
        "print(\"r2 : {:.3f}\".format(lg1.score(X_train, Y_train)))\n",
        "print(classification_report(Y_test, Y_pred))"
      ],
      "metadata": {
        "colab": {
          "base_uri": "https://localhost:8080/"
        },
        "id": "uXXEZbAtOgDe",
        "outputId": "cd355874-a1bb-4174-9622-8e32705bb778"
      },
      "execution_count": null,
      "outputs": [
        {
          "output_type": "stream",
          "name": "stdout",
          "text": [
            "Accuracy: 0.43934426229508194\n",
            "Confusion matrix: [[  1   0  63  12]\n",
            " [  1   0 115   4]\n",
            " [  6   0 367  13]\n",
            " [  5   0 294  34]]\n",
            "r2 : 0.459\n",
            "              precision    recall  f1-score   support\n",
            "\n",
            "           1       0.08      0.01      0.02        76\n",
            "           2       0.00      0.00      0.00       120\n",
            "           3       0.44      0.95      0.60       386\n",
            "           4       0.54      0.10      0.17       333\n",
            "\n",
            "    accuracy                           0.44       915\n",
            "   macro avg       0.26      0.27      0.20       915\n",
            "weighted avg       0.39      0.44      0.32       915\n",
            "\n"
          ]
        },
        {
          "output_type": "stream",
          "name": "stderr",
          "text": [
            "/usr/local/lib/python3.9/dist-packages/sklearn/metrics/_classification.py:1344: UndefinedMetricWarning: Precision and F-score are ill-defined and being set to 0.0 in labels with no predicted samples. Use `zero_division` parameter to control this behavior.\n",
            "  _warn_prf(average, modifier, msg_start, len(result))\n",
            "/usr/local/lib/python3.9/dist-packages/sklearn/metrics/_classification.py:1344: UndefinedMetricWarning: Precision and F-score are ill-defined and being set to 0.0 in labels with no predicted samples. Use `zero_division` parameter to control this behavior.\n",
            "  _warn_prf(average, modifier, msg_start, len(result))\n",
            "/usr/local/lib/python3.9/dist-packages/sklearn/metrics/_classification.py:1344: UndefinedMetricWarning: Precision and F-score are ill-defined and being set to 0.0 in labels with no predicted samples. Use `zero_division` parameter to control this behavior.\n",
            "  _warn_prf(average, modifier, msg_start, len(result))\n"
          ]
        }
      ]
    },
    {
      "cell_type": "code",
      "source": [
        "# Extract the coefficients and feature names\n",
        "coefs = lg1.coef_\n",
        "feature_names = X.columns\n",
        "\n",
        "# Combine the coefficients and feature names into a dataframe for easy viewing\n",
        "coefs_df = pd.DataFrame({\n",
        "    'feature': feature_names,\n",
        "    'coefficient': coefs[0],\n",
        "    'abs_coef': np.abs(coefs[0])\n",
        "})\n",
        "\n",
        "# Sort the dataframe by absolute value of coefficients (largest to smallest)\n",
        "coefs_df = coefs_df.sort_values('abs_coef', ascending=False)\n",
        "\n",
        "# View the top features by absolute coefficient value\n",
        "print(coefs_df)"
      ],
      "metadata": {
        "colab": {
          "base_uri": "https://localhost:8080/"
        },
        "id": "j7F80kWuUbNV",
        "outputId": "f38e5f3c-3f08-496e-f2b0-c12110160be3"
      },
      "execution_count": null,
      "outputs": [
        {
          "output_type": "stream",
          "name": "stdout",
          "text": [
            "        feature  coefficient  abs_coef\n",
            "1           sex       0.3240    0.3240\n",
            "2       married       0.2516    0.2516\n",
            "5         bmi_g      -0.0860    0.0860\n",
            "0    occupation      -0.0627    0.0627\n",
            "6     want_diet       0.0607    0.0607\n",
            "3       dise_yn       0.0435    0.0435\n",
            "4  diet_purpose       0.0087    0.0087\n"
          ]
        }
      ]
    },
    {
      "cell_type": "markdown",
      "source": [
        "#### 'bmi_g', 'want_diet', 'waist', 'heap', 'weight_reduce', 'idcount_code' :: 'p_category'"
      ],
      "metadata": {
        "id": "sM1zSnSrccvs"
      }
    },
    {
      "cell_type": "code",
      "source": [
        "\n",
        "# Load the data\n",
        "data = ndf\n",
        "\n",
        "# Prepare the data\n",
        "X = data[['bmi_g', 'want_diet', 'waist', 'heap', 'weight_reduce', 'idcount_code']]\n",
        "Y = data['p_category']\n",
        "\n",
        "# Encode categorical variables\n",
        "X = pd.get_dummies(X)\n",
        "\n",
        "# Split the data into training and testing sets\n",
        "X_train, X_test, Y_train, Y_test = train_test_split(X, Y, test_size=0.3, random_state=0)\n",
        "\n",
        "# Create and fit the logistic regression model\n",
        "lg2 = LogisticRegression(max_iter=1000, random_state=0, C=0.1, solver='newton-cg', multi_class=\"multinomial\")\n",
        "lg2.fit(X_train, Y_train)\n",
        "\n",
        "# Make predictions on the test set\n",
        "Y_pred = lg2.predict(X_test)\n",
        "\n",
        "# Evaluate the model\n",
        "accuracy = accuracy_score(Y_test, Y_pred)\n",
        "confusion = confusion_matrix(Y_test, Y_pred)\n",
        "print('Accuracy:', accuracy)\n",
        "print('Confusion matrix:', confusion)\n",
        "\n",
        "#성능\n",
        "print(\"r2 : {:.3f}\".format(lg2.score(X_train, Y_train)))\n",
        "print(classification_report(Y_test, Y_pred))"
      ],
      "metadata": {
        "colab": {
          "base_uri": "https://localhost:8080/"
        },
        "id": "hI_bg_jLX3Mq",
        "outputId": "8626c45d-a420-4156-9e43-ce61308ac28b"
      },
      "execution_count": null,
      "outputs": [
        {
          "output_type": "stream",
          "name": "stdout",
          "text": [
            "Accuracy: 0.4273224043715847\n",
            "Confusion matrix: [[  0   0  62  14]\n",
            " [  1   0 114   5]\n",
            " [  4   0 357  25]\n",
            " [  4   0 295  34]]\n",
            "r2 : 0.455\n",
            "              precision    recall  f1-score   support\n",
            "\n",
            "           1       0.00      0.00      0.00        76\n",
            "           2       0.00      0.00      0.00       120\n",
            "           3       0.43      0.92      0.59       386\n",
            "           4       0.44      0.10      0.17       333\n",
            "\n",
            "    accuracy                           0.43       915\n",
            "   macro avg       0.22      0.26      0.19       915\n",
            "weighted avg       0.34      0.43      0.31       915\n",
            "\n"
          ]
        },
        {
          "output_type": "stream",
          "name": "stderr",
          "text": [
            "/usr/local/lib/python3.9/dist-packages/sklearn/metrics/_classification.py:1344: UndefinedMetricWarning: Precision and F-score are ill-defined and being set to 0.0 in labels with no predicted samples. Use `zero_division` parameter to control this behavior.\n",
            "  _warn_prf(average, modifier, msg_start, len(result))\n",
            "/usr/local/lib/python3.9/dist-packages/sklearn/metrics/_classification.py:1344: UndefinedMetricWarning: Precision and F-score are ill-defined and being set to 0.0 in labels with no predicted samples. Use `zero_division` parameter to control this behavior.\n",
            "  _warn_prf(average, modifier, msg_start, len(result))\n",
            "/usr/local/lib/python3.9/dist-packages/sklearn/metrics/_classification.py:1344: UndefinedMetricWarning: Precision and F-score are ill-defined and being set to 0.0 in labels with no predicted samples. Use `zero_division` parameter to control this behavior.\n",
            "  _warn_prf(average, modifier, msg_start, len(result))\n"
          ]
        }
      ]
    },
    {
      "cell_type": "code",
      "source": [
        "# Extract the coefficients and feature names\n",
        "coefs = lg2.coef_\n",
        "feature_names = X.columns\n",
        "\n",
        "# Combine the coefficients and feature names into a dataframe for easy viewing\n",
        "coefs_df = pd.DataFrame({\n",
        "    'feature': feature_names,\n",
        "    'coefficient': coefs[0],\n",
        "    'abs_coef': np.abs(coefs[0])\n",
        "})\n",
        "\n",
        "# Sort the dataframe by absolute value of coefficients (largest to smallest)\n",
        "coefs_df = coefs_df.sort_values('abs_coef', ascending=False)\n",
        "\n",
        "# View the top features by absolute coefficient value\n",
        "print(coefs_df)"
      ],
      "metadata": {
        "colab": {
          "base_uri": "https://localhost:8080/"
        },
        "id": "XLiE_EUXZD3G",
        "outputId": "45e46ebb-f5b6-4325-d5c0-42ec3dc23e22"
      },
      "execution_count": null,
      "outputs": [
        {
          "output_type": "stream",
          "name": "stdout",
          "text": [
            "          feature  coefficient  abs_coef\n",
            "6  idcount_code_2      -0.2824    0.2824\n",
            "0           bmi_g       0.2244    0.2244\n",
            "8  idcount_code_4       0.1487    0.1487\n",
            "7  idcount_code_3       0.0996    0.0996\n",
            "4   weight_reduce      -0.0674    0.0674\n",
            "5  idcount_code_1       0.0341    0.0341\n",
            "1       want_diet       0.0295    0.0295\n",
            "2           waist       0.0013    0.0013\n",
            "3            heap       0.0004    0.0004\n"
          ]
        }
      ]
    },
    {
      "cell_type": "markdown",
      "source": [
        "#### 'occupation', 'sex', 'married', 'dise_yn', 'diet_purpose', 'bmi_g', 'want_diet', 'p_category' :: 'idcount_code'"
      ],
      "metadata": {
        "id": "rQnL848CckNC"
      }
    },
    {
      "cell_type": "code",
      "source": [
        "\n",
        "# Load the data\n",
        "data = ndf\n",
        "\n",
        "# Prepare the data\n",
        "X = data[['occupation', 'sex', 'married', 'dise_yn', 'diet_purpose', 'bmi_g', 'want_diet', 'p_category']]\n",
        "Y = data['idcount_code']\n",
        "\n",
        "# Encode categorical variables\n",
        "X = pd.get_dummies(X)\n",
        "\n",
        "# Split the data into training and testing sets\n",
        "X_train, X_test, Y_train, Y_test = train_test_split(X, Y, test_size=0.3, random_state=0)\n",
        "\n",
        "# Create and fit the logistic regression model\n",
        "lg3 = LogisticRegression(max_iter=1000, random_state=0, C=0.1, solver='newton-cg', multi_class=\"multinomial\")\n",
        "lg3.fit(X_train, Y_train)\n",
        "\n",
        "# Make predictions on the test set\n",
        "Y_pred = lg3.predict(X_test)\n",
        "\n",
        "# Evaluate the model\n",
        "accuracy = accuracy_score(Y_test, Y_pred)\n",
        "confusion = confusion_matrix(Y_test, Y_pred)\n",
        "print('Accuracy:', accuracy)\n",
        "print('Confusion matrix:', confusion)\n",
        "\n",
        "#성능\n",
        "print(\"r2 : {:.3f}\".format(lg3.score(X_train, Y_train)))\n",
        "print(classification_report(Y_test, Y_pred))"
      ],
      "metadata": {
        "colab": {
          "base_uri": "https://localhost:8080/"
        },
        "id": "rpTvciNWZSTU",
        "outputId": "28ce12b3-5007-4346-fa0f-25089fb1b42b"
      },
      "execution_count": null,
      "outputs": [
        {
          "output_type": "stream",
          "name": "stdout",
          "text": [
            "Accuracy: 0.5606557377049181\n",
            "Confusion matrix: [[503   1   0   2]\n",
            " [357   2   0   2]\n",
            " [ 24   0   0   0]\n",
            " [ 16   0   0   8]]\n",
            "r2 : 0.612\n",
            "              precision    recall  f1-score   support\n",
            "\n",
            "           1       0.56      0.99      0.72       506\n",
            "           2       0.67      0.01      0.01       361\n",
            "           3       0.00      0.00      0.00        24\n",
            "           4       0.67      0.33      0.44        24\n",
            "\n",
            "    accuracy                           0.56       915\n",
            "   macro avg       0.47      0.33      0.29       915\n",
            "weighted avg       0.59      0.56      0.41       915\n",
            "\n"
          ]
        },
        {
          "output_type": "stream",
          "name": "stderr",
          "text": [
            "/usr/local/lib/python3.9/dist-packages/sklearn/metrics/_classification.py:1344: UndefinedMetricWarning: Precision and F-score are ill-defined and being set to 0.0 in labels with no predicted samples. Use `zero_division` parameter to control this behavior.\n",
            "  _warn_prf(average, modifier, msg_start, len(result))\n",
            "/usr/local/lib/python3.9/dist-packages/sklearn/metrics/_classification.py:1344: UndefinedMetricWarning: Precision and F-score are ill-defined and being set to 0.0 in labels with no predicted samples. Use `zero_division` parameter to control this behavior.\n",
            "  _warn_prf(average, modifier, msg_start, len(result))\n",
            "/usr/local/lib/python3.9/dist-packages/sklearn/metrics/_classification.py:1344: UndefinedMetricWarning: Precision and F-score are ill-defined and being set to 0.0 in labels with no predicted samples. Use `zero_division` parameter to control this behavior.\n",
            "  _warn_prf(average, modifier, msg_start, len(result))\n"
          ]
        }
      ]
    },
    {
      "cell_type": "code",
      "source": [
        "# Extract the coefficients and feature names\n",
        "coefs = lg3.coef_\n",
        "feature_names = X.columns\n",
        "\n",
        "# Combine the coefficients and feature names into a dataframe for easy viewing\n",
        "coefs_df = pd.DataFrame({\n",
        "    'feature': feature_names,\n",
        "    'coefficient': coefs[0],\n",
        "    'abs_coef': np.abs(coefs[0])\n",
        "})\n",
        "\n",
        "# Sort the dataframe by absolute value of coefficients (largest to smallest)\n",
        "coefs_df = coefs_df.sort_values('abs_coef', ascending=False)\n",
        "\n",
        "# View the top features by absolute coefficient value\n",
        "print(coefs_df)"
      ],
      "metadata": {
        "colab": {
          "base_uri": "https://localhost:8080/"
        },
        "id": "cZThQYqGZhr8",
        "outputId": "141d5ad2-1e26-4d52-9b0f-9686f49aef07"
      },
      "execution_count": null,
      "outputs": [
        {
          "output_type": "stream",
          "name": "stdout",
          "text": [
            "        feature  coefficient  abs_coef\n",
            "1           sex       0.6816    0.6816\n",
            "2       married      -0.1149    0.1149\n",
            "5         bmi_g       0.1041    0.1041\n",
            "7    p_category      -0.0576    0.0576\n",
            "4  diet_purpose      -0.0555    0.0555\n",
            "3       dise_yn      -0.0059    0.0059\n",
            "0    occupation      -0.0016    0.0016\n",
            "6     want_diet       0.0004    0.0004\n"
          ]
        }
      ]
    },
    {
      "cell_type": "markdown",
      "source": [
        "#### ::"
      ],
      "metadata": {
        "id": "4rCulz0YcqAq"
      }
    },
    {
      "cell_type": "code",
      "source": [
        "ndf.columns"
      ],
      "metadata": {
        "colab": {
          "base_uri": "https://localhost:8080/"
        },
        "id": "-do3d__nc-aM",
        "outputId": "d72af7f7-40d5-4c9f-d722-20ecc551a6d5"
      },
      "execution_count": 17,
      "outputs": [
        {
          "output_type": "execute_result",
          "data": {
            "text/plain": [
              "Index(['id', 'occupation', 'sex', 'married', 'dise_yn', 'diet_purpose', 'pfid',\n",
              "       'p_category', 'p_month', 'bmi_g', 'height', 'weight', 'want_diet',\n",
              "       'weight_reduce', 'waist', 'heap', 'p_price_000', 'p_price_000_idcount',\n",
              "       'idcount_code'],\n",
              "      dtype='object')"
            ]
          },
          "metadata": {},
          "execution_count": 17
        }
      ]
    },
    {
      "cell_type": "code",
      "source": [
        "\n",
        "# Load the data\n",
        "data = ndf\n",
        "\n",
        "# Prepare the data\n",
        "X = data[['occupation', 'sex', 'married', 'dise_yn', 'diet_purpose',\n",
        "       'bmi_g', 'height', 'weight', 'want_diet',\n",
        "       'weight_reduce', 'waist', 'heap', 'p_price_000', 'p_price_000_idcount',\n",
        "       'idcount_code']]\n",
        "Y = data['p_category']\n",
        "\n",
        "# Encode categorical variables\n",
        "X = pd.get_dummies(X)\n",
        "\n",
        "# Split the data into training and testing sets\n",
        "X_train, X_test, Y_train, Y_test = train_test_split(X, Y, test_size=0.3, random_state=0)\n",
        "\n",
        "# Create and fit the logistic regression model\n",
        "lg4 = LogisticRegression(max_iter=1000, random_state=0, C=0.1, solver='newton-cg', multi_class=\"multinomial\")\n",
        "lg4.fit(X_train, Y_train)\n",
        "\n",
        "# Make predictions on the test set\n",
        "Y_pred = lg4.predict(X_test)\n",
        "\n",
        "# Evaluate the model\n",
        "accuracy = accuracy_score(Y_test, Y_pred)\n",
        "confusion = confusion_matrix(Y_test, Y_pred)\n",
        "print('Accuracy:', accuracy)\n",
        "print('Confusion matrix:', confusion)\n",
        "\n",
        "#성능\n",
        "print(\"r2 : {:.3f}\".format(lg4.score(X_train, Y_train)))\n",
        "print(classification_report(Y_test, Y_pred))"
      ],
      "metadata": {
        "id": "O3RwWj9JZnjs",
        "colab": {
          "base_uri": "https://localhost:8080/"
        },
        "outputId": "bbef86a9-ac54-4b4f-88c8-b1bbae43e76a"
      },
      "execution_count": 24,
      "outputs": [
        {
          "output_type": "stream",
          "name": "stdout",
          "text": [
            "Accuracy: 0.5147540983606558\n",
            "Confusion matrix: [[  7  24  34  11]\n",
            " [  5  54  60   1]\n",
            " [  4   3 329  50]\n",
            " [  7   2 243  81]]\n",
            "r2 : 0.527\n",
            "              precision    recall  f1-score   support\n",
            "\n",
            "           1       0.30      0.09      0.14        76\n",
            "           2       0.65      0.45      0.53       120\n",
            "           3       0.49      0.85      0.63       386\n",
            "           4       0.57      0.24      0.34       333\n",
            "\n",
            "    accuracy                           0.51       915\n",
            "   macro avg       0.50      0.41      0.41       915\n",
            "weighted avg       0.53      0.51      0.47       915\n",
            "\n"
          ]
        }
      ]
    },
    {
      "cell_type": "code",
      "source": [
        "# Extract the coefficients and feature names\n",
        "coefs = lg4.coef_\n",
        "feature_names = X.columns\n",
        "\n",
        "# Combine the coefficients and feature names into a dataframe for easy viewing\n",
        "coefs_df = pd.DataFrame({\n",
        "    'feature': feature_names,\n",
        "    'coefficient': coefs[0],\n",
        "    'abs_coef': np.abs(coefs[0])\n",
        "})\n",
        "\n",
        "# Sort the dataframe by absolute value of coefficients (largest to smallest)\n",
        "coefs_df = coefs_df.sort_values('abs_coef', ascending=False)\n",
        "\n",
        "# View the top features by absolute coefficient value\n",
        "print(coefs_df)"
      ],
      "metadata": {
        "colab": {
          "base_uri": "https://localhost:8080/"
        },
        "id": "1e09GLjZc66w",
        "outputId": "0c2cf39f-d8b7-44f2-bd86-244f25dc1355"
      },
      "execution_count": 21,
      "outputs": [
        {
          "output_type": "stream",
          "name": "stdout",
          "text": [
            "                feature  coefficient  abs_coef\n",
            "1                   sex     0.359984  0.359984\n",
            "15       idcount_code_2    -0.272747  0.272747\n",
            "2               married     0.214573  0.214573\n",
            "14       idcount_code_1     0.205787  0.205787\n",
            "16       idcount_code_3     0.076449  0.076449\n",
            "5                 bmi_g     0.065540  0.065540\n",
            "9         weight_reduce    -0.065133  0.065133\n",
            "3               dise_yn     0.060993  0.060993\n",
            "8             want_diet     0.058432  0.058432\n",
            "0            occupation    -0.049825  0.049825\n",
            "4          diet_purpose     0.027939  0.027939\n",
            "12          p_price_000     0.021805  0.021805\n",
            "6                height    -0.011784  0.011784\n",
            "17       idcount_code_4    -0.009491  0.009491\n",
            "7                weight    -0.006701  0.006701\n",
            "13  p_price_000_idcount     0.005101  0.005101\n",
            "10                waist     0.002028  0.002028\n",
            "11                 heap     0.000640  0.000640\n"
          ]
        }
      ]
    },
    {
      "cell_type": "markdown",
      "source": [
        "## 모델별 비교"
      ],
      "metadata": {
        "id": "My4HXelcoqmE"
      }
    },
    {
      "cell_type": "markdown",
      "source": [
        "#### 로지스틱 회귀 5~7"
      ],
      "metadata": {
        "id": "1YdyC-tqlZA1"
      }
    },
    {
      "cell_type": "code",
      "source": [
        "\n",
        "# Load the data\n",
        "data = ndf\n",
        "\n",
        "# Prepare the data\n",
        "X = data[['occupation', 'sex', 'married','dise_yn', 'diet_purpose']]\n",
        "Y = data['p_category']\n",
        "\n",
        "# Encode categorical variables\n",
        "X = pd.get_dummies(X)\n",
        "\n",
        "# Split the data into training and testing sets\n",
        "X_train, X_test, Y_train, Y_test = train_test_split(X, Y, test_size=0.3, random_state=0)\n",
        "\n",
        "# Create and fit the logistic regression model\n",
        "lg5 = LogisticRegression(max_iter=1000, random_state=0, C=0.1, solver='newton-cg', multi_class=\"multinomial\")\n",
        "lg5.fit(X_train, Y_train)\n",
        "\n",
        "# Make predictions on the test set\n",
        "Y_pred = lg5.predict(X_test)\n",
        "\n",
        "# Evaluate the model\n",
        "accuracy = accuracy_score(Y_test, Y_pred)\n",
        "confusion = confusion_matrix(Y_test, Y_pred)\n",
        "print('Accuracy:', accuracy)\n",
        "print('Confusion matrix:', confusion)\n",
        "\n",
        "#성능\n",
        "print(\"r2 : {:.3f}\".format(lg5.score(X_train, Y_train)))\n",
        "print(classification_report(Y_test, Y_pred))\n",
        "\n",
        "\n",
        "# Extract the coefficients and feature names\n",
        "coefs = lg5.coef_\n",
        "feature_names = X.columns\n",
        "\n",
        "# Combine the coefficients and feature names into a dataframe for easy viewing\n",
        "coefs_df = pd.DataFrame({\n",
        "    'feature': feature_names,\n",
        "    'coefficient': coefs[0],\n",
        "    'abs_coef': np.abs(coefs[0])\n",
        "})\n",
        "\n",
        "# Sort the dataframe by absolute value of coefficients (largest to smallest)\n",
        "coefs_df = coefs_df.sort_values('abs_coef', ascending=False)\n",
        "\n",
        "# View the top features by absolute coefficient value\n",
        "print(coefs_df)"
      ],
      "metadata": {
        "colab": {
          "base_uri": "https://localhost:8080/"
        },
        "id": "pYGRcArXexvG",
        "outputId": "c0952b44-dd08-45f3-c732-676167244b54"
      },
      "execution_count": 25,
      "outputs": [
        {
          "output_type": "stream",
          "name": "stdout",
          "text": [
            "Accuracy: 0.43934426229508194\n",
            "Confusion matrix: [[  0   0  68   8]\n",
            " [  0   0 114   6]\n",
            " [  0   0 373  13]\n",
            " [  0   0 304  29]]\n",
            "r2 : 0.457\n",
            "              precision    recall  f1-score   support\n",
            "\n",
            "           1       0.00      0.00      0.00        76\n",
            "           2       0.00      0.00      0.00       120\n",
            "           3       0.43      0.97      0.60       386\n",
            "           4       0.52      0.09      0.15       333\n",
            "\n",
            "    accuracy                           0.44       915\n",
            "   macro avg       0.24      0.26      0.19       915\n",
            "weighted avg       0.37      0.44      0.31       915\n",
            "\n",
            "        feature  coefficient  abs_coef\n",
            "2       married     0.293709  0.293709\n",
            "0    occupation    -0.061112  0.061112\n",
            "3       dise_yn    -0.029000  0.029000\n",
            "1           sex    -0.028126  0.028126\n",
            "4  diet_purpose     0.017868  0.017868\n"
          ]
        },
        {
          "output_type": "stream",
          "name": "stderr",
          "text": [
            "/usr/local/lib/python3.9/dist-packages/sklearn/metrics/_classification.py:1344: UndefinedMetricWarning: Precision and F-score are ill-defined and being set to 0.0 in labels with no predicted samples. Use `zero_division` parameter to control this behavior.\n",
            "  _warn_prf(average, modifier, msg_start, len(result))\n",
            "/usr/local/lib/python3.9/dist-packages/sklearn/metrics/_classification.py:1344: UndefinedMetricWarning: Precision and F-score are ill-defined and being set to 0.0 in labels with no predicted samples. Use `zero_division` parameter to control this behavior.\n",
            "  _warn_prf(average, modifier, msg_start, len(result))\n",
            "/usr/local/lib/python3.9/dist-packages/sklearn/metrics/_classification.py:1344: UndefinedMetricWarning: Precision and F-score are ill-defined and being set to 0.0 in labels with no predicted samples. Use `zero_division` parameter to control this behavior.\n",
            "  _warn_prf(average, modifier, msg_start, len(result))\n"
          ]
        }
      ]
    },
    {
      "cell_type": "code",
      "source": [
        "\n",
        "# Load the data\n",
        "data = ndf\n",
        "\n",
        "# Prepare the data\n",
        "X = data[['bmi_g', 'height', 'weight', 'want_diet','weight_reduce', 'waist', 'heap']]\n",
        "Y = data['p_category']\n",
        "\n",
        "# Encode categorical variables\n",
        "X = pd.get_dummies(X)\n",
        "\n",
        "# Split the data into training and testing sets\n",
        "X_train, X_test, Y_train, Y_test = train_test_split(X, Y, test_size=0.3, random_state=0)\n",
        "\n",
        "# Create and fit the logistic regression model\n",
        "lg6 = LogisticRegression(max_iter=1000, random_state=0, C=0.1, solver='newton-cg', multi_class=\"multinomial\")\n",
        "lg6.fit(X_train, Y_train)\n",
        "\n",
        "# Make predictions on the test set\n",
        "Y_pred = lg6.predict(X_test)\n",
        "\n",
        "# Evaluate the model\n",
        "accuracy = accuracy_score(Y_test, Y_pred)\n",
        "confusion = confusion_matrix(Y_test, Y_pred)\n",
        "print('Accuracy:', accuracy)\n",
        "print('Confusion matrix:', confusion)\n",
        "\n",
        "#성능\n",
        "print(\"r2 : {:.3f}\".format(lg6.score(X_train, Y_train)))\n",
        "print(classification_report(Y_test, Y_pred))\n",
        "\n",
        "\n",
        "# Extract the coefficients and feature names\n",
        "coefs = lg6.coef_\n",
        "feature_names = X.columns\n",
        "\n",
        "# Combine the coefficients and feature names into a dataframe for easy viewing\n",
        "coefs_df = pd.DataFrame({\n",
        "    'feature': feature_names,\n",
        "    'coefficient': coefs[0],\n",
        "    'abs_coef': np.abs(coefs[0])\n",
        "})\n",
        "\n",
        "# Sort the dataframe by absolute value of coefficients (largest to smallest)\n",
        "coefs_df = coefs_df.sort_values('abs_coef', ascending=False)\n",
        "\n",
        "# View the top features by absolute coefficient value\n",
        "print(coefs_df)"
      ],
      "metadata": {
        "colab": {
          "base_uri": "https://localhost:8080/"
        },
        "id": "Wl3bHXe5ftVY",
        "outputId": "b00666a5-8e10-47cc-c84f-fcc2b444e0f4"
      },
      "execution_count": 26,
      "outputs": [
        {
          "output_type": "stream",
          "name": "stdout",
          "text": [
            "Accuracy: 0.43278688524590164\n",
            "Confusion matrix: [[  0   0  61  15]\n",
            " [  1   0 115   4]\n",
            " [  4   1 361  20]\n",
            " [  4   0 294  35]]\n",
            "r2 : 0.463\n",
            "              precision    recall  f1-score   support\n",
            "\n",
            "           1       0.00      0.00      0.00        76\n",
            "           2       0.00      0.00      0.00       120\n",
            "           3       0.43      0.94      0.59       386\n",
            "           4       0.47      0.11      0.17       333\n",
            "\n",
            "    accuracy                           0.43       915\n",
            "   macro avg       0.23      0.26      0.19       915\n",
            "weighted avg       0.36      0.43      0.31       915\n",
            "\n",
            "         feature  coefficient  abs_coef\n",
            "0          bmi_g     0.102049  0.102049\n",
            "4  weight_reduce    -0.052704  0.052704\n",
            "3      want_diet     0.048053  0.048053\n",
            "1         height    -0.014722  0.014722\n",
            "2         weight    -0.004650  0.004650\n",
            "6           heap     0.000471  0.000471\n",
            "5          waist     0.000073  0.000073\n"
          ]
        }
      ]
    },
    {
      "cell_type": "code",
      "source": [
        "\n",
        "# Load the data\n",
        "data = ndf\n",
        "\n",
        "# Prepare the data\n",
        "X = data[['p_price_000', 'p_price_000_idcount']]\n",
        "Y = data['p_category']\n",
        "\n",
        "# Encode categorical variables\n",
        "X = pd.get_dummies(X)\n",
        "\n",
        "# Split the data into training and testing sets\n",
        "X_train, X_test, Y_train, Y_test = train_test_split(X, Y, test_size=0.3, random_state=0)\n",
        "\n",
        "# Create and fit the logistic regression model\n",
        "lg7 = LogisticRegression(max_iter=1000, random_state=0, C=0.1, solver='newton-cg', multi_class=\"multinomial\")\n",
        "lg7.fit(X_train, Y_train)\n",
        "\n",
        "# Make predictions on the test set\n",
        "Y_pred = lg7.predict(X_test)\n",
        "\n",
        "# Evaluate the model\n",
        "accuracy = accuracy_score(Y_test, Y_pred)\n",
        "confusion = confusion_matrix(Y_test, Y_pred)\n",
        "print('Accuracy:', accuracy)\n",
        "print('Confusion matrix:', confusion)\n",
        "\n",
        "#성능\n",
        "print(\"r2 : {:.3f}\".format(lg7.score(X_train, Y_train)))\n",
        "print(classification_report(Y_test, Y_pred))\n",
        "\n",
        "\n",
        "# Extract the coefficients and feature names\n",
        "coefs = lg7.coef_\n",
        "feature_names = X.columns\n",
        "\n",
        "# Combine the coefficients and feature names into a dataframe for easy viewing\n",
        "coefs_df = pd.DataFrame({\n",
        "    'feature': feature_names,\n",
        "    'coefficient': coefs[0],\n",
        "    'abs_coef': np.abs(coefs[0])\n",
        "})\n",
        "\n",
        "# Sort the dataframe by absolute value of coefficients (largest to smallest)\n",
        "coefs_df = coefs_df.sort_values('abs_coef', ascending=False)\n",
        "\n",
        "# View the top features by absolute coefficient value\n",
        "print(coefs_df)"
      ],
      "metadata": {
        "colab": {
          "base_uri": "https://localhost:8080/"
        },
        "id": "_FI8BtIgmMjn",
        "outputId": "73e57c16-5e84-474a-8980-db3a549c17e3"
      },
      "execution_count": 28,
      "outputs": [
        {
          "output_type": "stream",
          "name": "stdout",
          "text": [
            "Accuracy: 0.4885245901639344\n",
            "Confusion matrix: [[  2  28  42   4]\n",
            " [  3  53  63   1]\n",
            " [  1   2 375   8]\n",
            " [  0   4 312  17]]\n",
            "r2 : 0.507\n",
            "              precision    recall  f1-score   support\n",
            "\n",
            "           1       0.33      0.03      0.05        76\n",
            "           2       0.61      0.44      0.51       120\n",
            "           3       0.47      0.97      0.64       386\n",
            "           4       0.57      0.05      0.09       333\n",
            "\n",
            "    accuracy                           0.49       915\n",
            "   macro avg       0.50      0.37      0.32       915\n",
            "weighted avg       0.51      0.49      0.37       915\n",
            "\n",
            "               feature  coefficient  abs_coef\n",
            "0          p_price_000     0.021450  0.021450\n",
            "1  p_price_000_idcount     0.008593  0.008593\n"
          ]
        }
      ]
    },
    {
      "cell_type": "markdown",
      "source": [
        "### KNN"
      ],
      "metadata": {
        "id": "0tT8_7zvnIZA"
      }
    },
    {
      "cell_type": "code",
      "source": [
        "from sklearn.neighbors import KNeighborsClassifier\n"
      ],
      "metadata": {
        "id": "Rg44DbwdnYlX"
      },
      "execution_count": 29,
      "outputs": []
    },
    {
      "cell_type": "code",
      "source": [
        "from imblearn.over_sampling import SMOTE"
      ],
      "metadata": {
        "id": "BUC4Cve2n9EY"
      },
      "execution_count": 30,
      "outputs": []
    },
    {
      "cell_type": "code",
      "source": [
        "#KNeighborsClassifier\n",
        "#y값 = classification(분류)형\n",
        "\n",
        "X = data[['occupation', 'sex', 'married','dise_yn', 'diet_purpose']]\n",
        "Y = data['p_category']\n",
        "\n",
        "#데이터 분할\n",
        "X_train, X_test, Y_train, Y_test = train_test_split(X, Y, test_size= 0.3, random_state= 0)\n",
        "\n",
        "#sclaer\n",
        "scaler = StandardScaler().fit(X_train, Y_train)\n",
        "X_test = scaler.transform(X_test)\n",
        "X_train = scaler.transform(X_train)\n",
        "\n",
        "#이탈여부 오버샘플링\n",
        "X_train, Y_train = SMOTE(random_state = 0).fit_resample(X_train, Y_train)\n",
        "\n",
        "#knn_model 생성\n",
        "knn_model = KNeighborsClassifier(n_neighbors=9, metric=\"euclidean\") \n",
        "#'classifier': 분류모델/ 'n_neighbors = 9' -> 근처에 있는 9개(임의의 수)의 neighbor를 찾는다\n",
        "#'euclidean'거리 사용; 새로운 데이터와 가장 가까이 있는 값 사이의 거리\n",
        "\n",
        "knn_model.fit(X_train, Y_train)\n",
        "Y_pred = knn_model.predict(X_test)\n",
        "print(\"accuracy : {:.3f}\".format(knn_model.score(X_train, Y_train)))\n",
        "print(classification_report(Y_pred, Y_test))\n",
        "\n",
        "#결과값 -> accuracy와 f1-score값을 보면 됨\n",
        "#위에 나온 accuracy -> train한 값의 정확도\n",
        "#표안의 accuracy -> 예측값의 정확도\n",
        "#범주별 f1-score 각각을 더해서 평균을 낸것이 f1-score"
      ],
      "metadata": {
        "colab": {
          "base_uri": "https://localhost:8080/"
        },
        "id": "GXAwShv2mbG4",
        "outputId": "8338d6cc-bcfc-465c-be50-e2a465363805"
      },
      "execution_count": 31,
      "outputs": [
        {
          "output_type": "stream",
          "name": "stdout",
          "text": [
            "accuracy : 0.383\n",
            "              precision    recall  f1-score   support\n",
            "\n",
            "           1       0.07      0.10      0.08        49\n",
            "           2       0.08      0.13      0.10        76\n",
            "           3       0.66      0.42      0.51       602\n",
            "           4       0.20      0.35      0.25       188\n",
            "\n",
            "    accuracy                           0.37       915\n",
            "   macro avg       0.25      0.25      0.24       915\n",
            "weighted avg       0.48      0.37      0.40       915\n",
            "\n"
          ]
        }
      ]
    },
    {
      "cell_type": "code",
      "source": [
        "#KNeighborsClassifier\n",
        "#y값 = classification(분류)형\n",
        "\n",
        "X = data[['bmi_g', 'height', 'weight', 'want_diet','weight_reduce', 'waist', 'heap']]\n",
        "Y = data['p_category']\n",
        "\n",
        "#데이터 분할\n",
        "X_train, X_test, Y_train, Y_test = train_test_split(X, Y, test_size= 0.3, random_state= 0)\n",
        "\n",
        "#sclaer\n",
        "scaler = StandardScaler().fit(X_train, Y_train)\n",
        "X_test = scaler.transform(X_test)\n",
        "X_train = scaler.transform(X_train)\n",
        "\n",
        "#이탈여부 오버샘플링\n",
        "X_train, Y_train = SMOTE(random_state = 0).fit_resample(X_train, Y_train)\n",
        "\n",
        "#knn_model 생성\n",
        "knn_model = KNeighborsClassifier(n_neighbors=9, metric=\"euclidean\") \n",
        "#'classifier': 분류모델/ 'n_neighbors = 9' -> 근처에 있는 9개(임의의 수)의 neighbor를 찾는다\n",
        "#'euclidean'거리 사용; 새로운 데이터와 가장 가까이 있는 값 사이의 거리\n",
        "\n",
        "knn_model.fit(X_train, Y_train)\n",
        "Y_pred = knn_model.predict(X_test)\n",
        "print(\"accuracy : {:.3f}\".format(knn_model.score(X_train, Y_train)))\n",
        "print(classification_report(Y_pred, Y_test))\n",
        "\n",
        "#결과값 -> accuracy와 f1-score값을 보면 됨\n",
        "#위에 나온 accuracy -> train한 값의 정확도\n",
        "#표안의 accuracy -> 예측값의 정확도\n",
        "#범주별 f1-score 각각을 더해서 평균을 낸것이 f1-score"
      ],
      "metadata": {
        "colab": {
          "base_uri": "https://localhost:8080/"
        },
        "id": "WnA23wFOoC86",
        "outputId": "08374333-9216-4955-aa34-46c9e56a277a"
      },
      "execution_count": 32,
      "outputs": [
        {
          "output_type": "stream",
          "name": "stdout",
          "text": [
            "accuracy : 0.649\n",
            "              precision    recall  f1-score   support\n",
            "\n",
            "           1       0.53      0.19      0.28       212\n",
            "           2       0.40      0.20      0.26       243\n",
            "           3       0.33      0.53      0.41       240\n",
            "           4       0.29      0.45      0.35       220\n",
            "\n",
            "    accuracy                           0.34       915\n",
            "   macro avg       0.39      0.34      0.33       915\n",
            "weighted avg       0.39      0.34      0.33       915\n",
            "\n"
          ]
        }
      ]
    },
    {
      "cell_type": "markdown",
      "source": [
        "### 의사결정나무"
      ],
      "metadata": {
        "id": "cnZt2n9So3hU"
      }
    },
    {
      "cell_type": "code",
      "source": [
        "from sklearn.tree import DecisionTreeClassifier"
      ],
      "metadata": {
        "id": "_gF2cxPhpmil"
      },
      "execution_count": 33,
      "outputs": []
    },
    {
      "cell_type": "code",
      "source": [
        "X = data[['occupation', 'sex', 'married','dise_yn', 'diet_purpose']]\n",
        "Y = data['p_category']\n",
        "\n",
        "X_train,X_test,Y_train,Y_test=train_test_split(X,Y,test_size=0.3,random_state=0)\n",
        "\n",
        "smote=SMOTE(random_state=0)\n",
        "X_train,Y_train=smote.fit_resample(X_train,Y_train)\n",
        "\n",
        "\n",
        "DT_model=DecisionTreeClassifier(random_state=0,max_depth=3) #깊이=층\n",
        "DT_model.fit(X_train,Y_train)\n",
        "Y_pred=DT_model.predict(X_test)\n",
        "print(\"accurary : {:.3f}\".format(DT_model.score(X_train,Y_train)))\n",
        "print(classification_report(Y_test,Y_pred))"
      ],
      "metadata": {
        "colab": {
          "base_uri": "https://localhost:8080/"
        },
        "id": "NUkGbgSYpgqe",
        "outputId": "bb77bf82-5be4-48fc-ba5f-7ae6904abd5f"
      },
      "execution_count": 34,
      "outputs": [
        {
          "output_type": "stream",
          "name": "stdout",
          "text": [
            "accurary : 0.339\n",
            "              precision    recall  f1-score   support\n",
            "\n",
            "           1       0.10      0.41      0.16        76\n",
            "           2       0.13      0.20      0.16       120\n",
            "           3       0.45      0.39      0.42       386\n",
            "           4       0.35      0.08      0.14       333\n",
            "\n",
            "    accuracy                           0.26       915\n",
            "   macro avg       0.26      0.27      0.22       915\n",
            "weighted avg       0.35      0.26      0.26       915\n",
            "\n"
          ]
        }
      ]
    },
    {
      "cell_type": "code",
      "source": [
        "#feature importance (변수 중요도) : 변수의 영향 확인(가중치β와 유사)\n",
        "feature_name=X.columns\n",
        "feature_importance=DT_model.feature_importances_\n",
        "sorted(zip(feature_importance,feature_name),reverse=True)"
      ],
      "metadata": {
        "colab": {
          "base_uri": "https://localhost:8080/"
        },
        "id": "5yNeJvAGpvR3",
        "outputId": "a7a711d4-f526-4a80-d5ce-a33bd45f1818"
      },
      "execution_count": 35,
      "outputs": [
        {
          "output_type": "execute_result",
          "data": {
            "text/plain": [
              "[(0.717563842949815, 'occupation'),\n",
              " (0.22975767746672376, 'diet_purpose'),\n",
              " (0.05267847958346117, 'sex'),\n",
              " (0.0, 'married'),\n",
              " (0.0, 'dise_yn')]"
            ]
          },
          "metadata": {},
          "execution_count": 35
        }
      ]
    },
    {
      "cell_type": "code",
      "source": [
        "X = data[['bmi_g', 'height', 'weight', 'want_diet','weight_reduce', 'waist', 'heap']]\n",
        "Y = data['p_category']\n",
        "\n",
        "X_train,X_test,Y_train,Y_test=train_test_split(X,Y,test_size=0.3,random_state=0)\n",
        "\n",
        "smote=SMOTE(random_state=0)\n",
        "X_train,Y_train=smote.fit_resample(X_train,Y_train)\n",
        "\n",
        "\n",
        "DT_model=DecisionTreeClassifier(random_state=0,max_depth=3) #깊이=층\n",
        "DT_model.fit(X_train,Y_train)\n",
        "Y_pred=DT_model.predict(X_test)\n",
        "print(\"accurary : {:.3f}\".format(DT_model.score(X_train,Y_train)))\n",
        "print(classification_report(Y_test,Y_pred))"
      ],
      "metadata": {
        "colab": {
          "base_uri": "https://localhost:8080/"
        },
        "id": "io6AQ1dFp00C",
        "outputId": "825ef743-7c96-428f-f3b7-000276e246bb"
      },
      "execution_count": 36,
      "outputs": [
        {
          "output_type": "stream",
          "name": "stdout",
          "text": [
            "accurary : 0.407\n",
            "              precision    recall  f1-score   support\n",
            "\n",
            "           1       0.17      0.64      0.27        76\n",
            "           2       0.14      0.46      0.21       120\n",
            "           3       0.50      0.15      0.23       386\n",
            "           4       0.47      0.14      0.22       333\n",
            "\n",
            "    accuracy                           0.23       915\n",
            "   macro avg       0.32      0.35      0.23       915\n",
            "weighted avg       0.41      0.23      0.23       915\n",
            "\n"
          ]
        }
      ]
    },
    {
      "cell_type": "code",
      "source": [
        "#feature importance (변수 중요도) : 변수의 영향 확인(가중치β와 유사)\n",
        "feature_name=X.columns\n",
        "feature_importance=DT_model.feature_importances_\n",
        "sorted(zip(feature_importance,feature_name),reverse=True)"
      ],
      "metadata": {
        "colab": {
          "base_uri": "https://localhost:8080/"
        },
        "id": "d4SurzEDp0aa",
        "outputId": "d229ce51-601f-4b90-9662-5001a6ce3b0e"
      },
      "execution_count": 37,
      "outputs": [
        {
          "output_type": "execute_result",
          "data": {
            "text/plain": [
              "[(0.5535837282357364, 'want_diet'),\n",
              " (0.26713090737294265, 'weight_reduce'),\n",
              " (0.179285364391321, 'height'),\n",
              " (0.0, 'weight'),\n",
              " (0.0, 'waist'),\n",
              " (0.0, 'heap'),\n",
              " (0.0, 'bmi_g')]"
            ]
          },
          "metadata": {},
          "execution_count": 37
        }
      ]
    },
    {
      "cell_type": "markdown",
      "source": [
        "### SVM"
      ],
      "metadata": {
        "id": "DSA-OSYLoeQL"
      }
    },
    {
      "cell_type": "code",
      "source": [
        "from sklearn.svm import SVC"
      ],
      "metadata": {
        "id": "Ie0Cy7b7oeC5"
      },
      "execution_count": 38,
      "outputs": []
    },
    {
      "cell_type": "code",
      "source": [
        "from sklearn.datasets import load_iris\n",
        "from sklearn.model_selection import train_test_split\n",
        "from sklearn.inspection import permutation_importance\n"
      ],
      "metadata": {
        "id": "tKoAVo6prDRY"
      },
      "execution_count": 47,
      "outputs": []
    },
    {
      "cell_type": "code",
      "source": [
        "X = data[['occupation', 'sex', 'married','dise_yn', 'diet_purpose']]\n",
        "Y = data['p_category']\n",
        "\n",
        "X_train,X_test,Y_train,Y_test=train_test_split(X,Y,test_size=0.3,random_state=0)\n",
        "\n",
        "smote=SMOTE(random_state=0)\n",
        "X_train,Y_train=smote.fit_resample(X_train,Y_train)\n",
        "\n",
        "SVC_model=SVC(C=1000,gamma=10,random_state=0)\n",
        "SVC_model.fit(X_train,Y_train)\n",
        "Y_pred=SVC_model.predict(X_test)\n",
        "print(\"accurary : {:.3f}\".format(SVC_model.score(X_train,Y_train)))\n",
        "print(classification_report(Y_test,Y_pred))"
      ],
      "metadata": {
        "colab": {
          "base_uri": "https://localhost:8080/"
        },
        "id": "KZuTdG1sqQHc",
        "outputId": "7529b360-2a71-4aa7-fde2-ac912461a987"
      },
      "execution_count": 44,
      "outputs": [
        {
          "output_type": "stream",
          "name": "stdout",
          "text": [
            "accurary : 0.445\n",
            "              precision    recall  f1-score   support\n",
            "\n",
            "           1       0.11      0.30      0.16        76\n",
            "           2       0.13      0.25      0.17       120\n",
            "           3       0.38      0.09      0.15       386\n",
            "           4       0.39      0.44      0.42       333\n",
            "\n",
            "    accuracy                           0.26       915\n",
            "   macro avg       0.25      0.27      0.22       915\n",
            "weighted avg       0.33      0.26      0.25       915\n",
            "\n"
          ]
        }
      ]
    },
    {
      "cell_type": "code",
      "source": [
        "# Use permutation importance to calculate feature importances\n",
        "result = permutation_importance(SVC_model, X_test, Y_test, n_repeats=10, random_state=42, n_jobs=-1)\n",
        "\n",
        "# Print the feature importances\n",
        "for i in result.importances_mean.argsort()[::-1]:\n",
        "    print(f\"{i+1}. {X_train.columns[i]}: {result.importances_mean[i]:.3f}\")"
      ],
      "metadata": {
        "colab": {
          "base_uri": "https://localhost:8080/"
        },
        "id": "VHcDCGDfqcMH",
        "outputId": "f7348e4a-e285-46f3-af3e-ac7d6745ada9"
      },
      "execution_count": 49,
      "outputs": [
        {
          "output_type": "stream",
          "name": "stdout",
          "text": [
            "2. sex: -0.000\n",
            "5. diet_purpose: -0.005\n",
            "3. married: -0.007\n",
            "1. occupation: -0.013\n",
            "4. dise_yn: -0.027\n"
          ]
        }
      ]
    },
    {
      "cell_type": "code",
      "source": [
        "X = data[['bmi_g', 'height', 'weight', 'want_diet','weight_reduce', 'waist', 'heap']]\n",
        "Y = data['p_category']\n",
        "\n",
        "X_train,X_test,Y_train,Y_test=train_test_split(X,Y,test_size=0.3,random_state=0)\n",
        "\n",
        "smote=SMOTE(random_state=0)\n",
        "X_train,Y_train=smote.fit_resample(X_train,Y_train)\n",
        "\n",
        "SVC_model=SVC(C=1000,gamma=10,random_state=0)\n",
        "SVC_model.fit(X_train,Y_train)\n",
        "Y_pred=SVC_model.predict(X_test)\n",
        "print(\"accurary : {:.3f}\".format(SVC_model.score(X_train,Y_train)))\n",
        "print(classification_report(Y_test,Y_pred))"
      ],
      "metadata": {
        "colab": {
          "base_uri": "https://localhost:8080/"
        },
        "id": "vnKVGkOTqX12",
        "outputId": "93bd8576-159b-4670-d0b5-0847c8997ff0"
      },
      "execution_count": 50,
      "outputs": [
        {
          "output_type": "stream",
          "name": "stdout",
          "text": [
            "accurary : 0.937\n",
            "              precision    recall  f1-score   support\n",
            "\n",
            "           1       0.33      0.18      0.24        76\n",
            "           2       0.47      0.23      0.31       120\n",
            "           3       0.48      0.88      0.62       386\n",
            "           4       0.63      0.22      0.32       333\n",
            "\n",
            "    accuracy                           0.49       915\n",
            "   macro avg       0.48      0.38      0.37       915\n",
            "weighted avg       0.52      0.49      0.44       915\n",
            "\n"
          ]
        }
      ]
    },
    {
      "cell_type": "code",
      "source": [
        "# Use permutation importance to calculate feature importances\n",
        "result = permutation_importance(SVC_model, X_test, Y_test, n_repeats=10, random_state=42, n_jobs=-1)\n",
        "\n",
        "# Print the feature importances\n",
        "for i in result.importances_mean.argsort()[::-1]:\n",
        "    print(f\"{i+1}. {X_train.columns[i]}: {result.importances_mean[i]:.3f}\")"
      ],
      "metadata": {
        "colab": {
          "base_uri": "https://localhost:8080/"
        },
        "id": "qtXQxlRvsQje",
        "outputId": "b5d2f5a6-9bb2-4fdc-fdbe-06e6274070dc"
      },
      "execution_count": 51,
      "outputs": [
        {
          "output_type": "stream",
          "name": "stdout",
          "text": [
            "2. height: 0.069\n",
            "4. want_diet: 0.068\n",
            "3. weight: 0.068\n",
            "5. weight_reduce: 0.064\n",
            "6. waist: 0.059\n",
            "7. heap: 0.044\n",
            "1. bmi_g: 0.038\n"
          ]
        }
      ]
    },
    {
      "cell_type": "markdown",
      "source": [
        "### Naive Bayes"
      ],
      "metadata": {
        "id": "DgTECpMlscuj"
      }
    },
    {
      "cell_type": "code",
      "source": [
        "from sklearn.naive_bayes import GaussianNB"
      ],
      "metadata": {
        "id": "n4wU9vCfsuJN"
      },
      "execution_count": 52,
      "outputs": []
    },
    {
      "cell_type": "code",
      "source": [
        "X = data[['occupation', 'sex', 'married','dise_yn', 'diet_purpose']]\n",
        "Y = data['p_category']\n",
        "\n",
        "X_train,X_test,Y_train,Y_test=train_test_split(X,Y,test_size=0.3,random_state=0)\n",
        "\n",
        "smote=SMOTE(random_state=0)\n",
        "X_train,Y_train=smote.fit_resample(X_train,Y_train)\n",
        "\n",
        "NB_model=GaussianNB(var_smoothing=0)\n",
        "NB_model.fit(X_train,Y_train)\n",
        "Y_pred=NB_model.predict(X_test)\n",
        "print(\"accurary : {:.3f}\".format(NB_model.score(X_train,Y_train)))\n",
        "print(classification_report(Y_test,Y_pred))"
      ],
      "metadata": {
        "colab": {
          "base_uri": "https://localhost:8080/"
        },
        "id": "MJ59KWeAsRR2",
        "outputId": "c9fa90e2-c1d1-461d-9acf-a47577ff5df7"
      },
      "execution_count": 53,
      "outputs": [
        {
          "output_type": "stream",
          "name": "stdout",
          "text": [
            "accurary : 0.276\n",
            "              precision    recall  f1-score   support\n",
            "\n",
            "           1       0.10      0.09      0.10        76\n",
            "           2       0.12      0.76      0.21       120\n",
            "           3       0.29      0.03      0.05       386\n",
            "           4       0.47      0.10      0.16       333\n",
            "\n",
            "    accuracy                           0.15       915\n",
            "   macro avg       0.25      0.24      0.13       915\n",
            "weighted avg       0.32      0.15      0.12       915\n",
            "\n"
          ]
        }
      ]
    },
    {
      "cell_type": "code",
      "source": [
        "X = data[['bmi_g', 'height', 'weight', 'want_diet','weight_reduce', 'waist', 'heap']]\n",
        "Y = data['p_category']\n",
        "\n",
        "X_train,X_test,Y_train,Y_test=train_test_split(X,Y,test_size=0.3,random_state=0)\n",
        "\n",
        "smote=SMOTE(random_state=0)\n",
        "X_train,Y_train=smote.fit_resample(X_train,Y_train)\n",
        "\n",
        "NB_model=GaussianNB(var_smoothing=0)\n",
        "NB_model.fit(X_train,Y_train)\n",
        "Y_pred=NB_model.predict(X_test)\n",
        "print(\"accurary : {:.3f}\".format(NB_model.score(X_train,Y_train)))\n",
        "print(classification_report(Y_test,Y_pred))"
      ],
      "metadata": {
        "colab": {
          "base_uri": "https://localhost:8080/"
        },
        "id": "btA2r5wMswDp",
        "outputId": "887efae7-70ff-4bbc-a07b-f37da00f479d"
      },
      "execution_count": 54,
      "outputs": [
        {
          "output_type": "stream",
          "name": "stdout",
          "text": [
            "accurary : 0.403\n",
            "              precision    recall  f1-score   support\n",
            "\n",
            "           1       0.19      0.72      0.30        76\n",
            "           2       0.19      0.28      0.22       120\n",
            "           3       0.48      0.52      0.50       386\n",
            "           4       0.33      0.04      0.07       333\n",
            "\n",
            "    accuracy                           0.33       915\n",
            "   macro avg       0.30      0.39      0.28       915\n",
            "weighted avg       0.37      0.33      0.29       915\n",
            "\n"
          ]
        }
      ]
    },
    {
      "cell_type": "markdown",
      "source": [
        "### gradient boost"
      ],
      "metadata": {
        "id": "w4zEgb1RtcBd"
      }
    },
    {
      "cell_type": "code",
      "source": [
        "from sklearn.ensemble import GradientBoostingClassifier"
      ],
      "metadata": {
        "id": "lA3DA50ZuMIE"
      },
      "execution_count": 56,
      "outputs": []
    },
    {
      "cell_type": "code",
      "source": [
        "#1.변수선택\n",
        "X = data[['occupation', 'sex', 'married','dise_yn', 'diet_purpose']]\n",
        "Y = data['p_category']\n",
        "\n",
        "#2.데이터 전처리(preprocessing)\n",
        "X = pd.get_dummies(X)\n",
        "\n",
        "#3.train-test split\n",
        "X_train,X_test,Y_train,Y_test=train_test_split(X,Y,test_size=0.3,random_state=0)\n",
        "\n",
        "#4.오버샘플링\n",
        "smote=SMOTE(random_state=0)\n",
        "X_train,Y_train=smote.fit_resample(X_train,Y_train)\n",
        "\n",
        "#5.모형생성\n",
        "model=GradientBoostingClassifier(random_state=0,n_estimators=100,max_depth=4,learning_rate=0.1)\n",
        "\n",
        "#6.모형학습 예측\n",
        "model.fit(X_train,Y_train)\n",
        "Y_pred=model.predict(X_test)\n",
        "print(\"accuracy(test) : {:.3f}\".format(model.score(X_test,Y_test)))\n",
        "print(classification_report(Y_test,Y_pred))"
      ],
      "metadata": {
        "colab": {
          "base_uri": "https://localhost:8080/"
        },
        "id": "lJ2Dx1mAs1ZP",
        "outputId": "7f946b01-b652-4e87-9854-4f4c39d56122"
      },
      "execution_count": 58,
      "outputs": [
        {
          "output_type": "stream",
          "name": "stdout",
          "text": [
            "accuracy(test) : 0.262\n",
            "              precision    recall  f1-score   support\n",
            "\n",
            "           1       0.09      0.25      0.14        76\n",
            "           2       0.13      0.24      0.17       120\n",
            "           3       0.41      0.22      0.28       386\n",
            "           4       0.38      0.33      0.35       333\n",
            "\n",
            "    accuracy                           0.26       915\n",
            "   macro avg       0.25      0.26      0.23       915\n",
            "weighted avg       0.34      0.26      0.28       915\n",
            "\n"
          ]
        }
      ]
    },
    {
      "cell_type": "code",
      "source": [
        "#1.변수선택\n",
        "X = data[['bmi_g', 'height', 'weight', 'want_diet','weight_reduce', 'waist', 'heap']]\n",
        "Y = data['p_category']\n",
        "\n",
        "#2.데이터 전처리(preprocessing)\n",
        "X = pd.get_dummies(X)\n",
        "\n",
        "#3.train-test split\n",
        "X_train,X_test,Y_train,Y_test=train_test_split(X,Y,test_size=0.3,random_state=0)\n",
        "\n",
        "#4.오버샘플링\n",
        "smote=SMOTE(random_state=0)\n",
        "X_train,Y_train=smote.fit_resample(X_train,Y_train)\n",
        "\n",
        "#5.모형생성\n",
        "model=GradientBoostingClassifier(random_state=0,n_estimators=100,max_depth=4,learning_rate=0.1)\n",
        "\n",
        "#6.모형학습 예측\n",
        "model.fit(X_train,Y_train)\n",
        "Y_pred=model.predict(X_test)\n",
        "print(\"accuracy(test) : {:.3f}\".format(model.score(X_test,Y_test)))\n",
        "print(classification_report(Y_test,Y_pred))"
      ],
      "metadata": {
        "colab": {
          "base_uri": "https://localhost:8080/"
        },
        "id": "I1tAO2vPtmyh",
        "outputId": "de7fd2e4-0b88-4dbb-e415-3ed3b4bdda87"
      },
      "execution_count": 59,
      "outputs": [
        {
          "output_type": "stream",
          "name": "stdout",
          "text": [
            "accuracy(test) : 0.416\n",
            "              precision    recall  f1-score   support\n",
            "\n",
            "           1       0.28      0.45      0.34        76\n",
            "           2       0.21      0.20      0.20       120\n",
            "           3       0.50      0.59      0.54       386\n",
            "           4       0.44      0.29      0.35       333\n",
            "\n",
            "    accuracy                           0.42       915\n",
            "   macro avg       0.35      0.38      0.36       915\n",
            "weighted avg       0.42      0.42      0.41       915\n",
            "\n"
          ]
        }
      ]
    },
    {
      "cell_type": "code",
      "source": [
        "# get feature importance\n",
        "feature_importance = model.feature_importances_\n",
        "\n",
        "# print the feature importance\n",
        "for feature, importance in zip(X_train.columns, feature_importance):\n",
        "    print(\"{}: {}\".format(feature, importance))"
      ],
      "metadata": {
        "colab": {
          "base_uri": "https://localhost:8080/"
        },
        "id": "KRuY6m0eucqH",
        "outputId": "4d3b8519-3359-46d5-c710-1db2bbd41984"
      },
      "execution_count": 60,
      "outputs": [
        {
          "output_type": "stream",
          "name": "stdout",
          "text": [
            "bmi_g: 0.027178567031753517\n",
            "height: 0.20537384764603328\n",
            "weight: 0.10944121983132411\n",
            "want_diet: 0.2757502976670159\n",
            "weight_reduce: 0.18933638844331532\n",
            "waist: 0.08674468912379663\n",
            "heap: 0.10617499025676128\n"
          ]
        }
      ]
    },
    {
      "cell_type": "code",
      "source": [],
      "metadata": {
        "id": "tluvFLTcuvPM"
      },
      "execution_count": null,
      "outputs": []
    }
  ]
}